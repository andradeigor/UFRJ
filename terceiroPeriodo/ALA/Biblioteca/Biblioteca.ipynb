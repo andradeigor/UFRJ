{
 "cells": [
  {
   "cell_type": "code",
   "execution_count": 63,
   "metadata": {},
   "outputs": [],
   "source": [
    "using RowEchelon\n",
    "using LinearAlgebra"
   ]
  },
  {
   "cell_type": "code",
   "execution_count": 64,
   "metadata": {},
   "outputs": [
    {
     "data": {
      "text/plain": [
       "norma (generic function with 1 method)"
      ]
     },
     "metadata": {},
     "output_type": "display_data"
    }
   ],
   "source": [
    "function norma(x)#Função do grupo 11 usada por outros grupos\n",
    "    tam = x'x\n",
    "    return sqrt(tam)\n",
    "end"
   ]
  },
  {
   "cell_type": "code",
   "execution_count": 65,
   "metadata": {},
   "outputs": [
    {
     "data": {
      "text/plain": [
       "ta_na_reta (generic function with 1 method)"
      ]
     },
     "metadata": {},
     "output_type": "display_data"
    }
   ],
   "source": [
    "# Função que, dado um vetor que gera uma reta, determina se outro vetor está nessa reta.\n",
    "# Entrada: Vetor e vetor gerador da reta.\n",
    "# Saída: Booleano (true ou false).\n",
    "# Utiliza a função vetor_perpendicular.  \n",
    "\n",
    "function ta_na_reta(vetor, vetor_gerador)\n",
    "    return (vetor' * vetor_perpendicular(vetor_gerador) == 0)\n",
    "end"
   ]
  },
  {
   "cell_type": "code",
   "execution_count": 66,
   "metadata": {},
   "outputs": [
    {
     "data": {
      "text/plain": [
       "ta_no_plano (generic function with 1 method)"
      ]
     },
     "metadata": {},
     "output_type": "display_data"
    }
   ],
   "source": [
    "# Função que, dados dois vetores geradores de um plano, determina se outro vetor está nesse plano.\n",
    "# Entrada: Vetor, gerador1 (vetor gerador do plano) e gerador2 (vetor gerador do plano).\n",
    "# Saída: Booleano (true ou false).\n",
    "# Utiliza a função vetor_perpendicular.\n",
    "\n",
    "function ta_no_plano(vetor, gerador1, gerador2)\n",
    "    return (vetor' * vetor_perpendicular(gerador1, gerador2) == 0)\n",
    "end"
   ]
  },
  {
   "cell_type": "code",
   "execution_count": 67,
   "metadata": {},
   "outputs": [
    {
     "data": {
      "text/plain": [
       "posto (generic function with 1 method)"
      ]
     },
     "metadata": {},
     "output_type": "display_data"
    }
   ],
   "source": [
    "# Função que, dada uma matriz qualquer A, utiliza \"Gauss-Jordan\" para encontrar o posto (número de colunas com pivô) de A.\n",
    "# Entrada: Matriz A qualquer.\n",
    "# Saída: Escalar (posto de A).\n",
    "# Utiliza a função \"rref_with_pivots\".\n",
    "\n",
    "function posto(A)#Testada\n",
    "    C,pivos = rref_with_pivots(A) \n",
    "    return count(i-> (i > 0), pivos)\n",
    "end"
   ]
  },
  {
   "cell_type": "code",
   "execution_count": 68,
   "metadata": {},
   "outputs": [
    {
     "data": {
      "text/plain": [
       "distancia_vetor_reta (generic function with 1 method)"
      ]
     },
     "metadata": {},
     "output_type": "display_data"
    }
   ],
   "source": [
    "# Função que, dados um vetor e uma reta, calcula a distância entre eles.\n",
    "# Entrada: Um vetor qualquer e o vetor gerador de uma reta.\n",
    "# Saída: Escalar (distância entre o vetor e a reta).\n",
    "# Utiliza a função projecao_ortogonal_na_reta e a função distancia.\n",
    "\n",
    "function distancia_vetor_reta(vetor, vetor_gerador)\n",
    "    return distancia(vetor, projecao_ortogonal_na_reta(vetor, vetor_gerador))\n",
    "end\n"
   ]
  },
  {
   "cell_type": "code",
   "execution_count": 69,
   "metadata": {},
   "outputs": [
    {
     "data": {
      "text/plain": [
       "potenciacao (generic function with 1 method)"
      ]
     },
     "metadata": {},
     "output_type": "display_data"
    }
   ],
   "source": [
    "# Função que, dada uma matriz quadrada A e um natural k, determina A^k.\n",
    "# Entrada: Matriz quadrada A e um natural k.\n",
    "# Saída: Matriz P = A^k.\n",
    "\n",
    "function potenciacao(A, k)#Testada, da erro\n",
    "    dimensao = size(A)[1]\n",
    "    P = Matrix{Float64}(I, dimensao, dimensao)\n",
    "    for i in 1:k\n",
    "        P *= A\n",
    "    end\n",
    "    return P\n",
    "end"
   ]
  },
  {
   "cell_type": "code",
   "execution_count": 70,
   "metadata": {},
   "outputs": [
    {
     "data": {
      "text/plain": [
       "projecao_ortogonal_no_plano (generic function with 1 method)"
      ]
     },
     "metadata": {},
     "output_type": "display_data"
    }
   ],
   "source": [
    "# Função que determina a projeção de um dado vetor em um plano.\n",
    "# Entrada: Vetor, gerador1 (vetor gerador do plano) e gerador2 (vetor gerador do plano).\n",
    "# Saída: Vetor projeção no plano.\n",
    "# Utiliza a função vetor_perpendicular e a função projecao_ortogonal_na_reta\n",
    "\n",
    "function projecao_ortogonal_no_plano(vetor, gerador1, gerador2)\n",
    "    normal = vetor_perpendicular(gerador1, gerador2)\n",
    "    projecao_normal = projecao_ortogonal_na_reta(vetor, normal)\n",
    "    return (vetor - projecao_normal)\n",
    "end"
   ]
  },
  {
   "cell_type": "code",
   "execution_count": 71,
   "metadata": {},
   "outputs": [
    {
     "data": {
      "text/plain": [
       "detDois (generic function with 1 method)"
      ]
     },
     "metadata": {},
     "output_type": "display_data"
    }
   ],
   "source": [
    "function detDois(A)#Corrigido um erro que verificava se a matriz era 3x3 e não 2x2, funciona.\n",
    "\tif size(A) != (2, 2)\n",
    "\t\treturn print(\"Tamanho diferente de 2x2\")\n",
    "\tend\n",
    "\treturn A[1, 1] *A[2, 2] - A[1, 2]*A[2, 1]\n",
    "end"
   ]
  },
  {
   "cell_type": "code",
   "execution_count": 72,
   "metadata": {},
   "outputs": [
    {
     "data": {
      "text/plain": [
       "infinitas (generic function with 1 method)"
      ]
     },
     "metadata": {},
     "output_type": "display_data"
    }
   ],
   "source": [
    "#Função retorna as infinitas soluções do sistema Ax=0\n",
    "# Só funciona com o exemplo abaixo\n",
    "function infinitas(A)\n",
    "    \n",
    "    linha=0\n",
    "    col=0\n",
    "    C,pivôs=rref_with_pivots(A)\n",
    "    \n",
    "    lixo, tamVetor = size(A)                #nesse exemplo = 5\n",
    "    numPivos, = size(pivôs)                 #nesse exemplo = 3\n",
    "    numVarLivres = tamVetor - numPivos      #nesse exemplo = 2\n",
    "    sol=zeros(tamVetor,numVarLivres)        #nesse exemplo = Matriz 5x2\n",
    "\n",
    "    sol[2,1]=1\n",
    "    sol[5,2]=1\n",
    "\n",
    "    for i=1:3\n",
    "        for j=1:5\n",
    "           if (C[i,j]==1) \n",
    "                linha=j\n",
    "           end\n",
    "           if (C[i,j]>1)\n",
    "                if(j==2)\n",
    "                    col=1\n",
    "                end\n",
    "                if(j==5)\n",
    "                    col=2\n",
    "                end \n",
    "                sol[linha,col]=-C[i,j]\n",
    "            end\n",
    "        end\n",
    "    end\n",
    "\n",
    "    return sol\n",
    "end"
   ]
  },
  {
   "cell_type": "code",
   "execution_count": 73,
   "metadata": {},
   "outputs": [
    {
     "data": {
      "text/plain": [
       "eh_colinear (generic function with 1 method)"
      ]
     },
     "metadata": {},
     "output_type": "display_data"
    }
   ],
   "source": [
    "function eh_colinear(v,w)#Não funciona\n",
    "    norma1 = sqrt((v' * v))\n",
    "    norma2 = sqrt((w' * w))\n",
    "    produto_interno = v' * w\n",
    "    cosseno = produto_interno/(norma1 * norma2)\n",
    "    if cosseno == 1.0 || cosseno == -1.0\n",
    "        return true\n",
    "    end\n",
    "    return false\n",
    "end"
   ]
  },
  {
   "cell_type": "code",
   "execution_count": 74,
   "metadata": {},
   "outputs": [
    {
     "data": {
      "text/plain": [
       "diagonalizacao_2x2 (generic function with 1 method)"
      ]
     },
     "metadata": {},
     "output_type": "display_data"
    }
   ],
   "source": [
    "function diagonalizacao_2x2(A)#Não funciona\n",
    "    a = 1\n",
    "    b = - A[1,1] - A[2,2]\n",
    "    c = A[1,1]*A[2,2] - A[1,2]*A[2,1]\n",
    "    delta = b^2 - 4*a*c\n",
    "    if delta < 0\n",
    "        return \"autovalores do vetor não existe\"\n",
    "    end\n",
    "    x1 = (-b + sqrt(delta))/(2*a)\n",
    "    x2 = (-b - sqrt(delta))/(2*a)\n",
    "    B1 = A - x1*I\n",
    "    B2 = A - x2*I\n",
    "    V1 = B1 \\ [0;0]\n",
    "    V2 = B2 \\ [0;0]\n",
    "    matriz_diagonal = [V1 V2]\n",
    "    D = [x1 0; 0 x2]\n",
    "    inversa_matriz_diagonal = inverse(matriz_diagonal)\n",
    "    return C, D, inversa_matriz_diagonal \n",
    "end   "
   ]
  },
  {
   "cell_type": "code",
   "execution_count": 75,
   "metadata": {},
   "outputs": [
    {
     "data": {
      "text/plain": [
       "bhaskara (generic function with 1 method)"
      ]
     },
     "metadata": {},
     "output_type": "display_data"
    }
   ],
   "source": [
    "function bhaskara(a, b, c)#Funciona\n",
    "    delta = b^2 - 4a*c\n",
    "    if delta >= 0\n",
    "        delta = sqrt(delta)\n",
    "    else\n",
    "        return \"ERRO\", \"ERRO\"\n",
    "    end\n",
    "    return (-b - delta) / 2a, (-b + delta) / 2a\n",
    "end"
   ]
  },
  {
   "cell_type": "code",
   "execution_count": 76,
   "metadata": {},
   "outputs": [
    {
     "data": {
      "text/plain": [
       "autovalores (generic function with 1 method)"
      ]
     },
     "metadata": {},
     "output_type": "display_data"
    }
   ],
   "source": [
    "function autovalores(A)#Roda\n",
    "    b = -(A[1, 1] + A[2, 2])\n",
    "    c = A[1, 1] * A[2, 2] - A[1, 2] * A[2, 1]\n",
    "    lambda1, lambda2 = bhaskara(1,b,c)\n",
    "        \n",
    "    return lambda1, lambda2\n",
    "end"
   ]
  },
  {
   "cell_type": "code",
   "execution_count": 77,
   "metadata": {},
   "outputs": [
    {
     "data": {
      "text/plain": [
       "eh_ortogonal (generic function with 1 method)"
      ]
     },
     "metadata": {},
     "output_type": "display_data"
    }
   ],
   "source": [
    "function eh_ortogonal(A)# Funciona\n",
    "    return (A*A' == A*inv(A))\n",
    "end"
   ]
  },
  {
   "cell_type": "code",
   "execution_count": 78,
   "metadata": {},
   "outputs": [
    {
     "data": {
      "text/plain": [
       "matriz_rotacao (generic function with 1 method)"
      ]
     },
     "metadata": {},
     "output_type": "display_data"
    }
   ],
   "source": [
    "function matriz_rotacao(teta)#Funciona\n",
    "    A = [cos(teta) -(sin(teta)) ; sin(teta) cos(teta)]\n",
    "    return A\n",
    "end"
   ]
  },
  {
   "cell_type": "code",
   "execution_count": 79,
   "metadata": {},
   "outputs": [
    {
     "data": {
      "text/plain": [
       "projecao_ortogonal (generic function with 1 method)"
      ]
     },
     "metadata": {},
     "output_type": "display_data"
    }
   ],
   "source": [
    "function projecao_ortogonal(A, B)#Não funciona pq não tem normalizar\n",
    "    return (B' * normalizar(A)) * normalizar(A)\n",
    "end"
   ]
  },
  {
   "cell_type": "code",
   "execution_count": 80,
   "metadata": {},
   "outputs": [
    {
     "data": {
      "text/plain": [
       "determinante3x3 (generic function with 1 method)"
      ]
     },
     "metadata": {},
     "output_type": "display_data"
    }
   ],
   "source": [
    "function determinante3x3(A)#Funciona\n",
    "    if size(A) != (3, 3)\n",
    "        return print(\"O tamanho não é 3x3\")\n",
    "    end\n",
    "    return A[1,1] * A[2,2] * A[3,3] + A[1,2] * A[2,3] * A[3,1] + A[1,3] * A[2,1] + A[3,2] - A[1,3] * A[2,2] * A[3,1] - A[1,1] * A[2,3] *A[3,2] - A[1,2] * A[2,1] * A[3,3]\n",
    "end "
   ]
  },
  {
   "cell_type": "code",
   "execution_count": 81,
   "metadata": {},
   "outputs": [
    {
     "data": {
      "text/plain": [
       "n_vetores_colineares (generic function with 1 method)"
      ]
     },
     "metadata": {},
     "output_type": "display_data"
    }
   ],
   "source": [
    "function n_vetores_colineares(n)#Funciona\n",
    "    list = Array{Float64}(undef, 2, 0)\n",
    "    vetor = rand(1:100, 2)\n",
    "    for i in 1:n\n",
    "        list = hcat(list,(rand(1: 100)[1] % 100 * vetor))\n",
    "    end\n",
    "    return list\n",
    "end"
   ]
  },
  {
   "cell_type": "code",
   "execution_count": 82,
   "metadata": {},
   "outputs": [
    {
     "data": {
      "text/plain": [
       "n_vetores_coplanares (generic function with 1 method)"
      ]
     },
     "metadata": {},
     "output_type": "display_data"
    }
   ],
   "source": [
    "function n_vetores_coplanares(n)#Roda\n",
    "    list = Array{Float64}(undef, 3, 0)\n",
    "    vetor1 = rand(1: 100, 3)\n",
    "    vetor2 = rand(1: 100, 3)\n",
    "    for i in 1:n    \n",
    "        list = hcat(list, (rand(1:100)[1]) % 100 * vetor1 + (rand(1:100)[1] % 100 * vetor2))\n",
    "    end\n",
    "    return list\n",
    "end\n"
   ]
  },
  {
   "cell_type": "code",
   "execution_count": 83,
   "metadata": {},
   "outputs": [
    {
     "data": {
      "text/plain": [
       "distancia_minima (generic function with 1 method)"
      ]
     },
     "metadata": {},
     "output_type": "display_data"
    }
   ],
   "source": [
    "function distancia_minima(A, b)#A função projecao_ortogonal_no_plano usa uma função que não existe, não funciona\n",
    "    p = projecao_ortogonal_no_plano(A, b)\n",
    "    return norma(b - p)\n",
    "end"
   ]
  },
  {
   "cell_type": "code",
   "execution_count": 84,
   "metadata": {},
   "outputs": [
    {
     "data": {
      "text/plain": [
       "representacao_explicita_reta_r2 (generic function with 1 method)"
      ]
     },
     "metadata": {},
     "output_type": "display_data"
    }
   ],
   "source": [
    "function representacao_explicita_reta_r2(a)#Funciona\n",
    "    return [-a[2,1]; a[1,1]]\n",
    "end"
   ]
  },
  {
   "cell_type": "code",
   "execution_count": 85,
   "metadata": {},
   "outputs": [
    {
     "data": {
      "text/plain": [
       "representacao_explicita_reta_r3 (generic function with 1 method)"
      ]
     },
     "metadata": {},
     "output_type": "display_data"
    }
   ],
   "source": [
    "function representacao_explicita_reta_r3(a, b)# Usa uma função que não foi feita\n",
    "    A = [a'; b']\n",
    "    return infinitas_solucoes_zero(A)[:, 1]\n",
    "end\n"
   ]
  },
  {
   "cell_type": "code",
   "execution_count": 86,
   "metadata": {},
   "outputs": [
    {
     "data": {
      "text/plain": [
       "representacao_explicita_plano_r3 (generic function with 1 method)"
      ]
     },
     "metadata": {},
     "output_type": "display_data"
    }
   ],
   "source": [
    "function representacao_explicita_plano_r3(a)#Usa uma função que não foi feita\n",
    "    A = [a']\n",
    "    S = infinitas_solucoes_zero(A)\n",
    "    return S[:, 1], S[:, 2]\n",
    "end"
   ]
  },
  {
   "cell_type": "code",
   "execution_count": 87,
   "metadata": {},
   "outputs": [
    {
     "data": {
      "text/plain": [
       "gera_matriz_identidade (generic function with 1 method)"
      ]
     },
     "metadata": {},
     "output_type": "display_data"
    }
   ],
   "source": [
    "function gera_matriz_identidade(tamanho)#Funciona\n",
    "    identidade = zeros(tamanho,tamanho)\n",
    "    for i in 1:tamanho\n",
    "        identidade[i,i] = 1.0\n",
    "    end\n",
    "    return identidade\n",
    "end"
   ]
  },
  {
   "cell_type": "code",
   "execution_count": 88,
   "metadata": {},
   "outputs": [
    {
     "data": {
      "text/plain": [
       "eh_matriz_ortogonal (generic function with 1 method)"
      ]
     },
     "metadata": {},
     "output_type": "display_data"
    }
   ],
   "source": [
    "function eh_matriz_ortogonal(v)#Dupliacada\n",
    "    tamanho1, tamanho2 = size(v)\n",
    "    identidade = gera_matriz_identidade(tamanho2)\n",
    "    return v'v == identidade\n",
    "end"
   ]
  },
  {
   "cell_type": "code",
   "execution_count": 89,
   "metadata": {},
   "outputs": [
    {
     "data": {
      "text/plain": [
       "distancia_vetor_plano_com_vetor_perpendicular (generic function with 1 method)"
      ]
     },
     "metadata": {},
     "output_type": "display_data"
    }
   ],
   "source": [
    "function distancia_vetor_plano_com_vetor_perpendicular(vetor, vetor_plano1, vetor_plano2)#Normalizar não existe\n",
    "    A = [vetor_plano1'; vetor_plano2']'\n",
    "    vetor_perp = normalizar(perpendicular_ao_plano(A))\n",
    "    lambda = vetor'*vetor_perp\n",
    "    vetor_dist = lambda*vetor_perp\n",
    "    return norma(vetor_dist)\n",
    "end"
   ]
  },
  {
   "cell_type": "code",
   "execution_count": 90,
   "metadata": {},
   "outputs": [
    {
     "data": {
      "text/plain": [
       "distancia_vetor_plano_com_minimos_quadrados (generic function with 1 method)"
      ]
     },
     "metadata": {},
     "output_type": "display_data"
    }
   ],
   "source": [
    "function distancia_vetor_plano_com_minimos_quadrados(vetor, vetor_plano1, vetor_plano2)#Norma não existe\n",
    "    A = [vetor_plano1'; vetor_plano2']'\n",
    "    W = A'*A\n",
    "    V = A'*vetor\n",
    "\n",
    "    gauss=[W V]\n",
    "    gaussJordado = rref(gauss)\n",
    "    x1 = gaussJordado[1,3]\n",
    "    x2 = gaussJordado[2,3]\n",
    "    \n",
    "    projecao = x1*vetor_plano1 + x2*vetor_plano2\n",
    "    dist = norma(projecao-vetor)\n",
    "    return dist\n",
    "end"
   ]
  },
  {
   "cell_type": "code",
   "execution_count": 91,
   "metadata": {},
   "outputs": [
    {
     "data": {
      "text/plain": [
       "isapproxsigfigs (generic function with 2 methods)"
      ]
     },
     "metadata": {},
     "output_type": "display_data"
    }
   ],
   "source": [
    "function isapproxsigfigs(a, b, precision=3) #Não estava na lista de funções\n",
    "    return round(a, RoundNearestTiesUp, sigdigits=precision) == round(b, RoundNearestTiesUp, sigdigits=precision)\n",
    "end"
   ]
  },
  {
   "cell_type": "code",
   "execution_count": 92,
   "metadata": {},
   "outputs": [
    {
     "data": {
      "text/plain": [
       "AchaRaizesDeGrau3 (generic function with 1 method)"
      ]
     },
     "metadata": {},
     "output_type": "display_data"
    }
   ],
   "source": [
    "\n",
    "function AchaRaizesDeGrau3(a, b, c, d)#Funciona\n",
    "    \n",
    "    p = (c/a) - (b^2/3*a^2)\n",
    "    q = (d/a) - (b*c/3*a^2) + (2*b^3/27*a^3)\n",
    "\n",
    "    z1 = ((-q/2) -sqrt(Complex((q^2/4)+(p^3/27))))^(1/3)\n",
    "    z2 = ((-q/2) + sqrt(Complex((q^2/4) + (p^3/27))))^(1/3)\n",
    "    \n",
    "    w1 = (-1/2) + (im*sqrt(3)/2)\n",
    "    w2 = (-1/2) - (im*sqrt(3)/2)\n",
    "    \n",
    "    x0 = (-b/3a) + z2 + z1\n",
    "    x1 = (-b/3a) + w1 * z2 + w2*z1\n",
    "    x2 = (-b/3a) + w2 * z2 + w1*z1\n",
    "    reais = []\n",
    "    \n",
    "    if(isapproxsigfigs(imag(x0), 0))\n",
    "        push!(reais, real(x0))\n",
    "    end\n",
    "    if(isapproxsigfigs(imag(x1), 0))\n",
    "        push!(reais, real(x1))\n",
    "    end\n",
    "    if(isapproxsigfigs(imag(x2), 0))\n",
    "        push!(reais, real(x2))\n",
    "    end\n",
    "    \n",
    "    return reais\n",
    "end"
   ]
  },
  {
   "cell_type": "code",
   "execution_count": 93,
   "metadata": {},
   "outputs": [
    {
     "data": {
      "text/plain": [
       "AchaAutoValores (generic function with 1 method)"
      ]
     },
     "metadata": {},
     "output_type": "display_data"
    }
   ],
   "source": [
    "function AchaAutoValores(A)#Funciona\n",
    "\n",
    "    d = A[1,2]*A[2,3]*A[3,1] + A[1,3]*A[2,1]*A[3,2] + A[1,1]*A[2,2]*A[3,3] -A[1,2]*A[2,1]*A[3,3] - A[1,1]*A[2,3]*A[3,2] -A[1,3]*A[2,2]*A[3,1]\n",
    "\n",
    "    c = A[1,2]*A[2,1] + A[2,3]*A[3,2] + A[1,3]*A[3,1] - A[1,1]*A[2,2] - A[2,2]*A[3,3] - A[1,1]*A[3,3]\n",
    "\n",
    "    b = A[1,1] + A[2,2] + A[3,3]\n",
    "\n",
    "    a = -1\n",
    "\n",
    "    reais = AchaRaizesDeGrau3(a, b, c, d)\n",
    "    if(length(reais) == 3)\n",
    "        if(isapproxsigfigs(reais[1], reais[2]))\n",
    "            splice!(reais, 2)\n",
    "        elseif (isapproxsigfigs(reais[1], reais[3]) || isapproxsigfigs(reais[2], reais[3]))\n",
    "            splice!(reais, 3)\n",
    "        end\n",
    "    end\n",
    "\n",
    "    return reais\n",
    "end"
   ]
  },
  {
   "cell_type": "code",
   "execution_count": 94,
   "metadata": {},
   "outputs": [
    {
     "data": {
      "text/plain": [
       "resolver (generic function with 1 method)"
      ]
     },
     "metadata": {},
     "output_type": "display_data"
    }
   ],
   "source": [
    "function resolver(M, vetor)\n",
    "    sistema = hcat(M, vetor)\n",
    "    C,pivos=rref_with_pivots(sistema)\n",
    "    if(!(1 in pivos)) \n",
    "        notPivo = 1\n",
    "        x1 = 1\n",
    "        x2 = - C[2, 1]\n",
    "        x3 = - C[3, 1]\n",
    "\n",
    "    elseif(!(2 in pivos)) \n",
    "        notPivo = 2\n",
    "        x1 = - C[1, 2]\n",
    "        x2 = 1\n",
    "        x3 = - C[3, 2]\n",
    "    else\n",
    "        notPivo = 3\n",
    "        x1 = - C[1, 3]\n",
    "        x2 = - C[2, 3]\n",
    "        x3 = 1\n",
    "    end\n",
    "\n",
    "    solucao = Vector([x1, x2, x3])\n",
    "    return solucao\n",
    "end"
   ]
  },
  {
   "cell_type": "code",
   "execution_count": 95,
   "metadata": {},
   "outputs": [
    {
     "data": {
      "text/plain": [
       "AchaAutoVetores (generic function with 2 methods)"
      ]
     },
     "metadata": {},
     "output_type": "display_data"
    }
   ],
   "source": [
    "struct AutoCoisa\n",
    "    autovetor :: Vector\n",
    "    autovalor :: Real\n",
    "end\n",
    "\n",
    "function AchaAutoVetores(A, autovalores)\n",
    "    autovetores = [AutoCoisa(resolver(A - a * I, zeros(3, 1)), a) for a in autovalores]\n",
    "    return autovetores\n",
    "end\n"
   ]
  },
  {
   "cell_type": "code",
   "execution_count": 96,
   "metadata": {},
   "outputs": [
    {
     "data": {
      "text/plain": [
       "AchaAutoVetores (generic function with 2 methods)"
      ]
     },
     "metadata": {},
     "output_type": "display_data"
    }
   ],
   "source": [
    "function AchaAutoVetores(A)\n",
    "    autovalores = AchaAutoValores(A)\n",
    "    return AchaAutoVetores(A, autovalores)\n",
    "end"
   ]
  },
  {
   "cell_type": "code",
   "execution_count": 97,
   "metadata": {},
   "outputs": [
    {
     "data": {
      "text/plain": [
       "inverse (generic function with 1 method)"
      ]
     },
     "metadata": {},
     "output_type": "display_data"
    }
   ],
   "source": [
    "function inverse(x)#Funciona\n",
    "    l,c = size(x)\n",
    "    Id = Matrix(I,l,c)\n",
    "    A = [x Id]\n",
    "    C, pivots = rref_with_pivots(A)\n",
    "    if C[:,1:c] ≈ Id\n",
    "        return C[:,c+1:2*c]\n",
    "    else\n",
    "        println(\"Não tem Inversa\")\n",
    "    end\n",
    "end"
   ]
  },
  {
   "cell_type": "code",
   "execution_count": 98,
   "metadata": {},
   "outputs": [
    {
     "data": {
      "text/plain": [
       "eh_perpendicular (generic function with 1 method)"
      ]
     },
     "metadata": {},
     "output_type": "display_data"
    }
   ],
   "source": [
    "function eh_perpendicular(x, y)#Funciona\n",
    "    return y'*x == 0\n",
    "end"
   ]
  },
  {
   "cell_type": "code",
   "execution_count": 99,
   "metadata": {},
   "outputs": [
    {
     "data": {
      "text/plain": [
       "dist (generic function with 1 method)"
      ]
     },
     "metadata": {},
     "output_type": "display_data"
    }
   ],
   "source": [
    "function dist(x, y)#Funciona\n",
    "    return sqrt((x-y)'*(x-y))\n",
    "end"
   ]
  },
  {
   "cell_type": "code",
   "execution_count": 100,
   "metadata": {},
   "outputs": [
    {
     "data": {
      "text/plain": [
       "norma_1 (generic function with 1 method)"
      ]
     },
     "metadata": {},
     "output_type": "display_data"
    }
   ],
   "source": [
    "function norma_1(x)#Deu conflito de com a variável \"norma1\" precisei alterar o nome. Funciona\n",
    "        if norm(x)==1\n",
    "                return true\n",
    "        else \n",
    "                return false\n",
    "        end\n",
    " end"
   ]
  },
  {
   "cell_type": "code",
   "execution_count": 101,
   "metadata": {},
   "outputs": [
    {
     "data": {
      "text/plain": [
       "solutionsAx0 (generic function with 1 method)"
      ]
     },
     "metadata": {},
     "output_type": "display_data"
    }
   ],
   "source": [
    "function solutionsAx0(A)#Incompleta\n",
    "    C,pivos=rref_with_pivots(A)\n",
    "    for i in range size(C,2)\n",
    "      if i!=pivos \n",
    "      end\n",
    "    end\n",
    "end\n",
    "\n",
    "        #(não terminamos)  (?)"
   ]
  },
  {
   "cell_type": "code",
   "execution_count": 102,
   "metadata": {},
   "outputs": [
    {
     "data": {
      "text/plain": [
       "existe_inversa (generic function with 1 method)"
      ]
     },
     "metadata": {},
     "output_type": "display_data"
    }
   ],
   "source": [
    "function existe_inversa(A)# Funciona\n",
    "    try\n",
    "        inv(A)\n",
    "        return true\n",
    "\n",
    "    catch\n",
    "        return false\n",
    "    end\n",
    "end"
   ]
  },
  {
   "cell_type": "code",
   "execution_count": 103,
   "metadata": {},
   "outputs": [
    {
     "data": {
      "text/plain": [
       "eigenvectors (generic function with 1 method)"
      ]
     },
     "metadata": {},
     "output_type": "display_data"
    }
   ],
   "source": [
    "function eigenvectors(A)#Roda\n",
    "    lambda_list = eigvals(A)\n",
    "\n",
    "    if (typeof(lambda_list) == Array{Complex{Float64},1})\n",
    "        return \"sem autovetores\"\n",
    "    end\n",
    "\n",
    "    a = A[1,1]\n",
    "    b = A[1,2]\n",
    "    c = A[2,1]\n",
    "    d = A[2,2]\n",
    "\n",
    "    eigenvectors = []\n",
    "\n",
    "    for lambda in lambda_list\n",
    "        B = [(a - lambda) b; c (d - lambda)]\n",
    "        C = rref(B);\n",
    "\n",
    "        # com a existencia de autovalores a primeira linha do Gauss jordan da matriz B é sempre [ 1 X ] ou [0 1].X sendo um numero Real \n",
    "        if (C[1,1] == 0)\n",
    "            # se a primeira linha for [ 0 1 ] então temos que V2 = 0*V1. escolhendo V1 como 1 temos o vetor [ 1 0 ]\n",
    "            push!(eigenvectors, [1 ; 0])\n",
    "        else\n",
    "            x = C[1,2]   \n",
    "            # V = [-XV2 ; V2] escolhemos V2 como 1 para retornamos um exemplo de autovetor\n",
    "            push!(eigenvectors, [-x ; 1])\n",
    "        end    \n",
    "\n",
    "    end\n",
    "        \n",
    "    return eigenvectors\n",
    "end "
   ]
  },
  {
   "cell_type": "code",
   "execution_count": 104,
   "metadata": {},
   "outputs": [
    {
     "data": {
      "text/plain": [
       "vetores_coplanares_r3 (generic function with 1 method)"
      ]
     },
     "metadata": {},
     "output_type": "display_data"
    }
   ],
   "source": [
    "function vetores_coplanares_r3(n)#Funciona\n",
    "    \"\"\"Tendo n (um número inteiro) como entrada, retorna uma lista de n vetores coplanares em R3, isto é, \n",
    "    Existem v1 e v2 em R3, tais que, para todo v_i, temos v_i = c1v1 + c2v2, onde c1 e c2 são números reais\"\"\"\n",
    "    \n",
    "    #gerando dois vetores aleatoriamente em R3 para fazer combinações lineares dos mesmos\n",
    "    v1 = rand(Float64, (3,1))\n",
    "    v2 = rand(Float64, (3,1))\n",
    "    vetores = []\n",
    "    \n",
    "    for i=1:n\n",
    "        c1 = rand(Float64)\n",
    "        c2 = rand(Float64)\n",
    "        novo_vetor = v1*c1 + v2*c2 \n",
    "        push!(vetores, novo_vetor)\n",
    "    end\n",
    "    return vetores\n",
    "end"
   ]
  },
  {
   "cell_type": "code",
   "execution_count": 105,
   "metadata": {},
   "outputs": [
    {
     "data": {
      "text/plain": [
       "dimensao_solucao_ax_0 (generic function with 1 method)"
      ]
     },
     "metadata": {},
     "output_type": "display_data"
    }
   ],
   "source": [
    "function dimensao_solucao_ax_0(A)\n",
    "    \"\"\"Dado uma matriz A, determina a dimensão da solução de Ax = 0 (vetor nulo), isto é, \n",
    "        o número de variáveis livres na solução\"\"\"\n",
    "    \n",
    "    #Basta saber o número de colunas sem pivô no Gauss Jordan\n",
    "    m,n =  size(A)\n",
    "    B,pivos = rref_with_pivots(A)\n",
    "    return n - length(pivos)\n",
    "end"
   ]
  },
  {
   "cell_type": "code",
   "execution_count": 106,
   "metadata": {},
   "outputs": [
    {
     "data": {
      "text/plain": [
       "tem_solucao (generic function with 1 method)"
      ]
     },
     "metadata": {},
     "output_type": "display_data"
    }
   ],
   "source": [
    "function tem_solucao(A, v)#Funciona\n",
    "    B, pivos = rref_with_pivots([A v'])\n",
    "    return !(size(A, 2) + 1 in pivos)\n",
    "  end"
   ]
  },
  {
   "cell_type": "code",
   "execution_count": 107,
   "metadata": {},
   "outputs": [
    {
     "data": {
      "text/plain": [
       "autocoisas_para_matriz_2x2 (generic function with 1 method)"
      ]
     },
     "metadata": {},
     "output_type": "display_data"
    }
   ],
   "source": [
    "function autocoisas_para_matriz_2x2(autovetor1, autovetor2, autovalor1, autovalor2)\n",
    "    matriz_autovetores = [autovetor1' autovetor2']\n",
    "    matriz_autovalores = [autovalor1 0; 0 autovalor2]\n",
    "  \n",
    "    if det(matriz_autovetores) == 0\n",
    "      println(\"Matriz de autovetores não é inversível\")\n",
    "      return\n",
    "    end\n",
    "  \n",
    "    return matriz_autovetores * matriz_autovalores * inv(matriz_autovetores)\n",
    "  end"
   ]
  },
  {
   "cell_type": "code",
   "execution_count": 109,
   "metadata": {},
   "outputs": [
    {
     "data": {
      "text/plain": [
       "é_coplanar (generic function with 1 method)"
      ]
     },
     "metadata": {},
     "output_type": "display_data"
    }
   ],
   "source": [
    "function é_coplanar(v,r,w)#v e r são vetores geradores do plano e quero saber se w está contido no plano #Roda\n",
    "    matriz = [v;r]'\n",
    "    min_qua = matriz'*matriz\n",
    "    p = matriz'*w'\n",
    "    \n",
    "    sis_lin = [min_qua p]\n",
    "    \n",
    "    C = rref(sis_lin)\n",
    "    x = C[:,3]\n",
    "    if isapprox(matriz*x, w')\n",
    "        return true\n",
    "    end\n",
    "    return false\n",
    "end"
   ]
  }
 ],
 "metadata": {
  "kernelspec": {
   "display_name": "Julia 1.7.2",
   "language": "julia",
   "name": "julia-1.7"
  },
  "language_info": {
   "file_extension": ".jl",
   "mimetype": "application/julia",
   "name": "julia",
   "version": "1.7.2"
  }
 },
 "nbformat": 4,
 "nbformat_minor": 4
}
