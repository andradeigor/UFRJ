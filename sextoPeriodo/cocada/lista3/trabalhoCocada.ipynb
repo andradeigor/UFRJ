{
 "cells": [
  {
   "cell_type": "markdown",
   "id": "888db3c6",
   "metadata": {},
   "source": [
    "# Questão 1\n",
    "\n",
    "Para resolver a questão 1 nos pensamos em primeiro descobrir qual equação nos daria melhor aproximação para o valor desejado, usando a formula de resfriamento de newton que segue a seguir: $$T=(T_0-T_f)*e^{-kt}+T_f$$ Onde \n",
    "\n",
    "$T_0 - \\text{Temperatura inicial do objeto}$\n",
    "\n",
    "$T_f - \\text{Temperatura final do objeto, ao atingir o equilíbrio}$\n",
    "\n",
    "$k - \\text{É uma constante determinada}$\n",
    "\n",
    "$t - \\text{O tempo passado}$\n",
    "\n",
    "$T - \\text{Temperatura no instante t}$\n",
    "\n",
    "Pelo enunciado temos que $T_0=34º \\text{ e } T_f=20º$, T é determinado pelo tempo t, e k teremos que descobrir, assim temos provisoriamente:\n",
    "$$\n",
    "T=(34-20)e^{-kt}+20 \\therefore T=14e^{-kt}+20 \n",
    "$$\n",
    "Usando o enunciado temos 3 tempos distintos que nos dará 3 temperaturas distintas, que são esses pontos que seguiram a ordem $P_i=(t,T)$, assim teremos $P_0=(0,34),P_1=(90,30),P_2=(150,25)$,Criando os valores desses vetores abaixo e colocamos eles num gráfico teremos"
   ]
  },
  {
   "cell_type": "code",
   "execution_count": null,
   "id": "2debbf20",
   "metadata": {},
   "outputs": [],
   "source": [
    "tempos = [0;90;150] "
   ]
  },
  {
   "cell_type": "code",
   "execution_count": null,
   "id": "5a82ab81",
   "metadata": {},
   "outputs": [],
   "source": [
    "temperaturas = [34,30,25]"
   ]
  },
  {
   "cell_type": "code",
   "execution_count": null,
   "id": "0ee427f6",
   "metadata": {},
   "outputs": [],
   "source": [
    "function vandermonde(x,y,grau)\n",
    "    n,=size(y)\n",
    "    V=zeros(n,grau+1)\n",
    "    for i=1:n #linhas\n",
    "        for j=1:(grau+1)\n",
    "            V[i,j]=x[i]^(j-1)\n",
    "        end\n",
    "    end\n",
    "    return V\n",
    "end"
   ]
  },
  {
   "cell_type": "code",
   "execution_count": null,
   "id": "706b824a",
   "metadata": {},
   "outputs": [],
   "source": [
    "function regressão(x,y,grau)\n",
    "    V=vandermonde(x,y,grau)\n",
    "    c=V\\y #mínimos quadrados\n",
    "    return c\n",
    "end"
   ]
  },
  {
   "cell_type": "markdown",
   "id": "7c7efc4f",
   "metadata": {},
   "source": [
    "Trouxemos as ferramentas que irá nos ajudar a resolver o problema de aproximação para assim pode descobrir a hora que a pessoa morreu, para isso iremos descobrir com quais equações estamos trabalho para encontrar o valor de k necessário, assim substituiremos os pontos descritos acima na formula obtendo as seguintes equações:\n",
    "$$\n",
    "34=14e^{-k*0}+20 \\to 34=14+20\n",
    "$$\n",
    "Esta equação em si não nos disse muita coisa então partiremos para as próximas\n",
    "$$\n",
    "30=14e^{-k*90}+20 \\to 10/14=e^{-90k} \\to \\ln{\\bigg(\\cfrac{10}{14}\\bigg)}=-90k\n",
    "$$\n",
    "\n",
    "Usando a mesma lógica para a outra teremos:\n",
    "$$\n",
    "25=14e^{-k*150}+20 \\to 5/14=e^{-150k} \\to \\ln{\\bigg(\\cfrac{5}{14}\\bigg)}=-150k\n",
    "$$\n",
    "\n",
    "Assim temos 2 valores possíveis para k, vamos encontrar aquele que melhor ser aproxima do valor que esperamos, assim teremos o seguinte sistema\n",
    "\n",
    "$$\n",
    "\\begin{alignat}{2}\n",
    "   -90k=\\ln{\\bigg(\\cfrac{10}{14}\\bigg)}\\\\\n",
    "   -150k=\\ln{\\bigg(\\cfrac{5}{14}\\bigg)}\n",
    "\\end{alignat}\n",
    "\n",
    "OU\n",
    "\\begin{bmatrix}\n",
    "-90\\\\\n",
    "-150\n",
    "\\end{bmatrix}\n",
    "\\cdot\n",
    "\\begin{bmatrix}\n",
    "k\\\\\n",
    "k\n",
    "\\end{bmatrix}\n",
    "\n",
    "=\n",
    "\\begin{bmatrix}\n",
    "\\ln{\\bigg(\\cfrac{10}{14}\\bigg)}\\\\\n",
    "\\ln{\\bigg(\\cfrac{5}{14}\\bigg)}\n",
    "\\end{bmatrix}\n",
    "$$\n",
    "Ao transformar em códigos para poder executar as operações teremos abaixo os seguintes resultados"
   ]
  },
  {
   "cell_type": "markdown",
   "id": "7c7efc4f",
   "metadata": {},
   "source": [
    "Trouxemos as ferramentas que irá nos ajudar a resolver o problema de aproximação para assim pode descobrir a hora que a pessoa morreu, para isso iremos descobrir com quais equações estamos trabalho para encontrar o valor de k necessário, assim substituiremos os pontos descritos acima na formula obtendo as seguintes equações:\n",
    "$$\n",
    "34=14e^{-k*0}+20 \\to 34=14+20\n",
    "$$\n",
    "Esta equação em si não nos disse muita coisa então partiremos para as próximas\n",
    "$$\n",
    "30=14e^{-k*90}+20 \\to 10/14=e^{-90k} \\to \\ln{\\bigg(\\cfrac{10}{14}\\bigg)}=-90k\n",
    "$$\n",
    "\n",
    "Usando a mesma lógica para a outra teremos:\n",
    "$$\n",
    "25=14e^{-k*150}+20 \\to 5/14=e^{-150k} \\to \\ln{\\bigg(\\cfrac{5}{14}\\bigg)}=-150k\n",
    "$$\n",
    "\n",
    "Assim temos 2 valores possíveis para k, vamos encontrar aquele que melhor ser aproxima do valor que esperamos, assim teremos o seguinte sistema\n",
    "\n",
    "$$\n",
    "\\begin{alignat}{2}\n",
    "   -90k=\\ln{\\bigg(\\cfrac{10}{14}\\bigg)}\\\\\n",
    "   -150k=\\ln{\\bigg(\\cfrac{5}{14}\\bigg)}\n",
    "\\end{alignat}\n",
    "\n",
    "OU\n",
    "\\begin{bmatrix}\n",
    "-90\\\\\n",
    "-150\n",
    "\\end{bmatrix}\n",
    "\\cdot\n",
    "\\begin{bmatrix}\n",
    "k\\\\\n",
    "\\end{bmatrix}\n",
    "\n",
    "=\n",
    "\\begin{bmatrix}\n",
    "\\ln{\\bigg(\\cfrac{10}{14}\\bigg)}\\\\\n",
    "\\ln{\\bigg(\\cfrac{5}{14}\\bigg)}\n",
    "\\end{bmatrix}\n",
    "$$\n",
    "Ao transformar em códigos para poder executar as operações teremos abaixo os seguintes resultados.\n",
    "\n",
    "Por fim, executamos mínimos quadrados por meio do $\\backslash$ e descobrimos o k que melhor aproxima o nosso problema. "
   ]
  },
  {
   "cell_type": "code",
   "execution_count": 15,
   "id": "ddb345b8",
   "metadata": {},
   "outputs": [
    {
     "data": {
      "text/plain": [
       "resultadoTemperaturaTempo (generic function with 1 method)"
      ]
     },
     "metadata": {},
     "output_type": "display_data"
    }
   ],
   "source": [
    "tempos =[-90;-150]\n",
    "results = [log(10/14);log(5/14)]\n",
    "k = tempos\\results\n",
    "\n",
    "function resultadoTempoTemperatura(tempo,k)\n",
    "    return 14*exp(-(tempos\\results) * tempo) + 20\n",
    "end\n",
    "\n",
    "function resultadoTemperaturaTempo(temperatura,k)\n",
    "    return (log(14/(temperatura-20))/k)\n",
    "end\n"
   ]
  },
  {
   "cell_type": "code",
   "execution_count": null,
   "id": "944692b6",
   "metadata": {},
   "outputs": [
    {
     "data": {
      "text/plain": [
       "15.536036516518083"
      ]
     },
     "metadata": {},
     "output_type": "display_data"
    }
   ],
   "source": [
    "tempo = ((15*60) + resultadoTemperaturaTempo(37, k)) / 60"
   ]
  },
  {
   "cell_type": "markdown",
   "metadata": {},
   "source": []
  },
  {
   "cell_type": "code",
   "execution_count": 73,
   "id": "4a185077",
   "metadata": {},
   "outputs": [
    {
     "data": {
      "text/plain": [
       "34.0"
      ]
     },
     "execution_count": 73,
     "metadata": {},
     "output_type": "execute_result"
    }
   ],
   "source": []
  },
  {
   "cell_type": "code",
   "execution_count": 12,
   "id": "726d357b",
   "metadata": {},
   "outputs": [
    {
     "data": {
      "text/plain": [
       "teste2 (generic function with 1 method)"
      ]
     },
     "metadata": {},
     "output_type": "display_data"
    }
   ],
   "source": []
  },
  {
   "cell_type": "code",
   "execution_count": 13,
   "id": "8319a803",
   "metadata": {},
   "outputs": [
    {
     "data": {
      "text/plain": [
       "-32.16219099108492"
      ]
     },
     "metadata": {},
     "output_type": "display_data"
    }
   ],
   "source": [
    "teste2(37)"
   ]
  },
  {
   "cell_type": "code",
   "execution_count": 180,
   "id": "4007646e",
   "metadata": {},
   "outputs": [
    {
     "data": {
      "text/plain": [
       "erro_total (generic function with 2 methods)"
      ]
     },
     "execution_count": 180,
     "metadata": {},
     "output_type": "execute_result"
    }
   ],
   "source": [
    "function erro_total(x,y,modelo)\n",
    "    n,=size(y)\n",
    "    S=0\n",
    "    for i=1:n\n",
    "        S=S+(y[i]-modelo(x[i]))^2\n",
    "    end\n",
    "    return sqrt(S)\n",
    "end"
   ]
  },
  {
   "cell_type": "code",
   "execution_count": 183,
   "id": "98bd4d7b",
   "metadata": {
    "scrolled": true
   },
   "outputs": [
    {
     "data": {
      "text/plain": [
       "30×1 Matrix{Float64}:\n",
       "   4.919143227300415\n",
       "   4.932687805794083\n",
       "   4.959239950320724\n",
       "   5.022428524407641\n",
       "   7.294937769964515\n",
       "   7.248299735309535\n",
       "  11.63131951959041\n",
       "  10.877043686884559\n",
       "  11.682786801225568\n",
       "   8.658801594619666\n",
       "  12.144812888821354\n",
       "  16.5417624362215\n",
       "  34.945497770891755\n",
       "   ⋮\n",
       "  53.12756673051316\n",
       "  32.619029137041906\n",
       "   8.103447906845902\n",
       "   9.128539226829034\n",
       "  17.01520038239919\n",
       "  26.719161642859714\n",
       "  26.37356886475348\n",
       "  33.879386934513626\n",
       "  31.698960968542046\n",
       "  30.362761235631424\n",
       " 232.7108322392225\n",
       "  41.593802079334885"
      ]
     },
     "execution_count": 183,
     "metadata": {},
     "output_type": "execute_result"
    }
   ],
   "source": [
    "A = zeros(30,5)\n",
    "xs = randn(30)\n",
    "ys = randn(30)\n",
    "erro = zeros(30,1)\n",
    "d = []\n",
    "\n",
    "for i=1:30\n",
    "    d = regressão(xs,ys,i)\n",
    "    erro[i] = erro_total(xs,ys,polinomio)\n",
    "end\n",
    "erro"
   ]
  },
  {
   "cell_type": "code",
   "execution_count": 175,
   "id": "bff940a3",
   "metadata": {},
   "outputs": [
    {
     "data": {
      "text/plain": [
       "polinomio (generic function with 2 methods)"
      ]
     },
     "execution_count": 175,
     "metadata": {},
     "output_type": "execute_result"
    }
   ],
   "source": [
    "function polinomio(x)\n",
    "    s = d[1]\n",
    "    tam = size(x,1)\n",
    "    for i=1:tam\n",
    "        s+=d[i+1]*x^i\n",
    "    end\n",
    "    return s\n",
    "end"
   ]
  }
 ],
 "metadata": {
  "kernelspec": {
   "display_name": "Julia 1.7.2",
   "language": "julia",
   "name": "julia-1.7"
  },
  "language_info": {
   "file_extension": ".jl",
   "mimetype": "application/julia",
   "name": "julia",
   "version": "1.7.2"
  }
 },
 "nbformat": 4,
 "nbformat_minor": 5
}
