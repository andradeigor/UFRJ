{
  "cells": [
    {
      "cell_type": "code",
      "execution_count": null,
      "metadata": {
        "id": "28nhjN_jwm-f"
      },
      "outputs": [],
      "source": [
        "using Plots\n",
        "using Random\n",
        "using LinearAlgebra"
      ]
    },
    {
      "cell_type": "code",
      "execution_count": null,
      "metadata": {
        "id": "HD9sja97wm-p",
        "outputId": "db98cf18-e31a-43f4-afe4-961bc9fb565a"
      },
      "outputs": [
        {
          "data": {
            "image/svg+xml": [
              "<?xml version=\"1.0\" encoding=\"utf-8\"?>\n",
              "<svg xmlns=\"http://www.w3.org/2000/svg\" xmlns:xlink=\"http://www.w3.org/1999/xlink\" width=\"600\" height=\"400\" viewBox=\"0 0 2400 1600\">\n",
              "<defs>\n",
              "  <clipPath id=\"clip990\">\n",
              "    <rect x=\"0\" y=\"0\" width=\"2400\" height=\"1600\"/>\n",
              "  </clipPath>\n",
              "</defs>\n",
              "<path clip-path=\"url(#clip990)\" d=\"\n",
              "M0 1600 L2400 1600 L2400 0 L0 0  Z\n",
              "  \" fill=\"#ffffff\" fill-rule=\"evenodd\" fill-opacity=\"1\"/>\n",
              "<defs>\n",
              "  <clipPath id=\"clip991\">\n",
              "    <rect x=\"480\" y=\"0\" width=\"1681\" height=\"1600\"/>\n",
              "  </clipPath>\n",
              "</defs>\n",
              "<path clip-path=\"url(#clip990)\" d=\"\n",
              "M139.446 1486.45 L2352.76 1486.45 L2352.76 47.2441 L139.446 47.2441  Z\n",
              "  \" fill=\"#ffffff\" fill-rule=\"evenodd\" fill-opacity=\"1\"/>\n",
              "<defs>\n",
              "  <clipPath id=\"clip992\">\n",
              "    <rect x=\"139\" y=\"47\" width=\"2214\" height=\"1440\"/>\n",
              "  </clipPath>\n",
              "</defs>\n",
              "<polyline clip-path=\"url(#clip992)\" style=\"stroke:#000000; stroke-linecap:round; stroke-linejoin:round; stroke-width:2; stroke-opacity:0.1; fill:none\" points=\"\n",
              "  202.086,1486.45 202.086,47.2441 \n",
              "  \"/>\n",
              "<polyline clip-path=\"url(#clip992)\" style=\"stroke:#000000; stroke-linecap:round; stroke-linejoin:round; stroke-width:2; stroke-opacity:0.1; fill:none\" points=\"\n",
              "  724.094,1486.45 724.094,47.2441 \n",
              "  \"/>\n",
              "<polyline clip-path=\"url(#clip992)\" style=\"stroke:#000000; stroke-linecap:round; stroke-linejoin:round; stroke-width:2; stroke-opacity:0.1; fill:none\" points=\"\n",
              "  1246.1,1486.45 1246.1,47.2441 \n",
              "  \"/>\n",
              "<polyline clip-path=\"url(#clip992)\" style=\"stroke:#000000; stroke-linecap:round; stroke-linejoin:round; stroke-width:2; stroke-opacity:0.1; fill:none\" points=\"\n",
              "  1768.11,1486.45 1768.11,47.2441 \n",
              "  \"/>\n",
              "<polyline clip-path=\"url(#clip992)\" style=\"stroke:#000000; stroke-linecap:round; stroke-linejoin:round; stroke-width:2; stroke-opacity:0.1; fill:none\" points=\"\n",
              "  2290.12,1486.45 2290.12,47.2441 \n",
              "  \"/>\n",
              "<polyline clip-path=\"url(#clip990)\" style=\"stroke:#000000; stroke-linecap:round; stroke-linejoin:round; stroke-width:4; stroke-opacity:1; fill:none\" points=\"\n",
              "  139.446,1486.45 2352.76,1486.45 \n",
              "  \"/>\n",
              "<polyline clip-path=\"url(#clip990)\" style=\"stroke:#000000; stroke-linecap:round; stroke-linejoin:round; stroke-width:4; stroke-opacity:1; fill:none\" points=\"\n",
              "  202.086,1486.45 202.086,1469.18 \n",
              "  \"/>\n",
              "<polyline clip-path=\"url(#clip990)\" style=\"stroke:#000000; stroke-linecap:round; stroke-linejoin:round; stroke-width:4; stroke-opacity:1; fill:none\" points=\"\n",
              "  724.094,1486.45 724.094,1469.18 \n",
              "  \"/>\n",
              "<polyline clip-path=\"url(#clip990)\" style=\"stroke:#000000; stroke-linecap:round; stroke-linejoin:round; stroke-width:4; stroke-opacity:1; fill:none\" points=\"\n",
              "  1246.1,1486.45 1246.1,1469.18 \n",
              "  \"/>\n",
              "<polyline clip-path=\"url(#clip990)\" style=\"stroke:#000000; stroke-linecap:round; stroke-linejoin:round; stroke-width:4; stroke-opacity:1; fill:none\" points=\"\n",
              "  1768.11,1486.45 1768.11,1469.18 \n",
              "  \"/>\n",
              "<polyline clip-path=\"url(#clip990)\" style=\"stroke:#000000; stroke-linecap:round; stroke-linejoin:round; stroke-width:4; stroke-opacity:1; fill:none\" points=\"\n",
              "  2290.12,1486.45 2290.12,1469.18 \n",
              "  \"/>\n",
              "<path clip-path=\"url(#clip990)\" d=\"M164.39 1515.64 Q160.779 1515.64 158.95 1519.2 Q157.145 1522.75 157.145 1529.87 Q157.145 1536.98 158.95 1540.55 Q160.779 1544.09 164.39 1544.09 Q168.024 1544.09 169.83 1540.55 Q171.658 1536.98 171.658 1529.87 Q171.658 1522.75 169.83 1519.2 Q168.024 1515.64 164.39 1515.64 M164.39 1511.93 Q170.2 1511.93 173.256 1516.54 Q176.334 1521.12 176.334 1529.87 Q176.334 1538.6 173.256 1543.21 Q170.2 1547.79 164.39 1547.79 Q158.58 1547.79 155.501 1543.21 Q152.445 1538.6 152.445 1529.87 Q152.445 1521.12 155.501 1516.54 Q158.58 1511.93 164.39 1511.93 Z\" fill=\"#000000\" fill-rule=\"evenodd\" fill-opacity=\"1\" /><path clip-path=\"url(#clip990)\" d=\"M184.552 1541.24 L189.436 1541.24 L189.436 1547.12 L184.552 1547.12 L184.552 1541.24 Z\" fill=\"#000000\" fill-rule=\"evenodd\" fill-opacity=\"1\" /><path clip-path=\"url(#clip990)\" d=\"M209.621 1515.64 Q206.01 1515.64 204.181 1519.2 Q202.376 1522.75 202.376 1529.87 Q202.376 1536.98 204.181 1540.55 Q206.01 1544.09 209.621 1544.09 Q213.255 1544.09 215.061 1540.55 Q216.89 1536.98 216.89 1529.87 Q216.89 1522.75 215.061 1519.2 Q213.255 1515.64 209.621 1515.64 M209.621 1511.93 Q215.431 1511.93 218.487 1516.54 Q221.565 1521.12 221.565 1529.87 Q221.565 1538.6 218.487 1543.21 Q215.431 1547.79 209.621 1547.79 Q203.811 1547.79 200.732 1543.21 Q197.677 1538.6 197.677 1529.87 Q197.677 1521.12 200.732 1516.54 Q203.811 1511.93 209.621 1511.93 Z\" fill=\"#000000\" fill-rule=\"evenodd\" fill-opacity=\"1\" /><path clip-path=\"url(#clip990)\" d=\"M239.783 1515.64 Q236.172 1515.64 234.343 1519.2 Q232.538 1522.75 232.538 1529.87 Q232.538 1536.98 234.343 1540.55 Q236.172 1544.09 239.783 1544.09 Q243.417 1544.09 245.223 1540.55 Q247.051 1536.98 247.051 1529.87 Q247.051 1522.75 245.223 1519.2 Q243.417 1515.64 239.783 1515.64 M239.783 1511.93 Q245.593 1511.93 248.649 1516.54 Q251.727 1521.12 251.727 1529.87 Q251.727 1538.6 248.649 1543.21 Q245.593 1547.79 239.783 1547.79 Q233.973 1547.79 230.894 1543.21 Q227.839 1538.6 227.839 1529.87 Q227.839 1521.12 230.894 1516.54 Q233.973 1511.93 239.783 1511.93 Z\" fill=\"#000000\" fill-rule=\"evenodd\" fill-opacity=\"1\" /><path clip-path=\"url(#clip990)\" d=\"M686.895 1515.64 Q683.284 1515.64 681.455 1519.2 Q679.649 1522.75 679.649 1529.87 Q679.649 1536.98 681.455 1540.55 Q683.284 1544.09 686.895 1544.09 Q690.529 1544.09 692.334 1540.55 Q694.163 1536.98 694.163 1529.87 Q694.163 1522.75 692.334 1519.2 Q690.529 1515.64 686.895 1515.64 M686.895 1511.93 Q692.705 1511.93 695.76 1516.54 Q698.839 1521.12 698.839 1529.87 Q698.839 1538.6 695.76 1543.21 Q692.705 1547.79 686.895 1547.79 Q681.085 1547.79 678.006 1543.21 Q674.95 1538.6 674.95 1529.87 Q674.95 1521.12 678.006 1516.54 Q681.085 1511.93 686.895 1511.93 Z\" fill=\"#000000\" fill-rule=\"evenodd\" fill-opacity=\"1\" /><path clip-path=\"url(#clip990)\" d=\"M707.057 1541.24 L711.941 1541.24 L711.941 1547.12 L707.057 1547.12 L707.057 1541.24 Z\" fill=\"#000000\" fill-rule=\"evenodd\" fill-opacity=\"1\" /><path clip-path=\"url(#clip990)\" d=\"M726.154 1543.18 L742.473 1543.18 L742.473 1547.12 L720.529 1547.12 L720.529 1543.18 Q723.191 1540.43 727.774 1535.8 Q732.381 1531.15 733.561 1529.81 Q735.806 1527.28 736.686 1525.55 Q737.589 1523.79 737.589 1522.1 Q737.589 1519.34 735.644 1517.61 Q733.723 1515.87 730.621 1515.87 Q728.422 1515.87 725.969 1516.63 Q723.538 1517.4 720.76 1518.95 L720.76 1514.23 Q723.584 1513.09 726.038 1512.51 Q728.492 1511.93 730.529 1511.93 Q735.899 1511.93 739.093 1514.62 Q742.288 1517.31 742.288 1521.8 Q742.288 1523.93 741.478 1525.85 Q740.691 1527.74 738.584 1530.34 Q738.006 1531.01 734.904 1534.23 Q731.802 1537.42 726.154 1543.18 Z\" fill=\"#000000\" fill-rule=\"evenodd\" fill-opacity=\"1\" /><path clip-path=\"url(#clip990)\" d=\"M752.334 1512.56 L770.691 1512.56 L770.691 1516.5 L756.617 1516.5 L756.617 1524.97 Q757.635 1524.62 758.654 1524.46 Q759.672 1524.27 760.691 1524.27 Q766.478 1524.27 769.857 1527.44 Q773.237 1530.62 773.237 1536.03 Q773.237 1541.61 769.765 1544.71 Q766.292 1547.79 759.973 1547.79 Q757.797 1547.79 755.529 1547.42 Q753.283 1547.05 750.876 1546.31 L750.876 1541.61 Q752.959 1542.74 755.181 1543.3 Q757.404 1543.86 759.88 1543.86 Q763.885 1543.86 766.223 1541.75 Q768.561 1539.64 768.561 1536.03 Q768.561 1532.42 766.223 1530.31 Q763.885 1528.21 759.88 1528.21 Q758.005 1528.21 756.13 1528.62 Q754.279 1529.04 752.334 1529.92 L752.334 1512.56 Z\" fill=\"#000000\" fill-rule=\"evenodd\" fill-opacity=\"1\" /><path clip-path=\"url(#clip990)\" d=\"M1208.4 1515.64 Q1204.79 1515.64 1202.96 1519.2 Q1201.16 1522.75 1201.16 1529.87 Q1201.16 1536.98 1202.96 1540.55 Q1204.79 1544.09 1208.4 1544.09 Q1212.04 1544.09 1213.84 1540.55 Q1215.67 1536.98 1215.67 1529.87 Q1215.67 1522.75 1213.84 1519.2 Q1212.04 1515.64 1208.4 1515.64 M1208.4 1511.93 Q1214.21 1511.93 1217.27 1516.54 Q1220.35 1521.12 1220.35 1529.87 Q1220.35 1538.6 1217.27 1543.21 Q1214.21 1547.79 1208.4 1547.79 Q1202.59 1547.79 1199.52 1543.21 Q1196.46 1538.6 1196.46 1529.87 Q1196.46 1521.12 1199.52 1516.54 Q1202.59 1511.93 1208.4 1511.93 Z\" fill=\"#000000\" fill-rule=\"evenodd\" fill-opacity=\"1\" /><path clip-path=\"url(#clip990)\" d=\"M1228.57 1541.24 L1233.45 1541.24 L1233.45 1547.12 L1228.57 1547.12 L1228.57 1541.24 Z\" fill=\"#000000\" fill-rule=\"evenodd\" fill-opacity=\"1\" /><path clip-path=\"url(#clip990)\" d=\"M1243.68 1512.56 L1262.04 1512.56 L1262.04 1516.5 L1247.96 1516.5 L1247.96 1524.97 Q1248.98 1524.62 1250 1524.46 Q1251.02 1524.27 1252.04 1524.27 Q1257.83 1524.27 1261.2 1527.44 Q1264.58 1530.62 1264.58 1536.03 Q1264.58 1541.61 1261.11 1544.71 Q1257.64 1547.79 1251.32 1547.79 Q1249.14 1547.79 1246.88 1547.42 Q1244.63 1547.05 1242.22 1546.31 L1242.22 1541.61 Q1244.31 1542.74 1246.53 1543.3 Q1248.75 1543.86 1251.23 1543.86 Q1255.23 1543.86 1257.57 1541.75 Q1259.91 1539.64 1259.91 1536.03 Q1259.91 1532.42 1257.57 1530.31 Q1255.23 1528.21 1251.23 1528.21 Q1249.35 1528.21 1247.48 1528.62 Q1245.63 1529.04 1243.68 1529.92 L1243.68 1512.56 Z\" fill=\"#000000\" fill-rule=\"evenodd\" fill-opacity=\"1\" /><path clip-path=\"url(#clip990)\" d=\"M1283.8 1515.64 Q1280.19 1515.64 1278.36 1519.2 Q1276.55 1522.75 1276.55 1529.87 Q1276.55 1536.98 1278.36 1540.55 Q1280.19 1544.09 1283.8 1544.09 Q1287.43 1544.09 1289.24 1540.55 Q1291.07 1536.98 1291.07 1529.87 Q1291.07 1522.75 1289.24 1519.2 Q1287.43 1515.64 1283.8 1515.64 M1283.8 1511.93 Q1289.61 1511.93 1292.66 1516.54 Q1295.74 1521.12 1295.74 1529.87 Q1295.74 1538.6 1292.66 1543.21 Q1289.61 1547.79 1283.8 1547.79 Q1277.99 1547.79 1274.91 1543.21 Q1271.85 1538.6 1271.85 1529.87 Q1271.85 1521.12 1274.91 1516.54 Q1277.99 1511.93 1283.8 1511.93 Z\" fill=\"#000000\" fill-rule=\"evenodd\" fill-opacity=\"1\" /><path clip-path=\"url(#clip990)\" d=\"M1730.91 1515.64 Q1727.3 1515.64 1725.47 1519.2 Q1723.66 1522.75 1723.66 1529.87 Q1723.66 1536.98 1725.47 1540.55 Q1727.3 1544.09 1730.91 1544.09 Q1734.54 1544.09 1736.35 1540.55 Q1738.18 1536.98 1738.18 1529.87 Q1738.18 1522.75 1736.35 1519.2 Q1734.54 1515.64 1730.91 1515.64 M1730.91 1511.93 Q1736.72 1511.93 1739.77 1516.54 Q1742.85 1521.12 1742.85 1529.87 Q1742.85 1538.6 1739.77 1543.21 Q1736.72 1547.79 1730.91 1547.79 Q1725.1 1547.79 1722.02 1543.21 Q1718.96 1538.6 1718.96 1529.87 Q1718.96 1521.12 1722.02 1516.54 Q1725.1 1511.93 1730.91 1511.93 Z\" fill=\"#000000\" fill-rule=\"evenodd\" fill-opacity=\"1\" /><path clip-path=\"url(#clip990)\" d=\"M1751.07 1541.24 L1755.96 1541.24 L1755.96 1547.12 L1751.07 1547.12 L1751.07 1541.24 Z\" fill=\"#000000\" fill-rule=\"evenodd\" fill-opacity=\"1\" /><path clip-path=\"url(#clip990)\" d=\"M1764.96 1512.56 L1787.18 1512.56 L1787.18 1514.55 L1774.64 1547.12 L1769.75 1547.12 L1781.56 1516.5 L1764.96 1516.5 L1764.96 1512.56 Z\" fill=\"#000000\" fill-rule=\"evenodd\" fill-opacity=\"1\" /><path clip-path=\"url(#clip990)\" d=\"M1796.35 1512.56 L1814.7 1512.56 L1814.7 1516.5 L1800.63 1516.5 L1800.63 1524.97 Q1801.65 1524.62 1802.67 1524.46 Q1803.69 1524.27 1804.7 1524.27 Q1810.49 1524.27 1813.87 1527.44 Q1817.25 1530.62 1817.25 1536.03 Q1817.25 1541.61 1813.78 1544.71 Q1810.31 1547.79 1803.99 1547.79 Q1801.81 1547.79 1799.54 1547.42 Q1797.3 1547.05 1794.89 1546.31 L1794.89 1541.61 Q1796.97 1542.74 1799.2 1543.3 Q1801.42 1543.86 1803.89 1543.86 Q1807.9 1543.86 1810.24 1541.75 Q1812.58 1539.64 1812.58 1536.03 Q1812.58 1532.42 1810.24 1530.31 Q1807.9 1528.21 1803.89 1528.21 Q1802.02 1528.21 1800.14 1528.62 Q1798.29 1529.04 1796.35 1529.92 L1796.35 1512.56 Z\" fill=\"#000000\" fill-rule=\"evenodd\" fill-opacity=\"1\" /><path clip-path=\"url(#clip990)\" d=\"M2242.19 1543.18 L2249.83 1543.18 L2249.83 1516.82 L2241.52 1518.49 L2241.52 1514.23 L2249.78 1512.56 L2254.46 1512.56 L2254.46 1543.18 L2262.09 1543.18 L2262.09 1547.12 L2242.19 1547.12 L2242.19 1543.18 Z\" fill=\"#000000\" fill-rule=\"evenodd\" fill-opacity=\"1\" /><path clip-path=\"url(#clip990)\" d=\"M2271.54 1541.24 L2276.42 1541.24 L2276.42 1547.12 L2271.54 1547.12 L2271.54 1541.24 Z\" fill=\"#000000\" fill-rule=\"evenodd\" fill-opacity=\"1\" /><path clip-path=\"url(#clip990)\" d=\"M2296.61 1515.64 Q2293 1515.64 2291.17 1519.2 Q2289.36 1522.75 2289.36 1529.87 Q2289.36 1536.98 2291.17 1540.55 Q2293 1544.09 2296.61 1544.09 Q2300.24 1544.09 2302.05 1540.55 Q2303.88 1536.98 2303.88 1529.87 Q2303.88 1522.75 2302.05 1519.2 Q2300.24 1515.64 2296.61 1515.64 M2296.61 1511.93 Q2302.42 1511.93 2305.47 1516.54 Q2308.55 1521.12 2308.55 1529.87 Q2308.55 1538.6 2305.47 1543.21 Q2302.42 1547.79 2296.61 1547.79 Q2290.8 1547.79 2287.72 1543.21 Q2284.66 1538.6 2284.66 1529.87 Q2284.66 1521.12 2287.72 1516.54 Q2290.8 1511.93 2296.61 1511.93 Z\" fill=\"#000000\" fill-rule=\"evenodd\" fill-opacity=\"1\" /><path clip-path=\"url(#clip990)\" d=\"M2326.77 1515.64 Q2323.16 1515.64 2321.33 1519.2 Q2319.52 1522.75 2319.52 1529.87 Q2319.52 1536.98 2321.33 1540.55 Q2323.16 1544.09 2326.77 1544.09 Q2330.4 1544.09 2332.21 1540.55 Q2334.04 1536.98 2334.04 1529.87 Q2334.04 1522.75 2332.21 1519.2 Q2330.4 1515.64 2326.77 1515.64 M2326.77 1511.93 Q2332.58 1511.93 2335.64 1516.54 Q2338.71 1521.12 2338.71 1529.87 Q2338.71 1538.6 2335.64 1543.21 Q2332.58 1547.79 2326.77 1547.79 Q2320.96 1547.79 2317.88 1543.21 Q2314.83 1538.6 2314.83 1529.87 Q2314.83 1521.12 2317.88 1516.54 Q2320.96 1511.93 2326.77 1511.93 Z\" fill=\"#000000\" fill-rule=\"evenodd\" fill-opacity=\"1\" /><polyline clip-path=\"url(#clip992)\" style=\"stroke:#000000; stroke-linecap:round; stroke-linejoin:round; stroke-width:2; stroke-opacity:0.1; fill:none\" points=\"\n",
              "  139.446,1331.43 2352.76,1331.43 \n",
              "  \"/>\n",
              "<polyline clip-path=\"url(#clip992)\" style=\"stroke:#000000; stroke-linecap:round; stroke-linejoin:round; stroke-width:2; stroke-opacity:0.1; fill:none\" points=\"\n",
              "  139.446,1142.67 2352.76,1142.67 \n",
              "  \"/>\n",
              "<polyline clip-path=\"url(#clip992)\" style=\"stroke:#000000; stroke-linecap:round; stroke-linejoin:round; stroke-width:2; stroke-opacity:0.1; fill:none\" points=\"\n",
              "  139.446,953.903 2352.76,953.903 \n",
              "  \"/>\n",
              "<polyline clip-path=\"url(#clip992)\" style=\"stroke:#000000; stroke-linecap:round; stroke-linejoin:round; stroke-width:2; stroke-opacity:0.1; fill:none\" points=\"\n",
              "  139.446,765.139 2352.76,765.139 \n",
              "  \"/>\n",
              "<polyline clip-path=\"url(#clip992)\" style=\"stroke:#000000; stroke-linecap:round; stroke-linejoin:round; stroke-width:2; stroke-opacity:0.1; fill:none\" points=\"\n",
              "  139.446,576.375 2352.76,576.375 \n",
              "  \"/>\n",
              "<polyline clip-path=\"url(#clip992)\" style=\"stroke:#000000; stroke-linecap:round; stroke-linejoin:round; stroke-width:2; stroke-opacity:0.1; fill:none\" points=\"\n",
              "  139.446,387.611 2352.76,387.611 \n",
              "  \"/>\n",
              "<polyline clip-path=\"url(#clip992)\" style=\"stroke:#000000; stroke-linecap:round; stroke-linejoin:round; stroke-width:2; stroke-opacity:0.1; fill:none\" points=\"\n",
              "  139.446,198.847 2352.76,198.847 \n",
              "  \"/>\n",
              "<polyline clip-path=\"url(#clip990)\" style=\"stroke:#000000; stroke-linecap:round; stroke-linejoin:round; stroke-width:4; stroke-opacity:1; fill:none\" points=\"\n",
              "  139.446,1486.45 139.446,47.2441 \n",
              "  \"/>\n",
              "<polyline clip-path=\"url(#clip990)\" style=\"stroke:#000000; stroke-linecap:round; stroke-linejoin:round; stroke-width:4; stroke-opacity:1; fill:none\" points=\"\n",
              "  139.446,1331.43 166.005,1331.43 \n",
              "  \"/>\n",
              "<polyline clip-path=\"url(#clip990)\" style=\"stroke:#000000; stroke-linecap:round; stroke-linejoin:round; stroke-width:4; stroke-opacity:1; fill:none\" points=\"\n",
              "  139.446,1142.67 166.005,1142.67 \n",
              "  \"/>\n",
              "<polyline clip-path=\"url(#clip990)\" style=\"stroke:#000000; stroke-linecap:round; stroke-linejoin:round; stroke-width:4; stroke-opacity:1; fill:none\" points=\"\n",
              "  139.446,953.903 166.005,953.903 \n",
              "  \"/>\n",
              "<polyline clip-path=\"url(#clip990)\" style=\"stroke:#000000; stroke-linecap:round; stroke-linejoin:round; stroke-width:4; stroke-opacity:1; fill:none\" points=\"\n",
              "  139.446,765.139 166.005,765.139 \n",
              "  \"/>\n",
              "<polyline clip-path=\"url(#clip990)\" style=\"stroke:#000000; stroke-linecap:round; stroke-linejoin:round; stroke-width:4; stroke-opacity:1; fill:none\" points=\"\n",
              "  139.446,576.375 166.005,576.375 \n",
              "  \"/>\n",
              "<polyline clip-path=\"url(#clip990)\" style=\"stroke:#000000; stroke-linecap:round; stroke-linejoin:round; stroke-width:4; stroke-opacity:1; fill:none\" points=\"\n",
              "  139.446,387.611 166.005,387.611 \n",
              "  \"/>\n",
              "<polyline clip-path=\"url(#clip990)\" style=\"stroke:#000000; stroke-linecap:round; stroke-linejoin:round; stroke-width:4; stroke-opacity:1; fill:none\" points=\"\n",
              "  139.446,198.847 166.005,198.847 \n",
              "  \"/>\n",
              "<path clip-path=\"url(#clip990)\" d=\"M91.9178 1329.57 Q88.7697 1329.57 86.9179 1331.72 Q85.0892 1333.87 85.0892 1337.62 Q85.0892 1341.35 86.9179 1343.53 Q88.7697 1345.68 91.9178 1345.68 Q95.066 1345.68 96.8947 1343.53 Q98.7465 1341.35 98.7465 1337.62 Q98.7465 1333.87 96.8947 1331.72 Q95.066 1329.57 91.9178 1329.57 M101.2 1314.91 L101.2 1319.17 Q99.4409 1318.34 97.6354 1317.9 Q95.853 1317.46 94.0937 1317.46 Q89.4641 1317.46 87.0105 1320.59 Q84.5799 1323.71 84.2327 1330.03 Q85.5984 1328.02 87.6586 1326.95 Q89.7188 1325.86 92.1956 1325.86 Q97.4039 1325.86 100.413 1329.03 Q103.446 1332.18 103.446 1337.62 Q103.446 1342.95 100.297 1346.16 Q97.1493 1349.38 91.9178 1349.38 Q85.9225 1349.38 82.7512 1344.8 Q79.5799 1340.19 79.5799 1331.47 Q79.5799 1323.27 83.4688 1318.41 Q87.3577 1313.53 93.9086 1313.53 Q95.6678 1313.53 97.4502 1313.87 Q99.2558 1314.22 101.2 1314.91 Z\" fill=\"#000000\" fill-rule=\"evenodd\" fill-opacity=\"1\" /><path clip-path=\"url(#clip990)\" d=\"M91.5938 1143.53 Q88.2604 1143.53 86.3392 1145.32 Q84.441 1147.1 84.441 1150.22 Q84.441 1153.35 86.3392 1155.13 Q88.2604 1156.91 91.5938 1156.91 Q94.9271 1156.91 96.8484 1155.13 Q98.7696 1153.33 98.7696 1150.22 Q98.7696 1147.1 96.8484 1145.32 Q94.9502 1143.53 91.5938 1143.53 M86.9179 1141.54 Q83.9086 1140.8 82.2188 1138.74 Q80.5522 1136.68 80.5522 1133.72 Q80.5522 1129.58 83.492 1127.17 Q86.4549 1124.76 91.5938 1124.76 Q96.7558 1124.76 99.6956 1127.17 Q102.635 1129.58 102.635 1133.72 Q102.635 1136.68 100.946 1138.74 Q99.2789 1140.8 96.2928 1141.54 Q99.6724 1142.33 101.547 1144.62 Q103.446 1146.91 103.446 1150.22 Q103.446 1155.25 100.367 1157.93 Q97.3113 1160.62 91.5938 1160.62 Q85.8762 1160.62 82.7975 1157.93 Q79.742 1155.25 79.742 1150.22 Q79.742 1146.91 81.6401 1144.62 Q83.5382 1142.33 86.9179 1141.54 M85.2049 1134.16 Q85.2049 1136.84 86.8716 1138.35 Q88.5614 1139.85 91.5938 1139.85 Q94.603 1139.85 96.2928 1138.35 Q98.0058 1136.84 98.0058 1134.16 Q98.0058 1131.47 96.2928 1129.97 Q94.603 1128.47 91.5938 1128.47 Q88.5614 1128.47 86.8716 1129.97 Q85.2049 1131.47 85.2049 1134.16 Z\" fill=\"#000000\" fill-rule=\"evenodd\" fill-opacity=\"1\" /><path clip-path=\"url(#clip990)\" d=\"M52.1495 967.247 L59.7884 967.247 L59.7884 940.882 L51.4782 942.549 L51.4782 938.289 L59.7421 936.623 L64.418 936.623 L64.418 967.247 L72.0568 967.247 L72.0568 971.183 L52.1495 971.183 L52.1495 967.247 Z\" fill=\"#000000\" fill-rule=\"evenodd\" fill-opacity=\"1\" /><path clip-path=\"url(#clip990)\" d=\"M91.5012 939.701 Q87.8901 939.701 86.0614 943.266 Q84.2558 946.808 84.2558 953.937 Q84.2558 961.044 86.0614 964.609 Q87.8901 968.15 91.5012 968.15 Q95.1354 968.15 96.941 964.609 Q98.7696 961.044 98.7696 953.937 Q98.7696 946.808 96.941 943.266 Q95.1354 939.701 91.5012 939.701 M91.5012 935.998 Q97.3113 935.998 100.367 940.604 Q103.446 945.187 103.446 953.937 Q103.446 962.664 100.367 967.271 Q97.3113 971.854 91.5012 971.854 Q85.691 971.854 82.6123 967.271 Q79.5568 962.664 79.5568 953.937 Q79.5568 945.187 82.6123 940.604 Q85.691 935.998 91.5012 935.998 Z\" fill=\"#000000\" fill-rule=\"evenodd\" fill-opacity=\"1\" /><path clip-path=\"url(#clip990)\" d=\"M53.7467 778.484 L61.3856 778.484 L61.3856 752.118 L53.0754 753.785 L53.0754 749.525 L61.3393 747.859 L66.0152 747.859 L66.0152 778.484 L73.654 778.484 L73.654 782.419 L53.7467 782.419 L53.7467 778.484 Z\" fill=\"#000000\" fill-rule=\"evenodd\" fill-opacity=\"1\" /><path clip-path=\"url(#clip990)\" d=\"M87.1262 778.484 L103.446 778.484 L103.446 782.419 L81.5012 782.419 L81.5012 778.484 Q84.1632 775.729 88.7466 771.099 Q93.353 766.447 94.5336 765.104 Q96.7789 762.581 97.6585 760.845 Q98.5613 759.086 98.5613 757.396 Q98.5613 754.641 96.6169 752.905 Q94.6956 751.169 91.5938 751.169 Q89.3947 751.169 86.941 751.933 Q84.5105 752.697 81.7327 754.248 L81.7327 749.525 Q84.5568 748.391 87.0105 747.812 Q89.4641 747.234 91.5012 747.234 Q96.8715 747.234 100.066 749.919 Q103.26 752.604 103.26 757.095 Q103.26 759.224 102.45 761.146 Q101.663 763.044 99.5567 765.636 Q98.978 766.308 95.8761 769.525 Q92.7743 772.72 87.1262 778.484 Z\" fill=\"#000000\" fill-rule=\"evenodd\" fill-opacity=\"1\" /><path clip-path=\"url(#clip990)\" d=\"M51.6634 589.72 L59.3023 589.72 L59.3023 563.354 L50.9921 565.021 L50.9921 560.762 L59.256 559.095 L63.9319 559.095 L63.9319 589.72 L71.5707 589.72 L71.5707 593.655 L51.6634 593.655 L51.6634 589.72 Z\" fill=\"#000000\" fill-rule=\"evenodd\" fill-opacity=\"1\" /><path clip-path=\"url(#clip990)\" d=\"M93.8623 563.169 L82.0568 581.618 L93.8623 581.618 L93.8623 563.169 M92.6354 559.095 L98.515 559.095 L98.515 581.618 L103.446 581.618 L103.446 585.507 L98.515 585.507 L98.515 593.655 L93.8623 593.655 L93.8623 585.507 L78.2605 585.507 L78.2605 580.993 L92.6354 559.095 Z\" fill=\"#000000\" fill-rule=\"evenodd\" fill-opacity=\"1\" /><path clip-path=\"url(#clip990)\" d=\"M51.9875 400.956 L59.6263 400.956 L59.6263 374.59 L51.3162 376.257 L51.3162 371.998 L59.58 370.331 L64.2559 370.331 L64.2559 400.956 L71.8948 400.956 L71.8948 404.891 L51.9875 404.891 L51.9875 400.956 Z\" fill=\"#000000\" fill-rule=\"evenodd\" fill-opacity=\"1\" /><path clip-path=\"url(#clip990)\" d=\"M91.9178 385.748 Q88.7697 385.748 86.9179 387.9 Q85.0892 390.053 85.0892 393.803 Q85.0892 397.53 86.9179 399.706 Q88.7697 401.859 91.9178 401.859 Q95.066 401.859 96.8947 399.706 Q98.7465 397.53 98.7465 393.803 Q98.7465 390.053 96.8947 387.9 Q95.066 385.748 91.9178 385.748 M101.2 371.095 L101.2 375.354 Q99.4409 374.521 97.6354 374.081 Q95.853 373.641 94.0937 373.641 Q89.4641 373.641 87.0105 376.766 Q84.5799 379.891 84.2327 386.211 Q85.5984 384.197 87.6586 383.132 Q89.7188 382.044 92.1956 382.044 Q97.4039 382.044 100.413 385.215 Q103.446 388.363 103.446 393.803 Q103.446 399.127 100.297 402.345 Q97.1493 405.562 91.9178 405.562 Q85.9225 405.562 82.7512 400.979 Q79.5799 396.373 79.5799 387.646 Q79.5799 379.451 83.4688 374.59 Q87.3577 369.706 93.9086 369.706 Q95.6678 369.706 97.4502 370.053 Q99.2558 370.401 101.2 371.095 Z\" fill=\"#000000\" fill-rule=\"evenodd\" fill-opacity=\"1\" /><path clip-path=\"url(#clip990)\" d=\"M52.2421 212.192 L59.881 212.192 L59.881 185.827 L51.5708 187.493 L51.5708 183.234 L59.8347 181.567 L64.5106 181.567 L64.5106 212.192 L72.1494 212.192 L72.1494 216.127 L52.2421 216.127 L52.2421 212.192 Z\" fill=\"#000000\" fill-rule=\"evenodd\" fill-opacity=\"1\" /><path clip-path=\"url(#clip990)\" d=\"M91.5938 199.715 Q88.2604 199.715 86.3392 201.498 Q84.441 203.28 84.441 206.405 Q84.441 209.53 86.3392 211.312 Q88.2604 213.095 91.5938 213.095 Q94.9271 213.095 96.8484 211.312 Q98.7696 209.507 98.7696 206.405 Q98.7696 203.28 96.8484 201.498 Q94.9502 199.715 91.5938 199.715 M86.9179 197.725 Q83.9086 196.984 82.2188 194.924 Q80.5522 192.864 80.5522 189.901 Q80.5522 185.757 83.492 183.35 Q86.4549 180.942 91.5938 180.942 Q96.7558 180.942 99.6956 183.35 Q102.635 185.757 102.635 189.901 Q102.635 192.864 100.946 194.924 Q99.2789 196.984 96.2928 197.725 Q99.6724 198.512 101.547 200.803 Q103.446 203.095 103.446 206.405 Q103.446 211.428 100.367 214.113 Q97.3113 216.799 91.5938 216.799 Q85.8762 216.799 82.7975 214.113 Q79.742 211.428 79.742 206.405 Q79.742 203.095 81.6401 200.803 Q83.5382 198.512 86.9179 197.725 M85.2049 190.34 Q85.2049 193.026 86.8716 194.53 Q88.5614 196.035 91.5938 196.035 Q94.603 196.035 96.2928 194.53 Q98.0058 193.026 98.0058 190.34 Q98.0058 187.655 96.2928 186.151 Q94.603 184.646 91.5938 184.646 Q88.5614 184.646 86.8716 186.151 Q85.2049 187.655 85.2049 190.34 Z\" fill=\"#000000\" fill-rule=\"evenodd\" fill-opacity=\"1\" /><circle clip-path=\"url(#clip992)\" cx=\"202.086\" cy=\"387.611\" r=\"10.8\" fill=\"#add8e6\" fill-rule=\"evenodd\" fill-opacity=\"1\" stroke=\"#000000\" stroke-opacity=\"1\" stroke-width=\"3.2\"/>\n",
              "<circle clip-path=\"url(#clip992)\" cx=\"274.087\" cy=\"274.702\" r=\"10.8\" fill=\"#add8e6\" fill-rule=\"evenodd\" fill-opacity=\"1\" stroke=\"#000000\" stroke-opacity=\"1\" stroke-width=\"3.2\"/>\n",
              "<circle clip-path=\"url(#clip992)\" cx=\"346.088\" cy=\"184.724\" r=\"10.8\" fill=\"#add8e6\" fill-rule=\"evenodd\" fill-opacity=\"1\" stroke=\"#000000\" stroke-opacity=\"1\" stroke-width=\"3.2\"/>\n",
              "<circle clip-path=\"url(#clip992)\" cx=\"418.089\" cy=\"121.887\" r=\"10.8\" fill=\"#add8e6\" fill-rule=\"evenodd\" fill-opacity=\"1\" stroke=\"#000000\" stroke-opacity=\"1\" stroke-width=\"3.2\"/>\n",
              "<circle clip-path=\"url(#clip992)\" cx=\"490.09\" cy=\"89.1267\" r=\"10.8\" fill=\"#add8e6\" fill-rule=\"evenodd\" fill-opacity=\"1\" stroke=\"#000000\" stroke-opacity=\"1\" stroke-width=\"3.2\"/>\n",
              "<circle clip-path=\"url(#clip992)\" cx=\"562.091\" cy=\"87.9763\" r=\"10.8\" fill=\"#add8e6\" fill-rule=\"evenodd\" fill-opacity=\"1\" stroke=\"#000000\" stroke-opacity=\"1\" stroke-width=\"3.2\"/>\n",
              "<circle clip-path=\"url(#clip992)\" cx=\"634.092\" cy=\"118.489\" r=\"10.8\" fill=\"#add8e6\" fill-rule=\"evenodd\" fill-opacity=\"1\" stroke=\"#000000\" stroke-opacity=\"1\" stroke-width=\"3.2\"/>\n",
              "<circle clip-path=\"url(#clip992)\" cx=\"706.093\" cy=\"179.239\" r=\"10.8\" fill=\"#add8e6\" fill-rule=\"evenodd\" fill-opacity=\"1\" stroke=\"#000000\" stroke-opacity=\"1\" stroke-width=\"3.2\"/>\n",
              "<circle clip-path=\"url(#clip992)\" cx=\"778.094\" cy=\"267.384\" r=\"10.8\" fill=\"#add8e6\" fill-rule=\"evenodd\" fill-opacity=\"1\" stroke=\"#000000\" stroke-opacity=\"1\" stroke-width=\"3.2\"/>\n",
              "<circle clip-path=\"url(#clip992)\" cx=\"850.095\" cy=\"378.805\" r=\"10.8\" fill=\"#add8e6\" fill-rule=\"evenodd\" fill-opacity=\"1\" stroke=\"#000000\" stroke-opacity=\"1\" stroke-width=\"3.2\"/>\n",
              "<circle clip-path=\"url(#clip992)\" cx=\"922.096\" cy=\"508.289\" r=\"10.8\" fill=\"#add8e6\" fill-rule=\"evenodd\" fill-opacity=\"1\" stroke=\"#000000\" stroke-opacity=\"1\" stroke-width=\"3.2\"/>\n",
              "<circle clip-path=\"url(#clip992)\" cx=\"994.097\" cy=\"649.784\" r=\"10.8\" fill=\"#add8e6\" fill-rule=\"evenodd\" fill-opacity=\"1\" stroke=\"#000000\" stroke-opacity=\"1\" stroke-width=\"3.2\"/>\n",
              "<circle clip-path=\"url(#clip992)\" cx=\"1066.1\" cy=\"796.672\" r=\"10.8\" fill=\"#add8e6\" fill-rule=\"evenodd\" fill-opacity=\"1\" stroke=\"#000000\" stroke-opacity=\"1\" stroke-width=\"3.2\"/>\n",
              "<circle clip-path=\"url(#clip992)\" cx=\"1138.1\" cy=\"942.086\" r=\"10.8\" fill=\"#add8e6\" fill-rule=\"evenodd\" fill-opacity=\"1\" stroke=\"#000000\" stroke-opacity=\"1\" stroke-width=\"3.2\"/>\n",
              "<circle clip-path=\"url(#clip992)\" cx=\"1210.1\" cy=\"1079.23\" r=\"10.8\" fill=\"#add8e6\" fill-rule=\"evenodd\" fill-opacity=\"1\" stroke=\"#000000\" stroke-opacity=\"1\" stroke-width=\"3.2\"/>\n",
              "<circle clip-path=\"url(#clip992)\" cx=\"1282.1\" cy=\"1201.68\" r=\"10.8\" fill=\"#add8e6\" fill-rule=\"evenodd\" fill-opacity=\"1\" stroke=\"#000000\" stroke-opacity=\"1\" stroke-width=\"3.2\"/>\n",
              "<circle clip-path=\"url(#clip992)\" cx=\"1354.1\" cy=\"1303.72\" r=\"10.8\" fill=\"#add8e6\" fill-rule=\"evenodd\" fill-opacity=\"1\" stroke=\"#000000\" stroke-opacity=\"1\" stroke-width=\"3.2\"/>\n",
              "<circle clip-path=\"url(#clip992)\" cx=\"1426.1\" cy=\"1380.58\" r=\"10.8\" fill=\"#add8e6\" fill-rule=\"evenodd\" fill-opacity=\"1\" stroke=\"#000000\" stroke-opacity=\"1\" stroke-width=\"3.2\"/>\n",
              "<circle clip-path=\"url(#clip992)\" cx=\"1498.1\" cy=\"1428.66\" r=\"10.8\" fill=\"#add8e6\" fill-rule=\"evenodd\" fill-opacity=\"1\" stroke=\"#000000\" stroke-opacity=\"1\" stroke-width=\"3.2\"/>\n",
              "<circle clip-path=\"url(#clip992)\" cx=\"1570.11\" cy=\"1445.72\" r=\"10.8\" fill=\"#add8e6\" fill-rule=\"evenodd\" fill-opacity=\"1\" stroke=\"#000000\" stroke-opacity=\"1\" stroke-width=\"3.2\"/>\n",
              "<circle clip-path=\"url(#clip992)\" cx=\"1642.11\" cy=\"1430.95\" r=\"10.8\" fill=\"#add8e6\" fill-rule=\"evenodd\" fill-opacity=\"1\" stroke=\"#000000\" stroke-opacity=\"1\" stroke-width=\"3.2\"/>\n",
              "<circle clip-path=\"url(#clip992)\" cx=\"1714.11\" cy=\"1385.05\" r=\"10.8\" fill=\"#add8e6\" fill-rule=\"evenodd\" fill-opacity=\"1\" stroke=\"#000000\" stroke-opacity=\"1\" stroke-width=\"3.2\"/>\n",
              "<circle clip-path=\"url(#clip992)\" cx=\"1786.11\" cy=\"1310.16\" r=\"10.8\" fill=\"#add8e6\" fill-rule=\"evenodd\" fill-opacity=\"1\" stroke=\"#000000\" stroke-opacity=\"1\" stroke-width=\"3.2\"/>\n",
              "<circle clip-path=\"url(#clip992)\" cx=\"1858.11\" cy=\"1209.79\" r=\"10.8\" fill=\"#add8e6\" fill-rule=\"evenodd\" fill-opacity=\"1\" stroke=\"#000000\" stroke-opacity=\"1\" stroke-width=\"3.2\"/>\n",
              "<circle clip-path=\"url(#clip992)\" cx=\"1930.11\" cy=\"1088.63\" r=\"10.8\" fill=\"#add8e6\" fill-rule=\"evenodd\" fill-opacity=\"1\" stroke=\"#000000\" stroke-opacity=\"1\" stroke-width=\"3.2\"/>\n",
              "<circle clip-path=\"url(#clip992)\" cx=\"2002.11\" cy=\"952.338\" r=\"10.8\" fill=\"#add8e6\" fill-rule=\"evenodd\" fill-opacity=\"1\" stroke=\"#000000\" stroke-opacity=\"1\" stroke-width=\"3.2\"/>\n",
              "<circle clip-path=\"url(#clip992)\" cx=\"2074.11\" cy=\"807.297\" r=\"10.8\" fill=\"#add8e6\" fill-rule=\"evenodd\" fill-opacity=\"1\" stroke=\"#000000\" stroke-opacity=\"1\" stroke-width=\"3.2\"/>\n",
              "<circle clip-path=\"url(#clip992)\" cx=\"2146.11\" cy=\"660.284\" r=\"10.8\" fill=\"#add8e6\" fill-rule=\"evenodd\" fill-opacity=\"1\" stroke=\"#000000\" stroke-opacity=\"1\" stroke-width=\"3.2\"/>\n",
              "<circle clip-path=\"url(#clip992)\" cx=\"2218.11\" cy=\"518.173\" r=\"10.8\" fill=\"#add8e6\" fill-rule=\"evenodd\" fill-opacity=\"1\" stroke=\"#000000\" stroke-opacity=\"1\" stroke-width=\"3.2\"/>\n",
              "<circle clip-path=\"url(#clip992)\" cx=\"2290.12\" cy=\"387.611\" r=\"10.8\" fill=\"#add8e6\" fill-rule=\"evenodd\" fill-opacity=\"1\" stroke=\"#000000\" stroke-opacity=\"1\" stroke-width=\"3.2\"/>\n",
              "</svg>\n"
            ]
          },
          "execution_count": 84,
          "metadata": {},
          "output_type": "execute_result"
        }
      ],
      "source": [
        "Random.seed!(0)\n",
        "# Gerando dados fictícios para teste\n",
        "n = 30\n",
        "x = range(0, 1, length=n)\n",
        "\n",
        "ϕ1(x) = sin(2π * x)\n",
        "ϕ2(x) = cos(2π * x)\n",
        "ϕ3(x) = 1.0\n",
        "\n",
        "y = 6 * ϕ1.(x) + 4 * ϕ2.(x) + 12*ϕ3.(x)  #ruído\n",
        "scatter(x, y, c=:lightblue, ms=3, leg=false)\n"
      ]
    },
    {
      "cell_type": "code",
      "execution_count": null,
      "metadata": {
        "id": "rfbr4HlIwm-s",
        "outputId": "6036e31e-98da-41f7-a2da-83db1cba4474"
      },
      "outputs": [
        {
          "data": {
            "text/plain": [
              "0.0:0.034482758620689655:1.0"
            ]
          },
          "execution_count": 79,
          "metadata": {},
          "output_type": "execute_result"
        }
      ],
      "source": [
        "x"
      ]
    },
    {
      "cell_type": "code",
      "execution_count": null,
      "metadata": {
        "id": "dW31BxDlwm-u",
        "outputId": "7441bfa6-5fa6-4892-984b-52faced8de32"
      },
      "outputs": [
        {
          "data": {
            "text/plain": [
              "0.9655172413793104"
            ]
          },
          "execution_count": 83,
          "metadata": {},
          "output_type": "execute_result"
        }
      ],
      "source": [
        "x[29]"
      ]
    },
    {
      "cell_type": "code",
      "execution_count": null,
      "metadata": {
        "id": "lWUmKkBvwm-v",
        "outputId": "5eca123c-3d14-4edb-9635-0e16e34dfd6f"
      },
      "outputs": [
        {
          "data": {
            "text/plain": [
              "(30,)"
            ]
          },
          "execution_count": 35,
          "metadata": {},
          "output_type": "execute_result"
        }
      ],
      "source": [
        "size(x)"
      ]
    },
    {
      "cell_type": "code",
      "execution_count": null,
      "metadata": {
        "id": "2w-m45tRwm-v",
        "outputId": "4945edd9-cf0f-4bc0-9f14-9b54fc3d5144"
      },
      "outputs": [
        {
          "data": {
            "text/plain": [
              "(30,)"
            ]
          },
          "execution_count": 36,
          "metadata": {},
          "output_type": "execute_result"
        }
      ],
      "source": [
        "size(y)"
      ]
    },
    {
      "cell_type": "code",
      "execution_count": null,
      "metadata": {
        "id": "k77RMBBSwm-w",
        "outputId": "aff35537-1fe9-4376-fc70-f2de3bfe20d1"
      },
      "outputs": [
        {
          "data": {
            "text/plain": [
              "vandermonde (generic function with 1 method)"
            ]
          },
          "execution_count": 37,
          "metadata": {},
          "output_type": "execute_result"
        }
      ],
      "source": [
        "function vandermonde(x,y,grau)\n",
        "    n,=size(y)\n",
        "    V=zeros(n,grau+1)\n",
        "    for i=1:n #linhas\n",
        "        for j=1:(grau+1)\n",
        "            V[i,j]=x[i]^(j-1)\n",
        "        end\n",
        "    end\n",
        "    return V\n",
        "end"
      ]
    },
    {
      "cell_type": "code",
      "execution_count": null,
      "metadata": {
        "id": "95TJJYQ3wm-x",
        "outputId": "1b421a18-d532-4275-8925-081d6d56ab04"
      },
      "outputs": [
        {
          "data": {
            "text/plain": [
              "π = 3.1415926535897..."
            ]
          },
          "execution_count": 38,
          "metadata": {},
          "output_type": "execute_result"
        }
      ],
      "source": [
        "π"
      ]
    },
    {
      "cell_type": "code",
      "execution_count": null,
      "metadata": {
        "id": "MzAxEoeZwm-z",
        "outputId": "72cabc9f-f696-4231-83d7-4df98a81b149"
      },
      "outputs": [
        {
          "data": {
            "text/plain": [
              "matrix_sen_cos (generic function with 1 method)"
            ]
          },
          "execution_count": 39,
          "metadata": {},
          "output_type": "execute_result"
        }
      ],
      "source": [
        "function matrix_sen_cos(x,y)\n",
        "    n,=size(y)\n",
        "    V=zeros(n,3)\n",
        "    for i=1:n #linhas\n",
        "        V[i,1]=sin(2*π*x[i])\n",
        "        V[i,2]=cos(2*π*x[i])\n",
        "        V[i,3]=1\n",
        "    end\n",
        "    return V\n",
        "end"
      ]
    },
    {
      "cell_type": "code",
      "execution_count": null,
      "metadata": {
        "id": "TM3kzHB1wm-0",
        "outputId": "c19b6736-7e30-4ebf-f3a9-9a81f053266c"
      },
      "outputs": [
        {
          "data": {
            "text/plain": [
              "30×3 Matrix{Float64}:\n",
              "  0.0           1.0        1.0\n",
              "  0.21497       0.976621   1.0\n",
              "  0.419889      0.907575   1.0\n",
              "  0.605174      0.796093   1.0\n",
              "  0.762162      0.647386   1.0\n",
              "  0.883512      0.468408   1.0\n",
              "  0.96355       0.267528   1.0\n",
              "  0.998533      0.0541389  1.0\n",
              "  0.986827     -0.161782   1.0\n",
              "  0.928977     -0.370138   1.0\n",
              "  0.827689     -0.561187   1.0\n",
              "  0.687699     -0.725995   1.0\n",
              "  0.515554     -0.856857   1.0\n",
              "  ⋮                        \n",
              " -0.687699     -0.725995   1.0\n",
              " -0.827689     -0.561187   1.0\n",
              " -0.928977     -0.370138   1.0\n",
              " -0.986827     -0.161782   1.0\n",
              " -0.998533      0.0541389  1.0\n",
              " -0.96355       0.267528   1.0\n",
              " -0.883512      0.468408   1.0\n",
              " -0.762162      0.647386   1.0\n",
              " -0.605174      0.796093   1.0\n",
              " -0.419889      0.907575   1.0\n",
              " -0.21497       0.976621   1.0\n",
              " -2.44929e-16   1.0        1.0"
            ]
          },
          "execution_count": 40,
          "metadata": {},
          "output_type": "execute_result"
        }
      ],
      "source": [
        "matrix_sen_cos(x,y)"
      ]
    },
    {
      "cell_type": "code",
      "execution_count": null,
      "metadata": {
        "id": "jjw4iksAwm-2",
        "outputId": "62b2b679-68a8-42dd-b55f-2a5f6d1c644d"
      },
      "outputs": [
        {
          "data": {
            "text/plain": [
              "(30, 4)"
            ]
          },
          "execution_count": 41,
          "metadata": {},
          "output_type": "execute_result"
        }
      ],
      "source": [
        "V=vandermonde(x,y,3)\n",
        "size(V)"
      ]
    },
    {
      "cell_type": "code",
      "execution_count": null,
      "metadata": {
        "id": "cNvP7XfGwm-4",
        "outputId": "e85f18b1-2b7e-4ec9-ddbe-095ad15b9fc7"
      },
      "outputs": [
        {
          "data": {
            "text/plain": [
              "30×4 Matrix{Float64}:\n",
              " 1.0  0.0        0.0         0.0\n",
              " 1.0  0.0344828  0.00118906  4.10021e-5\n",
              " 1.0  0.0689655  0.00475624  0.000328017\n",
              " 1.0  0.103448   0.0107015   0.00110706\n",
              " 1.0  0.137931   0.019025    0.00262413\n",
              " 1.0  0.172414   0.0297265   0.00512526\n",
              " 1.0  0.206897   0.0428062   0.00885645\n",
              " 1.0  0.241379   0.058264    0.0140637\n",
              " 1.0  0.275862   0.0760999   0.0209931\n",
              " 1.0  0.310345   0.0963139   0.0298905\n",
              " 1.0  0.344828   0.118906    0.0410021\n",
              " 1.0  0.37931    0.143876    0.0545738\n",
              " 1.0  0.413793   0.171225    0.0708516\n",
              " ⋮                           \n",
              " 1.0  0.62069    0.385256    0.239124\n",
              " 1.0  0.655172   0.429251    0.281233\n",
              " 1.0  0.689655   0.475624    0.328017\n",
              " 1.0  0.724138   0.524376    0.37972\n",
              " 1.0  0.758621   0.575505    0.43659\n",
              " 1.0  0.793103   0.629013    0.498872\n",
              " 1.0  0.827586   0.684899    0.566813\n",
              " 1.0  0.862069   0.743163    0.640658\n",
              " 1.0  0.896552   0.803805    0.720653\n",
              " 1.0  0.931034   0.866825    0.807044\n",
              " 1.0  0.965517   0.932224    0.900078\n",
              " 1.0  1.0        1.0         1.0"
            ]
          },
          "execution_count": 42,
          "metadata": {},
          "output_type": "execute_result"
        }
      ],
      "source": [
        "V"
      ]
    },
    {
      "cell_type": "code",
      "execution_count": null,
      "metadata": {
        "id": "tXXr8gFzwm-5",
        "outputId": "26de2b6a-b50f-402e-8d62-7cfa90208814"
      },
      "outputs": [
        {
          "data": {
            "text/plain": [
              "regressão (generic function with 1 method)"
            ]
          },
          "execution_count": 43,
          "metadata": {},
          "output_type": "execute_result"
        }
      ],
      "source": [
        "function regressão(x,y,grau)\n",
        "    V=vandermonde(x,y,grau)\n",
        "    c=V\\y #mínimos quadrados\n",
        "    return c\n",
        "end"
      ]
    },
    {
      "cell_type": "code",
      "execution_count": null,
      "metadata": {
        "id": "83aRX_AIwm-6",
        "outputId": "bc8c59da-bfa7-4381-9ebd-a8a4fde38ecb"
      },
      "outputs": [
        {
          "data": {
            "text/plain": [
              "3-element Vector{Float64}:\n",
              "  236.19999999999962\n",
              " -169.0939393939393\n",
              "   23.439393939393934"
            ]
          },
          "execution_count": 65,
          "metadata": {},
          "output_type": "execute_result"
        }
      ],
      "source": [
        "c=regressão(x,y,2)"
      ]
    },
    {
      "cell_type": "code",
      "execution_count": null,
      "metadata": {
        "id": "rc5wF2grwm-6",
        "outputId": "da76400d-f0ab-4558-aa4b-3ea5cf87a362"
      },
      "outputs": [
        {
          "data": {
            "text/plain": [
              "parabola (generic function with 1 method)"
            ]
          },
          "execution_count": 66,
          "metadata": {},
          "output_type": "execute_result"
        }
      ],
      "source": [
        "parabola(x)=c[1]+c[2]*x+c[3]*x^2"
      ]
    },
    {
      "cell_type": "code",
      "execution_count": null,
      "metadata": {
        "id": "cjU_Jiypwm-7",
        "outputId": "105c3a2b-7ede-44c3-cd02-44e52fc4c97a"
      },
      "outputs": [
        {
          "data": {
            "text/plain": [
              "cúbica (generic function with 1 method)"
            ]
          },
          "execution_count": 67,
          "metadata": {},
          "output_type": "execute_result"
        }
      ],
      "source": [
        "cúbica(x)=d[1]+d[2]*x+d[3]*x^2+d[4]*x^3"
      ]
    },
    {
      "cell_type": "code",
      "execution_count": null,
      "metadata": {
        "id": "5OJTqod_wm-7"
      },
      "outputs": [],
      "source": []
    },
    {
      "cell_type": "code",
      "execution_count": null,
      "metadata": {
        "id": "d2PlgYS9wm-8",
        "outputId": "54005543-fa95-4468-e213-d959f1fab1c9"
      },
      "outputs": [
        {
          "data": {
            "text/plain": [
              "3-element Vector{Float64}:\n",
              "  236.19999999999962\n",
              " -169.0939393939393\n",
              "   23.439393939393934"
            ]
          },
          "execution_count": 68,
          "metadata": {},
          "output_type": "execute_result"
        }
      ],
      "source": [
        "d=regressão(x,y,2)"
      ]
    },
    {
      "cell_type": "code",
      "execution_count": null,
      "metadata": {
        "id": "lm61d944wm-8",
        "outputId": "9a491387-481a-4704-e18a-849d84435c2f"
      },
      "outputs": [
        {
          "data": {
            "text/plain": [
              "modelo_sc (generic function with 1 method)"
            ]
          },
          "execution_count": 69,
          "metadata": {},
          "output_type": "execute_result"
        }
      ],
      "source": [
        "#constante\n",
        "V=vandermonde(x,y,0)\n",
        "a=regressão(x,y,0)\n",
        "constante(x)=a[1]\n",
        "\n",
        "#reta\n",
        "V=vandermonde(x,y,1)\n",
        "b=regressão(x,y,1)\n",
        "reta(x)=b[1]+b[2]*x\n",
        "\n",
        "#parabola\n",
        "V=vandermonde(x,y,2)\n",
        "c=regressão(x,y,2)\n",
        "parabola(x)=c[1]+c[2]*x+c[3]*x^2\n",
        "\n",
        "#cúbica\n",
        "V=vandermonde(x,y,3)\n",
        "d=regressão(x,y,3)\n",
        "cúbica(x)=d[1]+d[2]*x+d[3]*x^2+d[4]*x^3\n",
        "\n",
        "#modelo_sc]\n",
        "V=matrix_sen_cos(x,y)\n",
        "f=V\\y\n",
        "modelo_sc(x)=f[1]*sin(2*π*x)+f[2]*cos(2*π*x)+f[3]"
      ]
    },
    {
      "cell_type": "code",
      "execution_count": null,
      "metadata": {
        "id": "T43YlI9Bwm-9",
        "outputId": "ce2c0484-3a46-4147-b5fe-ee9b88e293c0"
      },
      "outputs": [
        {
          "data": {
            "image/svg+xml": [
              "<?xml version=\"1.0\" encoding=\"utf-8\"?>\n",
              "<svg xmlns=\"http://www.w3.org/2000/svg\" xmlns:xlink=\"http://www.w3.org/1999/xlink\" width=\"600\" height=\"400\" viewBox=\"0 0 2400 1600\">\n",
              "<defs>\n",
              "  <clipPath id=\"clip790\">\n",
              "    <rect x=\"0\" y=\"0\" width=\"2400\" height=\"1600\"/>\n",
              "  </clipPath>\n",
              "</defs>\n",
              "<path clip-path=\"url(#clip790)\" d=\"\n",
              "M0 1600 L2400 1600 L2400 0 L0 0  Z\n",
              "  \" fill=\"#ffffff\" fill-rule=\"evenodd\" fill-opacity=\"1\"/>\n",
              "<defs>\n",
              "  <clipPath id=\"clip791\">\n",
              "    <rect x=\"480\" y=\"0\" width=\"1681\" height=\"1600\"/>\n",
              "  </clipPath>\n",
              "</defs>\n",
              "<path clip-path=\"url(#clip790)\" d=\"\n",
              "M335.472 1486.45 L2352.76 1486.45 L2352.76 47.2441 L335.472 47.2441  Z\n",
              "  \" fill=\"#ffffff\" fill-rule=\"evenodd\" fill-opacity=\"1\"/>\n",
              "<defs>\n",
              "  <clipPath id=\"clip792\">\n",
              "    <rect x=\"335\" y=\"47\" width=\"2018\" height=\"1440\"/>\n",
              "  </clipPath>\n",
              "</defs>\n",
              "<polyline clip-path=\"url(#clip792)\" style=\"stroke:#000000; stroke-linecap:round; stroke-linejoin:round; stroke-width:2; stroke-opacity:0.1; fill:none\" points=\"\n",
              "  685.433,1486.45 685.433,47.2441 \n",
              "  \"/>\n",
              "<polyline clip-path=\"url(#clip792)\" style=\"stroke:#000000; stroke-linecap:round; stroke-linejoin:round; stroke-width:2; stroke-opacity:0.1; fill:none\" points=\"\n",
              "  1061.82,1486.45 1061.82,47.2441 \n",
              "  \"/>\n",
              "<polyline clip-path=\"url(#clip792)\" style=\"stroke:#000000; stroke-linecap:round; stroke-linejoin:round; stroke-width:2; stroke-opacity:0.1; fill:none\" points=\"\n",
              "  1438.21,1486.45 1438.21,47.2441 \n",
              "  \"/>\n",
              "<polyline clip-path=\"url(#clip792)\" style=\"stroke:#000000; stroke-linecap:round; stroke-linejoin:round; stroke-width:2; stroke-opacity:0.1; fill:none\" points=\"\n",
              "  1814.6,1486.45 1814.6,47.2441 \n",
              "  \"/>\n",
              "<polyline clip-path=\"url(#clip792)\" style=\"stroke:#000000; stroke-linecap:round; stroke-linejoin:round; stroke-width:2; stroke-opacity:0.1; fill:none\" points=\"\n",
              "  2190.99,1486.45 2190.99,47.2441 \n",
              "  \"/>\n",
              "<polyline clip-path=\"url(#clip790)\" style=\"stroke:#000000; stroke-linecap:round; stroke-linejoin:round; stroke-width:4; stroke-opacity:1; fill:none\" points=\"\n",
              "  335.472,1486.45 2352.76,1486.45 \n",
              "  \"/>\n",
              "<polyline clip-path=\"url(#clip790)\" style=\"stroke:#000000; stroke-linecap:round; stroke-linejoin:round; stroke-width:4; stroke-opacity:1; fill:none\" points=\"\n",
              "  685.433,1486.45 685.433,1469.18 \n",
              "  \"/>\n",
              "<polyline clip-path=\"url(#clip790)\" style=\"stroke:#000000; stroke-linecap:round; stroke-linejoin:round; stroke-width:4; stroke-opacity:1; fill:none\" points=\"\n",
              "  1061.82,1486.45 1061.82,1469.18 \n",
              "  \"/>\n",
              "<polyline clip-path=\"url(#clip790)\" style=\"stroke:#000000; stroke-linecap:round; stroke-linejoin:round; stroke-width:4; stroke-opacity:1; fill:none\" points=\"\n",
              "  1438.21,1486.45 1438.21,1469.18 \n",
              "  \"/>\n",
              "<polyline clip-path=\"url(#clip790)\" style=\"stroke:#000000; stroke-linecap:round; stroke-linejoin:round; stroke-width:4; stroke-opacity:1; fill:none\" points=\"\n",
              "  1814.6,1486.45 1814.6,1469.18 \n",
              "  \"/>\n",
              "<polyline clip-path=\"url(#clip790)\" style=\"stroke:#000000; stroke-linecap:round; stroke-linejoin:round; stroke-width:4; stroke-opacity:1; fill:none\" points=\"\n",
              "  2190.99,1486.45 2190.99,1469.18 \n",
              "  \"/>\n",
              "<path clip-path=\"url(#clip790)\" d=\"M680.086 1543.18 L696.405 1543.18 L696.405 1547.12 L674.461 1547.12 L674.461 1543.18 Q677.123 1540.43 681.706 1535.8 Q686.313 1531.15 687.493 1529.81 Q689.738 1527.28 690.618 1525.55 Q691.521 1523.79 691.521 1522.1 Q691.521 1519.34 689.576 1517.61 Q687.655 1515.87 684.553 1515.87 Q682.354 1515.87 679.901 1516.63 Q677.47 1517.4 674.692 1518.95 L674.692 1514.23 Q677.516 1513.09 679.97 1512.51 Q682.424 1511.93 684.461 1511.93 Q689.831 1511.93 693.026 1514.62 Q696.22 1517.31 696.22 1521.8 Q696.22 1523.93 695.41 1525.85 Q694.623 1527.74 692.516 1530.34 Q691.938 1531.01 688.836 1534.23 Q685.734 1537.42 680.086 1543.18 Z\" fill=\"#000000\" fill-rule=\"evenodd\" fill-opacity=\"1\" /><path clip-path=\"url(#clip790)\" d=\"M1064.83 1516.63 L1053.03 1535.08 L1064.83 1535.08 L1064.83 1516.63 M1063.6 1512.56 L1069.48 1512.56 L1069.48 1535.08 L1074.41 1535.08 L1074.41 1538.97 L1069.48 1538.97 L1069.48 1547.12 L1064.83 1547.12 L1064.83 1538.97 L1049.23 1538.97 L1049.23 1534.46 L1063.6 1512.56 Z\" fill=\"#000000\" fill-rule=\"evenodd\" fill-opacity=\"1\" /><path clip-path=\"url(#clip790)\" d=\"M1438.62 1527.98 Q1435.47 1527.98 1433.62 1530.13 Q1431.79 1532.28 1431.79 1536.03 Q1431.79 1539.76 1433.62 1541.93 Q1435.47 1544.09 1438.62 1544.09 Q1441.76 1544.09 1443.59 1541.93 Q1445.44 1539.76 1445.44 1536.03 Q1445.44 1532.28 1443.59 1530.13 Q1441.76 1527.98 1438.62 1527.98 M1447.9 1513.32 L1447.9 1517.58 Q1446.14 1516.75 1444.33 1516.31 Q1442.55 1515.87 1440.79 1515.87 Q1436.16 1515.87 1433.71 1519 Q1431.28 1522.12 1430.93 1528.44 Q1432.3 1526.43 1434.36 1525.36 Q1436.42 1524.27 1438.89 1524.27 Q1444.1 1524.27 1447.11 1527.44 Q1450.14 1530.59 1450.14 1536.03 Q1450.14 1541.36 1447 1544.57 Q1443.85 1547.79 1438.62 1547.79 Q1432.62 1547.79 1429.45 1543.21 Q1426.28 1538.6 1426.28 1529.87 Q1426.28 1521.68 1430.17 1516.82 Q1434.06 1511.93 1440.61 1511.93 Q1442.37 1511.93 1444.15 1512.28 Q1445.95 1512.63 1447.9 1513.32 Z\" fill=\"#000000\" fill-rule=\"evenodd\" fill-opacity=\"1\" /><path clip-path=\"url(#clip790)\" d=\"M1814.6 1530.71 Q1811.27 1530.71 1809.35 1532.49 Q1807.45 1534.27 1807.45 1537.4 Q1807.45 1540.52 1809.35 1542.31 Q1811.27 1544.09 1814.6 1544.09 Q1817.93 1544.09 1819.85 1542.31 Q1821.78 1540.5 1821.78 1537.4 Q1821.78 1534.27 1819.85 1532.49 Q1817.96 1530.71 1814.6 1530.71 M1809.92 1528.72 Q1806.91 1527.98 1805.23 1525.92 Q1803.56 1523.86 1803.56 1520.89 Q1803.56 1516.75 1806.5 1514.34 Q1809.46 1511.93 1814.6 1511.93 Q1819.76 1511.93 1822.7 1514.34 Q1825.64 1516.75 1825.64 1520.89 Q1825.64 1523.86 1823.95 1525.92 Q1822.29 1527.98 1819.3 1528.72 Q1822.68 1529.5 1824.55 1531.8 Q1826.45 1534.09 1826.45 1537.4 Q1826.45 1542.42 1823.37 1545.11 Q1820.32 1547.79 1814.6 1547.79 Q1808.88 1547.79 1805.8 1545.11 Q1802.75 1542.42 1802.75 1537.4 Q1802.75 1534.09 1804.65 1531.8 Q1806.54 1529.5 1809.92 1528.72 M1808.21 1521.33 Q1808.21 1524.02 1809.88 1525.52 Q1811.57 1527.03 1814.6 1527.03 Q1817.61 1527.03 1819.3 1525.52 Q1821.01 1524.02 1821.01 1521.33 Q1821.01 1518.65 1819.3 1517.14 Q1817.61 1515.64 1814.6 1515.64 Q1811.57 1515.64 1809.88 1517.14 Q1808.21 1518.65 1808.21 1521.33 Z\" fill=\"#000000\" fill-rule=\"evenodd\" fill-opacity=\"1\" /><path clip-path=\"url(#clip790)\" d=\"M2165.68 1543.18 L2173.32 1543.18 L2173.32 1516.82 L2165.01 1518.49 L2165.01 1514.23 L2173.27 1512.56 L2177.95 1512.56 L2177.95 1543.18 L2185.58 1543.18 L2185.58 1547.12 L2165.68 1547.12 L2165.68 1543.18 Z\" fill=\"#000000\" fill-rule=\"evenodd\" fill-opacity=\"1\" /><path clip-path=\"url(#clip790)\" d=\"M2205.03 1515.64 Q2201.42 1515.64 2199.59 1519.2 Q2197.78 1522.75 2197.78 1529.87 Q2197.78 1536.98 2199.59 1540.55 Q2201.42 1544.09 2205.03 1544.09 Q2208.66 1544.09 2210.47 1540.55 Q2212.3 1536.98 2212.3 1529.87 Q2212.3 1522.75 2210.47 1519.2 Q2208.66 1515.64 2205.03 1515.64 M2205.03 1511.93 Q2210.84 1511.93 2213.89 1516.54 Q2216.97 1521.12 2216.97 1529.87 Q2216.97 1538.6 2213.89 1543.21 Q2210.84 1547.79 2205.03 1547.79 Q2199.22 1547.79 2196.14 1543.21 Q2193.08 1538.6 2193.08 1529.87 Q2193.08 1521.12 2196.14 1516.54 Q2199.22 1511.93 2205.03 1511.93 Z\" fill=\"#000000\" fill-rule=\"evenodd\" fill-opacity=\"1\" /><polyline clip-path=\"url(#clip792)\" style=\"stroke:#000000; stroke-linecap:round; stroke-linejoin:round; stroke-width:2; stroke-opacity:0.1; fill:none\" points=\"\n",
              "  335.472,1260.09 2352.76,1260.09 \n",
              "  \"/>\n",
              "<polyline clip-path=\"url(#clip792)\" style=\"stroke:#000000; stroke-linecap:round; stroke-linejoin:round; stroke-width:2; stroke-opacity:0.1; fill:none\" points=\"\n",
              "  335.472,871.725 2352.76,871.725 \n",
              "  \"/>\n",
              "<polyline clip-path=\"url(#clip792)\" style=\"stroke:#000000; stroke-linecap:round; stroke-linejoin:round; stroke-width:2; stroke-opacity:0.1; fill:none\" points=\"\n",
              "  335.472,483.366 2352.76,483.366 \n",
              "  \"/>\n",
              "<polyline clip-path=\"url(#clip792)\" style=\"stroke:#000000; stroke-linecap:round; stroke-linejoin:round; stroke-width:2; stroke-opacity:0.1; fill:none\" points=\"\n",
              "  335.472,95.0062 2352.76,95.0062 \n",
              "  \"/>\n",
              "<polyline clip-path=\"url(#clip790)\" style=\"stroke:#000000; stroke-linecap:round; stroke-linejoin:round; stroke-width:4; stroke-opacity:1; fill:none\" points=\"\n",
              "  335.472,1486.45 335.472,47.2441 \n",
              "  \"/>\n",
              "<polyline clip-path=\"url(#clip790)\" style=\"stroke:#000000; stroke-linecap:round; stroke-linejoin:round; stroke-width:4; stroke-opacity:1; fill:none\" points=\"\n",
              "  335.472,1260.09 359.679,1260.09 \n",
              "  \"/>\n",
              "<polyline clip-path=\"url(#clip790)\" style=\"stroke:#000000; stroke-linecap:round; stroke-linejoin:round; stroke-width:4; stroke-opacity:1; fill:none\" points=\"\n",
              "  335.472,871.725 359.679,871.725 \n",
              "  \"/>\n",
              "<polyline clip-path=\"url(#clip790)\" style=\"stroke:#000000; stroke-linecap:round; stroke-linejoin:round; stroke-width:4; stroke-opacity:1; fill:none\" points=\"\n",
              "  335.472,483.366 359.679,483.366 \n",
              "  \"/>\n",
              "<polyline clip-path=\"url(#clip790)\" style=\"stroke:#000000; stroke-linecap:round; stroke-linejoin:round; stroke-width:4; stroke-opacity:1; fill:none\" points=\"\n",
              "  335.472,95.0062 359.679,95.0062 \n",
              "  \"/>\n",
              "<path clip-path=\"url(#clip790)\" d=\"M50.9921 1266.98 L80.6679 1266.98 L80.6679 1270.92 L50.9921 1270.92 L50.9921 1266.98 Z\" fill=\"#000000\" fill-rule=\"evenodd\" fill-opacity=\"1\" /><path clip-path=\"url(#clip790)\" d=\"M94.7882 1279.88 L111.108 1279.88 L111.108 1283.81 L89.1632 1283.81 L89.1632 1279.88 Q91.8252 1277.12 96.4085 1272.49 Q101.015 1267.84 102.196 1266.5 Q104.441 1263.97 105.321 1262.24 Q106.223 1260.48 106.223 1258.79 Q106.223 1256.04 104.279 1254.3 Q102.358 1252.56 99.2558 1252.56 Q97.0567 1252.56 94.603 1253.33 Q92.1725 1254.09 89.3947 1255.64 L89.3947 1250.92 Q92.2188 1249.79 94.6724 1249.21 Q97.1261 1248.63 99.1632 1248.63 Q104.534 1248.63 107.728 1251.31 Q110.922 1254 110.922 1258.49 Q110.922 1260.62 110.112 1262.54 Q109.325 1264.44 107.219 1267.03 Q106.64 1267.7 103.538 1270.92 Q100.436 1274.11 94.7882 1279.88 Z\" fill=\"#000000\" fill-rule=\"evenodd\" fill-opacity=\"1\" /><path clip-path=\"url(#clip790)\" d=\"M120.922 1277.93 L125.807 1277.93 L125.807 1283.81 L120.922 1283.81 L120.922 1277.93 Z\" fill=\"#000000\" fill-rule=\"evenodd\" fill-opacity=\"1\" /><path clip-path=\"url(#clip790)\" d=\"M145.992 1252.33 Q142.381 1252.33 140.552 1255.9 Q138.746 1259.44 138.746 1266.57 Q138.746 1273.67 140.552 1277.24 Q142.381 1280.78 145.992 1280.78 Q149.626 1280.78 151.431 1277.24 Q153.26 1273.67 153.26 1266.57 Q153.26 1259.44 151.431 1255.9 Q149.626 1252.33 145.992 1252.33 M145.992 1248.63 Q151.802 1248.63 154.857 1253.23 Q157.936 1257.82 157.936 1266.57 Q157.936 1275.29 154.857 1279.9 Q151.802 1284.48 145.992 1284.48 Q140.181 1284.48 137.103 1279.9 Q134.047 1275.29 134.047 1266.57 Q134.047 1257.82 137.103 1253.23 Q140.181 1248.63 145.992 1248.63 Z\" fill=\"#000000\" fill-rule=\"evenodd\" fill-opacity=\"1\" /><path clip-path=\"url(#clip790)\" d=\"M194.325 1258.35 L183.746 1268.97 L194.325 1279.55 L191.57 1282.35 L180.945 1271.73 L170.32 1282.35 L167.589 1279.55 L178.144 1268.97 L167.589 1258.35 L170.32 1255.55 L180.945 1266.17 L191.57 1255.55 L194.325 1258.35 Z\" fill=\"#000000\" fill-rule=\"evenodd\" fill-opacity=\"1\" /><path clip-path=\"url(#clip790)\" d=\"M206.686 1279.88 L214.325 1279.88 L214.325 1253.51 L206.014 1255.18 L206.014 1250.92 L214.278 1249.25 L218.954 1249.25 L218.954 1279.88 L226.593 1279.88 L226.593 1283.81 L206.686 1283.81 L206.686 1279.88 Z\" fill=\"#000000\" fill-rule=\"evenodd\" fill-opacity=\"1\" /><path clip-path=\"url(#clip790)\" d=\"M246.037 1252.33 Q242.426 1252.33 240.598 1255.9 Q238.792 1259.44 238.792 1266.57 Q238.792 1273.67 240.598 1277.24 Q242.426 1280.78 246.037 1280.78 Q249.672 1280.78 251.477 1277.24 Q253.306 1273.67 253.306 1266.57 Q253.306 1259.44 251.477 1255.9 Q249.672 1252.33 246.037 1252.33 M246.037 1248.63 Q251.848 1248.63 254.903 1253.23 Q257.982 1257.82 257.982 1266.57 Q257.982 1275.29 254.903 1279.9 Q251.848 1284.48 246.037 1284.48 Q240.227 1284.48 237.149 1279.9 Q234.093 1275.29 234.093 1266.57 Q234.093 1257.82 237.149 1253.23 Q240.227 1248.63 246.037 1248.63 Z\" fill=\"#000000\" fill-rule=\"evenodd\" fill-opacity=\"1\" /><path clip-path=\"url(#clip790)\" d=\"M258.527 1253.2 L264.734 1253.2 L264.734 1231.78 L257.982 1233.14 L257.982 1229.68 L264.696 1228.32 L268.495 1228.32 L268.495 1253.2 L274.702 1253.2 L274.702 1256.4 L258.527 1256.4 L258.527 1253.2 Z\" fill=\"#000000\" fill-rule=\"evenodd\" fill-opacity=\"1\" /><path clip-path=\"url(#clip790)\" d=\"M281.416 1228.32 L299.472 1228.32 L299.472 1229.94 L289.278 1256.4 L285.309 1256.4 L294.901 1231.52 L281.416 1231.52 L281.416 1228.32 Z\" fill=\"#000000\" fill-rule=\"evenodd\" fill-opacity=\"1\" /><path clip-path=\"url(#clip790)\" d=\"M287.527 857.524 Q283.916 857.524 282.088 861.089 Q280.282 864.631 280.282 871.76 Q280.282 878.867 282.088 882.431 Q283.916 885.973 287.527 885.973 Q291.162 885.973 292.967 882.431 Q294.796 878.867 294.796 871.76 Q294.796 864.631 292.967 861.089 Q291.162 857.524 287.527 857.524 M287.527 853.82 Q293.337 853.82 296.393 858.427 Q299.472 863.01 299.472 871.76 Q299.472 880.487 296.393 885.093 Q293.337 889.677 287.527 889.677 Q281.717 889.677 278.638 885.093 Q275.583 880.487 275.583 871.76 Q275.583 863.01 278.638 858.427 Q281.717 853.82 287.527 853.82 Z\" fill=\"#000000\" fill-rule=\"evenodd\" fill-opacity=\"1\" /><path clip-path=\"url(#clip790)\" d=\"M94.7882 503.158 L111.108 503.158 L111.108 507.093 L89.1632 507.093 L89.1632 503.158 Q91.8252 500.404 96.4085 495.774 Q101.015 491.121 102.196 489.779 Q104.441 487.256 105.321 485.519 Q106.223 483.76 106.223 482.07 Q106.223 479.316 104.279 477.58 Q102.358 475.844 99.2558 475.844 Q97.0567 475.844 94.603 476.607 Q92.1725 477.371 89.3947 478.922 L89.3947 474.2 Q92.2188 473.066 94.6724 472.487 Q97.1261 471.908 99.1632 471.908 Q104.534 471.908 107.728 474.594 Q110.922 477.279 110.922 481.769 Q110.922 483.899 110.112 485.82 Q109.325 487.719 107.219 490.311 Q106.64 490.982 103.538 494.2 Q100.436 497.394 94.7882 503.158 Z\" fill=\"#000000\" fill-rule=\"evenodd\" fill-opacity=\"1\" /><path clip-path=\"url(#clip790)\" d=\"M120.922 501.214 L125.807 501.214 L125.807 507.093 L120.922 507.093 L120.922 501.214 Z\" fill=\"#000000\" fill-rule=\"evenodd\" fill-opacity=\"1\" /><path clip-path=\"url(#clip790)\" d=\"M145.992 475.612 Q142.381 475.612 140.552 479.177 Q138.746 482.719 138.746 489.848 Q138.746 496.955 140.552 500.519 Q142.381 504.061 145.992 504.061 Q149.626 504.061 151.431 500.519 Q153.26 496.955 153.26 489.848 Q153.26 482.719 151.431 479.177 Q149.626 475.612 145.992 475.612 M145.992 471.908 Q151.802 471.908 154.857 476.515 Q157.936 481.098 157.936 489.848 Q157.936 498.575 154.857 503.181 Q151.802 507.765 145.992 507.765 Q140.181 507.765 137.103 503.181 Q134.047 498.575 134.047 489.848 Q134.047 481.098 137.103 476.515 Q140.181 471.908 145.992 471.908 Z\" fill=\"#000000\" fill-rule=\"evenodd\" fill-opacity=\"1\" /><path clip-path=\"url(#clip790)\" d=\"M194.325 481.631 L183.746 492.256 L194.325 502.834 L191.57 505.635 L180.945 495.01 L170.32 505.635 L167.589 502.834 L178.144 492.256 L167.589 481.631 L170.32 478.83 L180.945 489.455 L191.57 478.83 L194.325 481.631 Z\" fill=\"#000000\" fill-rule=\"evenodd\" fill-opacity=\"1\" /><path clip-path=\"url(#clip790)\" d=\"M206.686 503.158 L214.325 503.158 L214.325 476.793 L206.014 478.459 L206.014 474.2 L214.278 472.533 L218.954 472.533 L218.954 503.158 L226.593 503.158 L226.593 507.093 L206.686 507.093 L206.686 503.158 Z\" fill=\"#000000\" fill-rule=\"evenodd\" fill-opacity=\"1\" /><path clip-path=\"url(#clip790)\" d=\"M246.037 475.612 Q242.426 475.612 240.598 479.177 Q238.792 482.719 238.792 489.848 Q238.792 496.955 240.598 500.519 Q242.426 504.061 246.037 504.061 Q249.672 504.061 251.477 500.519 Q253.306 496.955 253.306 489.848 Q253.306 482.719 251.477 479.177 Q249.672 475.612 246.037 475.612 M246.037 471.908 Q251.848 471.908 254.903 476.515 Q257.982 481.098 257.982 489.848 Q257.982 498.575 254.903 503.181 Q251.848 507.765 246.037 507.765 Q240.227 507.765 237.149 503.181 Q234.093 498.575 234.093 489.848 Q234.093 481.098 237.149 476.515 Q240.227 471.908 246.037 471.908 Z\" fill=\"#000000\" fill-rule=\"evenodd\" fill-opacity=\"1\" /><path clip-path=\"url(#clip790)\" d=\"M258.527 476.486 L264.734 476.486 L264.734 455.064 L257.982 456.418 L257.982 452.957 L264.696 451.603 L268.495 451.603 L268.495 476.486 L274.702 476.486 L274.702 479.683 L258.527 479.683 L258.527 476.486 Z\" fill=\"#000000\" fill-rule=\"evenodd\" fill-opacity=\"1\" /><path clip-path=\"url(#clip790)\" d=\"M281.416 451.603 L299.472 451.603 L299.472 453.22 L289.278 479.683 L285.309 479.683 L294.901 454.8 L281.416 454.8 L281.416 451.603 Z\" fill=\"#000000\" fill-rule=\"evenodd\" fill-opacity=\"1\" /><path clip-path=\"url(#clip790)\" d=\"M103.608 88.2479 L91.8021 106.697 L103.608 106.697 L103.608 88.2479 M102.381 84.1738 L108.26 84.1738 L108.26 106.697 L113.191 106.697 L113.191 110.586 L108.26 110.586 L108.26 118.734 L103.608 118.734 L103.608 110.586 L88.0058 110.586 L88.0058 106.072 L102.381 84.1738 Z\" fill=\"#000000\" fill-rule=\"evenodd\" fill-opacity=\"1\" /><path clip-path=\"url(#clip790)\" d=\"M120.922 112.854 L125.807 112.854 L125.807 118.734 L120.922 118.734 L120.922 112.854 Z\" fill=\"#000000\" fill-rule=\"evenodd\" fill-opacity=\"1\" /><path clip-path=\"url(#clip790)\" d=\"M145.992 87.2525 Q142.381 87.2525 140.552 90.8173 Q138.746 94.3589 138.746 101.489 Q138.746 108.595 140.552 112.16 Q142.381 115.701 145.992 115.701 Q149.626 115.701 151.431 112.16 Q153.26 108.595 153.26 101.489 Q153.26 94.3589 151.431 90.8173 Q149.626 87.2525 145.992 87.2525 M145.992 83.5488 Q151.802 83.5488 154.857 88.1553 Q157.936 92.7386 157.936 101.489 Q157.936 110.215 154.857 114.822 Q151.802 119.405 145.992 119.405 Q140.181 119.405 137.103 114.822 Q134.047 110.215 134.047 101.489 Q134.047 92.7386 137.103 88.1553 Q140.181 83.5488 145.992 83.5488 Z\" fill=\"#000000\" fill-rule=\"evenodd\" fill-opacity=\"1\" /><path clip-path=\"url(#clip790)\" d=\"M194.325 93.271 L183.746 103.896 L194.325 114.475 L191.57 117.275 L180.945 106.651 L170.32 117.275 L167.589 114.475 L178.144 103.896 L167.589 93.271 L170.32 90.4701 L180.945 101.095 L191.57 90.4701 L194.325 93.271 Z\" fill=\"#000000\" fill-rule=\"evenodd\" fill-opacity=\"1\" /><path clip-path=\"url(#clip790)\" d=\"M206.686 114.799 L214.325 114.799 L214.325 88.433 L206.014 90.0997 L206.014 85.8405 L214.278 84.1738 L218.954 84.1738 L218.954 114.799 L226.593 114.799 L226.593 118.734 L206.686 118.734 L206.686 114.799 Z\" fill=\"#000000\" fill-rule=\"evenodd\" fill-opacity=\"1\" /><path clip-path=\"url(#clip790)\" d=\"M246.037 87.2525 Q242.426 87.2525 240.598 90.8173 Q238.792 94.3589 238.792 101.489 Q238.792 108.595 240.598 112.16 Q242.426 115.701 246.037 115.701 Q249.672 115.701 251.477 112.16 Q253.306 108.595 253.306 101.489 Q253.306 94.3589 251.477 90.8173 Q249.672 87.2525 246.037 87.2525 M246.037 83.5488 Q251.848 83.5488 254.903 88.1553 Q257.982 92.7386 257.982 101.489 Q257.982 110.215 254.903 114.822 Q251.848 119.405 246.037 119.405 Q240.227 119.405 237.149 114.822 Q234.093 110.215 234.093 101.489 Q234.093 92.7386 237.149 88.1553 Q240.227 83.5488 246.037 83.5488 Z\" fill=\"#000000\" fill-rule=\"evenodd\" fill-opacity=\"1\" /><path clip-path=\"url(#clip790)\" d=\"M258.527 88.1261 L264.734 88.1261 L264.734 66.704 L257.982 68.0582 L257.982 64.5976 L264.696 63.2434 L268.495 63.2434 L268.495 88.1261 L274.702 88.1261 L274.702 91.3234 L258.527 91.3234 L258.527 88.1261 Z\" fill=\"#000000\" fill-rule=\"evenodd\" fill-opacity=\"1\" /><path clip-path=\"url(#clip790)\" d=\"M281.416 63.2434 L299.472 63.2434 L299.472 64.8609 L289.278 91.3234 L285.309 91.3234 L294.901 66.4407 L281.416 66.4407 L281.416 63.2434 Z\" fill=\"#000000\" fill-rule=\"evenodd\" fill-opacity=\"1\" /><circle clip-path=\"url(#clip792)\" cx=\"497.238\" cy=\"871.725\" r=\"10.8\" fill=\"#add8e6\" fill-rule=\"evenodd\" fill-opacity=\"1\" stroke=\"#000000\" stroke-opacity=\"1\" stroke-width=\"3.2\"/>\n",
              "<circle clip-path=\"url(#clip792)\" cx=\"685.433\" cy=\"871.725\" r=\"10.8\" fill=\"#add8e6\" fill-rule=\"evenodd\" fill-opacity=\"1\" stroke=\"#000000\" stroke-opacity=\"1\" stroke-width=\"3.2\"/>\n",
              "<circle clip-path=\"url(#clip792)\" cx=\"873.627\" cy=\"871.725\" r=\"10.8\" fill=\"#add8e6\" fill-rule=\"evenodd\" fill-opacity=\"1\" stroke=\"#000000\" stroke-opacity=\"1\" stroke-width=\"3.2\"/>\n",
              "<circle clip-path=\"url(#clip792)\" cx=\"1061.82\" cy=\"871.725\" r=\"10.8\" fill=\"#add8e6\" fill-rule=\"evenodd\" fill-opacity=\"1\" stroke=\"#000000\" stroke-opacity=\"1\" stroke-width=\"3.2\"/>\n",
              "<circle clip-path=\"url(#clip792)\" cx=\"1250.02\" cy=\"871.725\" r=\"10.8\" fill=\"#add8e6\" fill-rule=\"evenodd\" fill-opacity=\"1\" stroke=\"#000000\" stroke-opacity=\"1\" stroke-width=\"3.2\"/>\n",
              "<circle clip-path=\"url(#clip792)\" cx=\"1438.21\" cy=\"871.725\" r=\"10.8\" fill=\"#add8e6\" fill-rule=\"evenodd\" fill-opacity=\"1\" stroke=\"#000000\" stroke-opacity=\"1\" stroke-width=\"3.2\"/>\n",
              "<circle clip-path=\"url(#clip792)\" cx=\"1626.41\" cy=\"871.725\" r=\"10.8\" fill=\"#add8e6\" fill-rule=\"evenodd\" fill-opacity=\"1\" stroke=\"#000000\" stroke-opacity=\"1\" stroke-width=\"3.2\"/>\n",
              "<circle clip-path=\"url(#clip792)\" cx=\"1814.6\" cy=\"871.725\" r=\"10.8\" fill=\"#add8e6\" fill-rule=\"evenodd\" fill-opacity=\"1\" stroke=\"#000000\" stroke-opacity=\"1\" stroke-width=\"3.2\"/>\n",
              "<circle clip-path=\"url(#clip792)\" cx=\"2002.79\" cy=\"871.725\" r=\"10.8\" fill=\"#add8e6\" fill-rule=\"evenodd\" fill-opacity=\"1\" stroke=\"#000000\" stroke-opacity=\"1\" stroke-width=\"3.2\"/>\n",
              "<circle clip-path=\"url(#clip792)\" cx=\"2190.99\" cy=\"871.725\" r=\"10.8\" fill=\"#add8e6\" fill-rule=\"evenodd\" fill-opacity=\"1\" stroke=\"#000000\" stroke-opacity=\"1\" stroke-width=\"3.2\"/>\n",
              "<polyline clip-path=\"url(#clip792)\" style=\"stroke:#e26f46; stroke-linecap:round; stroke-linejoin:round; stroke-width:4; stroke-opacity:1; fill:none\" points=\"\n",
              "  446.426,88.2628 447.887,90.0449 449.348,93.4371 450.809,98.4315 452.27,105.016 453.731,113.175 455.193,122.89 456.654,134.136 458.115,146.888 459.804,163.462 \n",
              "  461.492,181.954 463.181,202.305 464.87,224.449 466.559,248.318 468.247,273.834 469.936,300.917 471.625,329.481 473.314,359.435 475.002,390.684 476.691,423.128 \n",
              "  478.38,456.665 480.069,491.187 481.757,526.585 483.446,562.747 485.135,599.558 491.89,750.924 498.645,903.096 502.023,977.066 505.4,1048.37 507.089,1082.73 \n",
              "  508.778,1116.09 510.466,1148.34 512.155,1179.38 513.844,1209.11 515.533,1237.43 517.221,1264.25 518.91,1289.5 520.599,1313.08 522.288,1334.93 523.976,1354.97 \n",
              "  525.665,1373.15 527.354,1389.39 529.043,1403.66 530.731,1415.9 532.42,1426.09 534.109,1434.17 535.798,1440.14 537.486,1443.96 539.175,1445.64 540.864,1445.15 \n",
              "  542.553,1442.51 544.241,1437.73 545.93,1430.81 547.619,1421.78 549.308,1410.67 550.997,1397.51 552.685,1382.35 554.374,1365.23 556.063,1346.21 557.752,1325.35 \n",
              "  559.44,1302.72 561.129,1278.38 562.818,1252.42 564.507,1224.91 566.195,1195.95 568.225,1159.34 570.255,1120.93 572.285,1080.9 574.314,1039.42 576.344,996.695 \n",
              "  578.374,952.913 580.404,908.276 582.433,862.991 586.493,771.305 590.552,679.538 594.612,589.372 598.671,502.461 600.701,460.727 602.731,420.399 604.761,381.661 \n",
              "  606.79,344.691 608.82,309.659 610.85,276.726 612.88,246.042 614.909,217.75 616.939,191.978 618.969,168.845 620.999,148.457 623.028,130.908 625.058,116.278 \n",
              "  627.088,104.635 629.117,96.0311 631.147,90.507 632.863,88.2581 634.579,88.2361 636.296,90.4413 638.012,94.8664 639.728,101.497 641.444,110.311 643.16,121.28 \n",
              "  644.876,134.367 646.592,149.53 648.308,166.719 650.025,185.878 651.741,206.943 653.457,229.846 655.173,254.511 656.889,280.858 658.605,308.799 660.321,338.244 \n",
              "  662.037,369.095 663.754,401.252 665.47,434.609 667.186,469.056 668.902,504.48 670.618,540.766 672.334,577.793 679.199,730.863 686.063,885.815 689.792,967.877 \n",
              "  693.52,1046.83 695.384,1084.75 697.248,1121.45 699.113,1156.77 700.977,1190.58 702.841,1222.75 704.705,1253.15 706.569,1281.67 708.434,1308.2 710.298,1332.63 \n",
              "  712.162,1354.87 714.026,1374.83 715.89,1392.44 717.755,1407.63 719.619,1420.33 721.483,1430.51 723.347,1438.11 725.211,1443.11 727.075,1445.5 728.94,1445.26 \n",
              "  730.804,1442.39 732.668,1436.9 734.532,1428.82 736.396,1418.18 738.261,1405.01 740.125,1389.37 741.989,1371.32 743.853,1350.94 745.717,1328.28 747.436,1305.47 \n",
              "  749.155,1280.89 750.873,1254.62 752.592,1226.73 754.311,1197.34 756.029,1166.53 757.748,1134.4 759.466,1101.06 762.904,1031.2 766.341,957.866 769.778,882.015 \n",
              "  773.215,804.649 776.653,726.785 780.09,649.449 783.527,573.656 786.964,500.406 788.683,465.036 790.402,430.66 792.12,397.39 793.839,365.336 795.557,334.604 \n",
              "  797.276,305.295 798.995,277.505 800.713,251.325 802.556,225.144 804.398,201.013 806.241,179.023 808.083,159.256 809.926,141.788 811.769,126.684 813.611,114.002 \n",
              "  815.454,103.79 817.296,96.0864 819.139,90.9202 820.981,88.311 822.824,88.2688 824.666,90.7936 826.509,95.876 828.351,103.497 830.194,113.627 832.037,126.228 \n",
              "  833.879,141.253 835.722,158.645 837.564,178.337 839.407,200.256 841.249,224.318 843.092,250.433 844.934,278.501 846.777,308.416 848.619,340.066 850.462,373.331 \n",
              "  852.305,408.084 854.147,444.194 855.99,481.525 857.832,519.935 859.675,559.28 863.944,653.21 868.214,749.445 872.483,846.033 876.753,941.014 878.888,987.298 \n",
              "  881.022,1032.46 883.157,1076.28 885.292,1118.52 887.427,1158.98 889.561,1197.45 891.696,1233.73 893.831,1267.64 895.966,1299.01 898.1,1327.68 900.235,1353.49 \n",
              "  902.37,1376.33 904.505,1396.08 906.64,1412.63 908.774,1425.9 910.909,1435.82 911.976,1439.51 913.044,1442.35 914.111,1444.33 915.179,1445.44 916.246,1445.7 \n",
              "  917.313,1445.1 918.381,1443.63 919.448,1441.3 921.583,1434.09 923.718,1423.48 925.852,1409.54 927.987,1392.34 929.884,1374.38 931.781,1353.99 933.679,1331.24 \n",
              "  935.576,1306.23 937.473,1279.06 939.37,1249.83 941.267,1218.66 943.164,1185.68 945.061,1151.03 946.959,1114.83 948.856,1077.23 950.753,1038.4 954.547,957.613 \n",
              "  958.341,873.772 962.136,788.217 965.93,702.32 969.724,617.457 973.518,534.988 975.415,495.066 977.313,456.234 979.21,418.648 981.107,382.459 983.004,347.811 \n",
              "  984.901,314.843 986.798,283.688 988.695,254.471 990.359,230.537 992.023,208.258 993.686,187.701 995.35,168.931 997.013,152.004 998.677,136.974 1000.34,123.886 \n",
              "  1002,112.782 1003.67,103.694 1005.33,96.6523 1007,91.6772 1008.66,88.7844 1010.32,87.9828 1011.99,89.275 1013.65,92.6569 1015.31,98.118 1016.98,105.642 \n",
              "  1018.64,115.205 1020.3,126.777 1021.97,140.324 1023.63,155.803 1025.29,173.167 1026.96,192.361 1028.62,213.328 1030.29,236.001 1031.95,260.312 1033.61,286.185 \n",
              "  1035.28,313.54 1036.94,342.294 1038.6,372.356 1040.27,403.636 1041.93,436.036 1043.74,472.519 1045.56,510.081 1047.37,548.585 1049.19,587.889 1052.81,668.318 \n",
              "  1056.44,750.19 1060.07,832.307 1063.7,913.464 1067.32,992.474 1070.95,1068.18 1072.77,1104.44 1074.58,1139.47 1076.39,1173.13 1078.21,1205.3 1080.02,1235.86 \n",
              "  1081.83,1264.7 1083.65,1291.72 1085.46,1316.82 1087.28,1339.9 1089.09,1360.87 1090.9,1379.67 1092.72,1396.23 1094.53,1410.47 1096.34,1422.36 1098.16,1431.84 \n",
              "  1099.97,1438.89 1101.8,1443.49 1103.62,1445.58 1105.45,1445.15 1107.27,1442.21 1109.09,1436.76 1110.92,1428.83 1112.74,1418.44 1114.57,1405.64 1116.39,1390.46 \n",
              "  1118.22,1372.97 1120.04,1353.23 1121.87,1331.32 1123.69,1307.31 1125.52,1281.3 1127.34,1253.38 1129.16,1223.66 1130.99,1192.24 1132.81,1159.24 1134.64,1124.79 \n",
              "  1136.46,1089.01 1138.29,1052.03 1140.11,1014 1141.94,975.044 1143.76,935.321 1151.06,771.683 1158.36,607.758 1160.38,563.703 1162.39,520.569 1164.41,478.552 \n",
              "  1166.43,437.842 1168.44,398.623 1170.46,361.075 1172.48,325.366 1174.5,291.659 1176.51,260.107 1178.53,230.852 1180.55,204.028 1182.57,179.756 1184.58,158.146 \n",
              "  1186.6,139.296 1188.62,123.291 1190.63,110.205 1192.65,100.096 1194.67,93.0104 1196.69,88.9802 1198.7,88.0236 1200.72,90.145 1202.74,95.3349 1204.76,103.57 \n",
              "  1206.77,114.812 1208.79,129.011 1210.81,146.102 1212.82,166.007 1214.84,188.637 1216.86,213.889 1218.88,241.648 1220.89,271.789 1222.91,304.174 1224.83,336.938 \n",
              "  1226.75,371.467 1228.67,407.619 1230.59,445.245 1232.51,484.191 1234.43,524.298 1236.35,565.401 1238.27,607.331 1245.94,779.84 1253.62,951.499 1255.54,992.955 \n",
              "  1257.46,1033.48 1259.38,1072.92 1261.3,1111.09 1263.22,1147.86 1265.14,1183.06 1267.06,1216.55 1268.98,1248.19 1270.9,1277.86 1272.82,1305.43 1274.73,1330.79 \n",
              "  1276.65,1353.84 1278.57,1374.47 1280.49,1392.61 1282.41,1408.18 1284.33,1421.12 1286.33,1431.73 1288.32,1439.38 1290.32,1444.05 1292.31,1445.71 1294.31,1444.36 \n",
              "  1296.31,1440.01 1298.3,1432.67 1300.3,1422.37 1302.29,1409.16 1304.29,1393.1 1306.28,1374.26 1308.28,1352.73 1310.28,1328.6 1312.27,1301.97 1314.27,1272.97 \n",
              "  1316.26,1241.72 1318.26,1208.37 1320.26,1173.05 1322.25,1135.94 1324.25,1097.18 1326.24,1056.96 1328.24,1015.45 1330.23,972.838 1332.23,929.311 1340.21,749.97 \n",
              "  1348.2,571.82 1349.88,535.673 1351.56,500.254 1353.24,465.673 1354.92,432.039 1356.6,399.458 1358.28,368.033 1359.96,337.862 1361.64,309.04 1363.32,281.659 \n",
              "  1365,255.803 1366.67,231.554 1368.35,208.989 1370.03,188.178 1371.71,169.188 1373.39,152.077 1375.07,136.9 1376.75,123.704 1378.43,112.53 1380.11,103.415 \n",
              "  1381.79,96.386 1383.47,91.4658 1385.15,88.6698 1386.83,88.0068 1388.51,89.4787 1390.19,93.0811 1391.87,98.8026 1393.55,106.625 1395.23,116.524 1396.91,128.468 \n",
              "  1398.59,142.421 1400.27,158.337 1401.95,176.166 1404.01,200.447 1406.06,227.383 1408.11,256.847 1410.16,288.702 1412.21,322.798 1414.26,358.976 1416.31,397.065 \n",
              "  1418.36,436.888 1420.41,478.258 1422.47,520.98 1424.52,564.854 1426.57,609.676 1430.67,701.315 1434.77,794.182 1438.87,886.536 1442.98,976.649 1445.03,1020.34 \n",
              "  1447.08,1062.83 1449.13,1103.94 1451.18,1143.47 1453.23,1181.24 1455.28,1217.06 1457.33,1250.77 1459.38,1282.22 1461.44,1311.24 1463.49,1337.72 1465.54,1361.52 \n",
              "  1467.59,1382.53 1469.47,1399.25 1471.35,1413.48 1473.23,1425.17 1475.1,1434.27 1476.98,1440.74 1478.86,1444.56 1480.74,1445.71 1482.62,1444.2 1484.5,1440.02 \n",
              "  1486.38,1433.19 1488.26,1423.74 1490.14,1411.7 1492.01,1397.13 1493.89,1380.08 1495.77,1360.62 1497.65,1338.82 1499.53,1314.77 1501.41,1288.57 1503.29,1260.31 \n",
              "  1505.17,1230.11 1507.05,1198.09 1508.92,1164.38 1510.8,1129.1 1512.68,1092.39 1516.44,1015.29 1520.2,934.282 1523.96,850.641 1527.71,765.683 1531.18,687.204 \n",
              "  1534.65,609.793 1538.13,534.488 1541.6,462.3 1543.33,427.679 1545.07,394.195 1546.8,361.963 1548.54,331.089 1550.27,301.677 1552.01,273.827 1553.74,247.63 \n",
              "  1555.48,223.176 1557.21,200.547 1558.95,179.817 1560.68,161.058 1562.42,144.331 1564.16,129.693 1565.89,117.194 1567.63,106.874 1569.36,98.7691 1571.1,92.906 \n",
              "  1572.83,89.3043 1574.57,87.9763 1576.3,88.9263 1578.04,92.1512 1579.77,97.6401 1581.51,105.375 1583.24,115.329 1585,127.641 1586.76,142.154 1588.52,158.818 \n",
              "  1590.27,177.576 1592.03,198.362 1593.79,221.106 1595.55,245.73 1597.31,272.147 1599.06,300.268 1600.82,329.995 1602.58,361.227 1604.34,393.855 1606.1,427.767 \n",
              "  1607.85,462.847 1609.61,498.974 1611.37,536.023 1614.88,612.375 1618.4,690.853 1621.92,770.377 1625.43,849.852 1628.95,928.184 1632.46,1004.3 1634.22,1041.19 \n",
              "  1635.98,1077.14 1637.74,1112.02 1639.49,1145.72 1641.46,1181.92 1643.43,1216.33 1645.4,1248.8 1647.37,1279.18 1649.34,1307.34 1651.31,1333.17 1653.28,1356.55 \n",
              "  1655.25,1377.38 1657.22,1395.57 1659.19,1411.04 1661.16,1423.73 1663.13,1433.57 1665.1,1440.53 1667.07,1444.58 1669.04,1445.7 1671.01,1443.88 1672.98,1439.13 \n",
              "  1674.95,1431.48 1676.92,1420.95 1678.89,1407.59 1680.86,1391.46 1682.83,1372.63 1684.8,1351.19 1686.77,1327.21 1688.74,1300.81 1690.71,1272.1 1692.68,1241.21 \n",
              "  1694.65,1208.27 1696.62,1173.41 1698.59,1136.8 1700.56,1098.59 1702.53,1058.94 1706.1,983.996 1709.67,905.965 1713.25,825.96 1716.82,745.117 1720.39,664.581 \n",
              "  1723.96,585.497 1727.53,508.987 1731.1,436.136 1732.88,401.408 1734.67,367.978 1736.45,335.965 1738.24,305.481 1740.02,276.636 1741.81,249.532 1743.59,224.265 \n",
              "  1745.38,200.925 1747.16,179.594 1748.95,160.349 1750.73,143.257 1752.52,128.38 1754.3,115.77 1756.09,105.473 1757.87,97.5236 1759.66,91.9514 1761.7,88.5152 \n",
              "  1763.75,88.2364 1765.79,91.1163 1767.83,97.1415 1769.88,106.284 1771.92,118.501 1773.97,133.736 1776.01,151.918 1778.05,172.962 1780.1,196.77 1782.14,223.232 \n",
              "  1784.19,252.224 1786.23,283.612 1788.27,317.249 1790.32,352.979 1792.36,390.635 1794.41,430.042 1796.45,471.017 1798.49,513.368 1800.54,556.9 1804.62,646.688 \n",
              "  1808.71,738.71 1812.8,831.256 1816.89,922.603 1818.93,967.295 1820.98,1011.05 1823.02,1053.68 1825.06,1094.96 1826.96,1131.83 1828.85,1167.25 1830.74,1201.06 \n",
              "  1832.63,1233.15 1834.53,1263.37 1836.42,1291.61 1838.31,1317.76 1840.2,1341.71 1842.1,1363.36 1843.99,1382.63 1845.88,1399.45 1847.77,1413.74 1849.67,1425.45 \n",
              "  1851.56,1434.53 1853.45,1440.95 1855.34,1444.68 1857.24,1445.7 1859.13,1444.01 1861.02,1439.62 1862.91,1432.55 1864.81,1422.81 1866.7,1410.47 1868.59,1395.55 \n",
              "  1870.48,1378.12 1872.37,1358.26 1874.27,1336.03 1876.16,1311.53 1878.05,1284.86 1879.94,1256.12 1881.84,1225.43 1883.73,1192.91 1885.62,1158.69 1887.49,1123.42 \n",
              "  1889.35,1086.77 1891.22,1048.87 1893.08,1009.88 1896.82,929.235 1900.55,846.069 1904.28,761.674 1908.01,677.36 1911.74,594.433 1915.47,514.179 1917.34,475.445 \n",
              "  1919.21,437.841 1921.07,401.513 1922.94,366.602 1924.8,333.244 1926.67,301.567 1928.53,271.696 1930.4,243.745 1932.27,217.823 1934.13,194.031 1936,172.46 \n",
              "  1937.86,153.195 1939.73,136.31 1941.59,121.872 1943.46,109.934 1945.33,100.545 1947.14,93.9018 1948.95,89.719 1950.76,88.0122 1952.57,88.7876 1954.38,92.0424 \n",
              "  1956.19,97.7646 1958.01,105.933 1959.82,116.519 1961.63,129.482 1963.44,144.777 1965.25,162.345 1967.06,182.124 1968.87,204.042 1970.69,228.017 1972.5,253.962 \n",
              "  1974.31,281.783 1976.12,311.378 1977.93,342.638 1979.74,375.449 1981.56,409.691 1983.37,445.239 1985.18,481.964 1986.99,519.73 1988.8,558.399 1992.42,637.881 \n",
              "  1996.05,719.247 1999.67,801.308 2003.29,882.866 2007.01,964.704 2010.72,1043.5 2012.58,1081.38 2014.43,1118.05 2016.29,1153.37 2018.15,1187.21 2020.01,1219.43 \n",
              "  2021.86,1249.91 2023.72,1278.54 2025.58,1305.2 2027.43,1329.79 2029.29,1352.22 2031.15,1372.39 2033,1390.24 2034.86,1405.7 2036.72,1418.7 2038.58,1429.2 \n",
              "  2040.43,1437.15 2042.29,1442.52 2044.15,1445.3 2046,1445.47 2047.86,1443.04 2049.72,1438 2051.57,1430.39 2053.43,1420.22 2055.29,1407.55 2057.15,1392.41 \n",
              "  2059,1374.87 2060.86,1355 2062.72,1332.86 2064.75,1306.12 2066.79,1276.88 2068.82,1245.3 2070.85,1211.5 2072.89,1175.66 2074.92,1137.93 2076.96,1098.49 \n",
              "  2078.99,1057.52 2083.06,971.749 2087.13,882.205 2091.2,790.535 2095.27,698.428 2099.34,607.582 2103.41,519.671 2105.44,477.326 2107.48,436.315 2109.51,396.829 \n",
              "  2111.55,359.05 2113.58,323.152 2115.62,289.3 2117.65,257.65 2119.68,228.349 2121.72,201.532 2123.75,177.322 2125.79,155.831 2127.82,137.159 2129.3,125.413 \n",
              "  2130.78,115.228 2132.26,106.629 2133.73,99.6361 2135.21,94.2674 2136.69,90.5356 2138.17,88.4497 2139.64,88.0148 2141.12,89.2319 2142.6,92.0982 2144.08,96.6066 \n",
              "  2145.56,102.746 2147.03,110.502 2148.51,119.855 2149.99,130.783 2151.47,143.258 2152.94,157.251 2154.42,172.728 2155.9,189.651 2157.38,207.978 2158.86,227.666 \n",
              "  2160.33,248.666 2161.81,270.926 2163.29,294.394 2164.77,319.012 2166.24,344.719 2167.72,371.454 2169.2,399.151 2170.68,427.742 2172.16,457.159 2173.63,487.33 \n",
              "  2175.11,518.181 2178.07,581.622 2181.02,646.865 2183.98,713.275 2186.93,780.207 2189.89,847.008 2192.84,913.029 2195.8,977.629 2198.75,1040.18 2200.23,1070.49 \n",
              "  2201.71,1100.07 2203.19,1128.83 2204.67,1156.71 2206.14,1183.65 2207.62,1209.57 2209.1,1234.41 2210.58,1258.12 2212.05,1280.62 2213.53,1301.88 2215.01,1321.84 \n",
              "  2216.49,1340.45 2217.97,1357.66 2219.44,1373.43 2220.92,1387.72 2222.4,1400.51 2223.61,1409.85 2224.82,1418.14 2226.04,1425.35 2227.25,1431.49 2228.46,1436.54 \n",
              "  2229.68,1440.5 2230.89,1443.35 2232.1,1445.09 2233.31,1445.72 2234.53,1445.23 2235.74,1443.64 2236.95,1440.93 2238.16,1437.12 2239.38,1432.21 2240.59,1426.21 \n",
              "  2241.8,1419.13 \n",
              "  \"/>\n",
              "<polyline clip-path=\"url(#clip792)\" style=\"stroke:#3da44d; stroke-linecap:round; stroke-linejoin:round; stroke-width:4; stroke-opacity:1; fill:none\" points=\"\n",
              "  392.565,871.725 395.662,871.725 398.76,871.725 401.857,871.725 404.955,871.725 433.596,871.725 462.238,871.725 490.879,871.725 519.52,871.725 553.945,871.725 \n",
              "  588.369,871.725 617.475,871.725 646.58,871.725 678.197,871.725 709.814,871.725 738.961,871.725 768.109,871.725 830.608,871.725 903.02,871.725 967.37,871.725 \n",
              "  1023.8,871.725 1085.32,871.725 1147.21,871.725 1215.64,871.725 1280.74,871.725 1314.59,871.725 1348.44,871.725 1376.93,871.725 1405.42,871.725 1440.21,871.725 \n",
              "  1475,871.725 1506.86,871.725 1538.73,871.725 1568.16,871.725 1597.59,871.725 1627.4,871.725 1657.22,871.725 1690.63,871.725 1724.04,871.725 1754.32,871.725 \n",
              "  1784.59,871.725 1801.92,871.725 1819.26,871.725 1836.59,871.725 1853.92,871.725 1869.97,871.725 1886.02,871.725 1902.06,871.725 1918.11,871.725 1949.76,871.725 \n",
              "  1981.4,871.725 1996.76,871.725 2012.12,871.725 2027.48,871.725 2042.84,871.725 2058.59,871.725 2074.34,871.725 2090.09,871.725 2105.83,871.725 2123.09,871.725 \n",
              "  2140.34,871.725 2157.59,871.725 2174.84,871.725 2199.91,871.725 2224.97,871.725 2250.03,871.725 2275.1,871.725 2280.24,871.725 2285.38,871.725 2290.52,871.725 \n",
              "  2295.66,871.725 \n",
              "  \"/>\n",
              "</svg>\n"
            ]
          },
          "execution_count": 70,
          "metadata": {},
          "output_type": "execute_result"
        }
      ],
      "source": [
        "scatter(x, y, c=:lightblue, ms=3, leg=false)\n",
        "plot!(modelo_sc)\n",
        "plot!(cúbica)"
      ]
    },
    {
      "cell_type": "code",
      "execution_count": null,
      "metadata": {
        "id": "jiGC9qbMwm-9",
        "outputId": "a7c0a015-b857-43fb-998e-539ba93896f7"
      },
      "outputs": [
        {
          "data": {
            "text/plain": [
              "6.078183207949029"
            ]
          },
          "execution_count": 50,
          "metadata": {},
          "output_type": "execute_result"
        }
      ],
      "source": [
        "f[1]"
      ]
    },
    {
      "cell_type": "code",
      "execution_count": null,
      "metadata": {
        "id": "PmnF5Vhlwm-9",
        "outputId": "f87eea15-be85-45c3-baad-5ff9ee28cde6"
      },
      "outputs": [
        {
          "data": {
            "text/plain": [
              "4.319356777972372"
            ]
          },
          "execution_count": 51,
          "metadata": {},
          "output_type": "execute_result"
        }
      ],
      "source": [
        "f[2]"
      ]
    },
    {
      "cell_type": "code",
      "execution_count": null,
      "metadata": {
        "id": "ZE3E-MZVwm--",
        "outputId": "f49e3575-bb37-4303-c570-1e16744296fb"
      },
      "outputs": [
        {
          "data": {
            "text/plain": [
              "12.027560388497054"
            ]
          },
          "execution_count": 52,
          "metadata": {},
          "output_type": "execute_result"
        }
      ],
      "source": [
        "f[3]"
      ]
    },
    {
      "cell_type": "code",
      "execution_count": null,
      "metadata": {
        "id": "S99UWwmiwm--",
        "outputId": "ad1b42bb-e040-4b16-951c-fb2a93306fcf"
      },
      "outputs": [
        {
          "data": {
            "text/plain": [
              "507.2139279793196"
            ]
          },
          "execution_count": 53,
          "metadata": {},
          "output_type": "execute_result"
        }
      ],
      "source": [
        "parabola(4.3)"
      ]
    },
    {
      "cell_type": "code",
      "execution_count": null,
      "metadata": {
        "id": "UjA0Ba-7wm--"
      },
      "outputs": [],
      "source": []
    },
    {
      "cell_type": "code",
      "execution_count": null,
      "metadata": {
        "id": "jDC5pPQRwm-_",
        "outputId": "fe6e0162-eefc-476e-da91-120e5d20a16a"
      },
      "outputs": [
        {
          "data": {
            "text/plain": [
              "erro_total (generic function with 1 method)"
            ]
          },
          "execution_count": 71,
          "metadata": {},
          "output_type": "execute_result"
        }
      ],
      "source": [
        "function erro_total(x,y,modelo)\n",
        "    n,=size(y)\n",
        "    S=0\n",
        "    for i=1:n\n",
        "        S=S+(y[i]-modelo(x[i]))^2\n",
        "    end\n",
        "    return sqrt(S)\n",
        "end"
      ]
    },
    {
      "cell_type": "code",
      "execution_count": null,
      "metadata": {
        "id": "jqo0t7CAwm-_",
        "outputId": "23912a7a-ac7a-4324-b0af-92aa940d53e3"
      },
      "outputs": [
        {
          "data": {
            "text/plain": [
              "256.46317001814805"
            ]
          },
          "execution_count": 72,
          "metadata": {},
          "output_type": "execute_result"
        }
      ],
      "source": [
        "erro_total(x,y,parabola)"
      ]
    },
    {
      "cell_type": "code",
      "execution_count": null,
      "metadata": {
        "id": "wN5WabSAwm-_"
      },
      "outputs": [],
      "source": []
    },
    {
      "cell_type": "code",
      "execution_count": null,
      "metadata": {
        "id": "cEh3rcFrwm-_"
      },
      "outputs": [],
      "source": []
    },
    {
      "cell_type": "code",
      "execution_count": null,
      "metadata": {
        "id": "BrHpTyF9wm-_",
        "outputId": "d5d9bcad-c070-4ced-c695-fc7af0ef5b17"
      },
      "outputs": [
        {
          "data": {
            "text/plain": [
              "3-element Vector{Function}:\n",
              " #13 (generic function with 1 method)\n",
              " #14 (generic function with 1 method)\n",
              " #15 (generic function with 1 method)"
            ]
          },
          "execution_count": 73,
          "metadata": {},
          "output_type": "execute_result"
        }
      ],
      "source": [
        "F = [x -> 1.0, x -> x, x -> x^2]"
      ]
    },
    {
      "cell_type": "code",
      "execution_count": null,
      "metadata": {
        "id": "isMzfuPUwm_A"
      },
      "outputs": [],
      "source": []
    },
    {
      "cell_type": "code",
      "execution_count": null,
      "metadata": {
        "id": "xnIp9hhhwm_A"
      },
      "outputs": [],
      "source": [
        "#Erro da parábola 17.04057868524984\n"
      ]
    },
    {
      "cell_type": "code",
      "execution_count": null,
      "metadata": {
        "id": "9aSXZ8Dlwm_A"
      },
      "outputs": [],
      "source": []
    },
    {
      "cell_type": "code",
      "execution_count": null,
      "metadata": {
        "id": "4nxKzWeSwm_A"
      },
      "outputs": [],
      "source": []
    },
    {
      "cell_type": "code",
      "execution_count": null,
      "metadata": {
        "id": "T0IgxUbNwm_A",
        "outputId": "b3430ff5-4a08-47dc-925f-04d49b12e1c1"
      },
      "outputs": [
        {
          "data": {
            "image/svg+xml": [
              "<?xml version=\"1.0\" encoding=\"utf-8\"?>\n",
              "<svg xmlns=\"http://www.w3.org/2000/svg\" xmlns:xlink=\"http://www.w3.org/1999/xlink\" width=\"600\" height=\"400\" viewBox=\"0 0 2400 1600\">\n",
              "<defs>\n",
              "  <clipPath id=\"clip830\">\n",
              "    <rect x=\"0\" y=\"0\" width=\"2400\" height=\"1600\"/>\n",
              "  </clipPath>\n",
              "</defs>\n",
              "<path clip-path=\"url(#clip830)\" d=\"\n",
              "M0 1600 L2400 1600 L2400 0 L0 0  Z\n",
              "  \" fill=\"#ffffff\" fill-rule=\"evenodd\" fill-opacity=\"1\"/>\n",
              "<defs>\n",
              "  <clipPath id=\"clip831\">\n",
              "    <rect x=\"480\" y=\"0\" width=\"1681\" height=\"1600\"/>\n",
              "  </clipPath>\n",
              "</defs>\n",
              "<path clip-path=\"url(#clip830)\" d=\"\n",
              "M199.283 1486.45 L2352.76 1486.45 L2352.76 47.2441 L199.283 47.2441  Z\n",
              "  \" fill=\"#ffffff\" fill-rule=\"evenodd\" fill-opacity=\"1\"/>\n",
              "<defs>\n",
              "  <clipPath id=\"clip832\">\n",
              "    <rect x=\"199\" y=\"47\" width=\"2154\" height=\"1440\"/>\n",
              "  </clipPath>\n",
              "</defs>\n",
              "<polyline clip-path=\"url(#clip832)\" style=\"stroke:#000000; stroke-linecap:round; stroke-linejoin:round; stroke-width:2; stroke-opacity:0.1; fill:none\" points=\"\n",
              "  485.961,1486.45 485.961,47.2441 \n",
              "  \"/>\n",
              "<polyline clip-path=\"url(#clip832)\" style=\"stroke:#000000; stroke-linecap:round; stroke-linejoin:round; stroke-width:2; stroke-opacity:0.1; fill:none\" points=\"\n",
              "  937.423,1486.45 937.423,47.2441 \n",
              "  \"/>\n",
              "<polyline clip-path=\"url(#clip832)\" style=\"stroke:#000000; stroke-linecap:round; stroke-linejoin:round; stroke-width:2; stroke-opacity:0.1; fill:none\" points=\"\n",
              "  1388.88,1486.45 1388.88,47.2441 \n",
              "  \"/>\n",
              "<polyline clip-path=\"url(#clip832)\" style=\"stroke:#000000; stroke-linecap:round; stroke-linejoin:round; stroke-width:2; stroke-opacity:0.1; fill:none\" points=\"\n",
              "  1840.35,1486.45 1840.35,47.2441 \n",
              "  \"/>\n",
              "<polyline clip-path=\"url(#clip832)\" style=\"stroke:#000000; stroke-linecap:round; stroke-linejoin:round; stroke-width:2; stroke-opacity:0.1; fill:none\" points=\"\n",
              "  2291.81,1486.45 2291.81,47.2441 \n",
              "  \"/>\n",
              "<polyline clip-path=\"url(#clip830)\" style=\"stroke:#000000; stroke-linecap:round; stroke-linejoin:round; stroke-width:4; stroke-opacity:1; fill:none\" points=\"\n",
              "  199.283,1486.45 2352.76,1486.45 \n",
              "  \"/>\n",
              "<polyline clip-path=\"url(#clip830)\" style=\"stroke:#000000; stroke-linecap:round; stroke-linejoin:round; stroke-width:4; stroke-opacity:1; fill:none\" points=\"\n",
              "  485.961,1486.45 485.961,1469.18 \n",
              "  \"/>\n",
              "<polyline clip-path=\"url(#clip830)\" style=\"stroke:#000000; stroke-linecap:round; stroke-linejoin:round; stroke-width:4; stroke-opacity:1; fill:none\" points=\"\n",
              "  937.423,1486.45 937.423,1469.18 \n",
              "  \"/>\n",
              "<polyline clip-path=\"url(#clip830)\" style=\"stroke:#000000; stroke-linecap:round; stroke-linejoin:round; stroke-width:4; stroke-opacity:1; fill:none\" points=\"\n",
              "  1388.88,1486.45 1388.88,1469.18 \n",
              "  \"/>\n",
              "<polyline clip-path=\"url(#clip830)\" style=\"stroke:#000000; stroke-linecap:round; stroke-linejoin:round; stroke-width:4; stroke-opacity:1; fill:none\" points=\"\n",
              "  1840.35,1486.45 1840.35,1469.18 \n",
              "  \"/>\n",
              "<polyline clip-path=\"url(#clip830)\" style=\"stroke:#000000; stroke-linecap:round; stroke-linejoin:round; stroke-width:4; stroke-opacity:1; fill:none\" points=\"\n",
              "  2291.81,1486.45 2291.81,1469.18 \n",
              "  \"/>\n",
              "<path clip-path=\"url(#clip830)\" d=\"M480.614 1543.18 L496.934 1543.18 L496.934 1547.12 L474.989 1547.12 L474.989 1543.18 Q477.651 1540.43 482.235 1535.8 Q486.841 1531.15 488.022 1529.81 Q490.267 1527.28 491.147 1525.55 Q492.049 1523.79 492.049 1522.1 Q492.049 1519.34 490.105 1517.61 Q488.184 1515.87 485.082 1515.87 Q482.883 1515.87 480.429 1516.63 Q477.999 1517.4 475.221 1518.95 L475.221 1514.23 Q478.045 1513.09 480.498 1512.51 Q482.952 1511.93 484.989 1511.93 Q490.36 1511.93 493.554 1514.62 Q496.748 1517.31 496.748 1521.8 Q496.748 1523.93 495.938 1525.85 Q495.151 1527.74 493.045 1530.34 Q492.466 1531.01 489.364 1534.23 Q486.262 1537.42 480.614 1543.18 Z\" fill=\"#000000\" fill-rule=\"evenodd\" fill-opacity=\"1\" /><path clip-path=\"url(#clip830)\" d=\"M940.432 1516.63 L928.627 1535.08 L940.432 1535.08 L940.432 1516.63 M939.206 1512.56 L945.085 1512.56 L945.085 1535.08 L950.016 1535.08 L950.016 1538.97 L945.085 1538.97 L945.085 1547.12 L940.432 1547.12 L940.432 1538.97 L924.831 1538.97 L924.831 1534.46 L939.206 1512.56 Z\" fill=\"#000000\" fill-rule=\"evenodd\" fill-opacity=\"1\" /><path clip-path=\"url(#clip830)\" d=\"M1389.29 1527.98 Q1386.14 1527.98 1384.29 1530.13 Q1382.46 1532.28 1382.46 1536.03 Q1382.46 1539.76 1384.29 1541.93 Q1386.14 1544.09 1389.29 1544.09 Q1392.44 1544.09 1394.27 1541.93 Q1396.12 1539.76 1396.12 1536.03 Q1396.12 1532.28 1394.27 1530.13 Q1392.44 1527.98 1389.29 1527.98 M1398.57 1513.32 L1398.57 1517.58 Q1396.81 1516.75 1395.01 1516.31 Q1393.23 1515.87 1391.47 1515.87 Q1386.84 1515.87 1384.38 1519 Q1381.95 1522.12 1381.6 1528.44 Q1382.97 1526.43 1385.03 1525.36 Q1387.09 1524.27 1389.57 1524.27 Q1394.78 1524.27 1397.79 1527.44 Q1400.82 1530.59 1400.82 1536.03 Q1400.82 1541.36 1397.67 1544.57 Q1394.52 1547.79 1389.29 1547.79 Q1383.29 1547.79 1380.12 1543.21 Q1376.95 1538.6 1376.95 1529.87 Q1376.95 1521.68 1380.84 1516.82 Q1384.73 1511.93 1391.28 1511.93 Q1393.04 1511.93 1394.82 1512.28 Q1396.63 1512.63 1398.57 1513.32 Z\" fill=\"#000000\" fill-rule=\"evenodd\" fill-opacity=\"1\" /><path clip-path=\"url(#clip830)\" d=\"M1840.35 1530.71 Q1837.01 1530.71 1835.09 1532.49 Q1833.19 1534.27 1833.19 1537.4 Q1833.19 1540.52 1835.09 1542.31 Q1837.01 1544.09 1840.35 1544.09 Q1843.68 1544.09 1845.6 1542.31 Q1847.52 1540.5 1847.52 1537.4 Q1847.52 1534.27 1845.6 1532.49 Q1843.7 1530.71 1840.35 1530.71 M1835.67 1528.72 Q1832.66 1527.98 1830.97 1525.92 Q1829.31 1523.86 1829.31 1520.89 Q1829.31 1516.75 1832.24 1514.34 Q1835.21 1511.93 1840.35 1511.93 Q1845.51 1511.93 1848.45 1514.34 Q1851.39 1516.75 1851.39 1520.89 Q1851.39 1523.86 1849.7 1525.92 Q1848.03 1527.98 1845.05 1528.72 Q1848.43 1529.5 1850.3 1531.8 Q1852.2 1534.09 1852.2 1537.4 Q1852.2 1542.42 1849.12 1545.11 Q1846.06 1547.79 1840.35 1547.79 Q1834.63 1547.79 1831.55 1545.11 Q1828.49 1542.42 1828.49 1537.4 Q1828.49 1534.09 1830.39 1531.8 Q1832.29 1529.5 1835.67 1528.72 M1833.96 1521.33 Q1833.96 1524.02 1835.62 1525.52 Q1837.31 1527.03 1840.35 1527.03 Q1843.36 1527.03 1845.05 1525.52 Q1846.76 1524.02 1846.76 1521.33 Q1846.76 1518.65 1845.05 1517.14 Q1843.36 1515.64 1840.35 1515.64 Q1837.31 1515.64 1835.62 1517.14 Q1833.96 1518.65 1833.96 1521.33 Z\" fill=\"#000000\" fill-rule=\"evenodd\" fill-opacity=\"1\" /><path clip-path=\"url(#clip830)\" d=\"M2266.5 1543.18 L2274.14 1543.18 L2274.14 1516.82 L2265.82 1518.49 L2265.82 1514.23 L2274.09 1512.56 L2278.76 1512.56 L2278.76 1543.18 L2286.4 1543.18 L2286.4 1547.12 L2266.5 1547.12 L2266.5 1543.18 Z\" fill=\"#000000\" fill-rule=\"evenodd\" fill-opacity=\"1\" /><path clip-path=\"url(#clip830)\" d=\"M2305.85 1515.64 Q2302.24 1515.64 2300.41 1519.2 Q2298.6 1522.75 2298.6 1529.87 Q2298.6 1536.98 2300.41 1540.55 Q2302.24 1544.09 2305.85 1544.09 Q2309.48 1544.09 2311.29 1540.55 Q2313.12 1536.98 2313.12 1529.87 Q2313.12 1522.75 2311.29 1519.2 Q2309.48 1515.64 2305.85 1515.64 M2305.85 1511.93 Q2311.66 1511.93 2314.71 1516.54 Q2317.79 1521.12 2317.79 1529.87 Q2317.79 1538.6 2314.71 1543.21 Q2311.66 1547.79 2305.85 1547.79 Q2300.04 1547.79 2296.96 1543.21 Q2293.9 1538.6 2293.9 1529.87 Q2293.9 1521.12 2296.96 1516.54 Q2300.04 1511.93 2305.85 1511.93 Z\" fill=\"#000000\" fill-rule=\"evenodd\" fill-opacity=\"1\" /><polyline clip-path=\"url(#clip832)\" style=\"stroke:#000000; stroke-linecap:round; stroke-linejoin:round; stroke-width:2; stroke-opacity:0.1; fill:none\" points=\"\n",
              "  199.283,1447.85 2352.76,1447.85 \n",
              "  \"/>\n",
              "<polyline clip-path=\"url(#clip832)\" style=\"stroke:#000000; stroke-linecap:round; stroke-linejoin:round; stroke-width:2; stroke-opacity:0.1; fill:none\" points=\"\n",
              "  199.283,1115.98 2352.76,1115.98 \n",
              "  \"/>\n",
              "<polyline clip-path=\"url(#clip832)\" style=\"stroke:#000000; stroke-linecap:round; stroke-linejoin:round; stroke-width:2; stroke-opacity:0.1; fill:none\" points=\"\n",
              "  199.283,784.107 2352.76,784.107 \n",
              "  \"/>\n",
              "<polyline clip-path=\"url(#clip832)\" style=\"stroke:#000000; stroke-linecap:round; stroke-linejoin:round; stroke-width:2; stroke-opacity:0.1; fill:none\" points=\"\n",
              "  199.283,452.238 2352.76,452.238 \n",
              "  \"/>\n",
              "<polyline clip-path=\"url(#clip832)\" style=\"stroke:#000000; stroke-linecap:round; stroke-linejoin:round; stroke-width:2; stroke-opacity:0.1; fill:none\" points=\"\n",
              "  199.283,120.369 2352.76,120.369 \n",
              "  \"/>\n",
              "<polyline clip-path=\"url(#clip830)\" style=\"stroke:#000000; stroke-linecap:round; stroke-linejoin:round; stroke-width:4; stroke-opacity:1; fill:none\" points=\"\n",
              "  199.283,1486.45 199.283,47.2441 \n",
              "  \"/>\n",
              "<polyline clip-path=\"url(#clip830)\" style=\"stroke:#000000; stroke-linecap:round; stroke-linejoin:round; stroke-width:4; stroke-opacity:1; fill:none\" points=\"\n",
              "  199.283,1447.85 225.125,1447.85 \n",
              "  \"/>\n",
              "<polyline clip-path=\"url(#clip830)\" style=\"stroke:#000000; stroke-linecap:round; stroke-linejoin:round; stroke-width:4; stroke-opacity:1; fill:none\" points=\"\n",
              "  199.283,1115.98 225.125,1115.98 \n",
              "  \"/>\n",
              "<polyline clip-path=\"url(#clip830)\" style=\"stroke:#000000; stroke-linecap:round; stroke-linejoin:round; stroke-width:4; stroke-opacity:1; fill:none\" points=\"\n",
              "  199.283,784.107 225.125,784.107 \n",
              "  \"/>\n",
              "<polyline clip-path=\"url(#clip830)\" style=\"stroke:#000000; stroke-linecap:round; stroke-linejoin:round; stroke-width:4; stroke-opacity:1; fill:none\" points=\"\n",
              "  199.283,452.238 225.125,452.238 \n",
              "  \"/>\n",
              "<polyline clip-path=\"url(#clip830)\" style=\"stroke:#000000; stroke-linecap:round; stroke-linejoin:round; stroke-width:4; stroke-opacity:1; fill:none\" points=\"\n",
              "  199.283,120.369 225.125,120.369 \n",
              "  \"/>\n",
              "<path clip-path=\"url(#clip830)\" d=\"M151.339 1433.64 Q147.728 1433.64 145.899 1437.21 Q144.093 1440.75 144.093 1447.88 Q144.093 1454.99 145.899 1458.55 Q147.728 1462.09 151.339 1462.09 Q154.973 1462.09 156.779 1458.55 Q158.607 1454.99 158.607 1447.88 Q158.607 1440.75 156.779 1437.21 Q154.973 1433.64 151.339 1433.64 M151.339 1429.94 Q157.149 1429.94 160.205 1434.55 Q163.283 1439.13 163.283 1447.88 Q163.283 1456.61 160.205 1461.21 Q157.149 1465.8 151.339 1465.8 Q145.529 1465.8 142.45 1461.21 Q139.394 1456.61 139.394 1447.88 Q139.394 1439.13 142.45 1434.55 Q145.529 1429.94 151.339 1429.94 Z\" fill=\"#000000\" fill-rule=\"evenodd\" fill-opacity=\"1\" /><path clip-path=\"url(#clip830)\" d=\"M85.0429 1129.32 L101.362 1129.32 L101.362 1133.26 L79.4179 1133.26 L79.4179 1129.32 Q82.0799 1126.57 86.6632 1121.94 Q91.2697 1117.28 92.4502 1115.94 Q94.6956 1113.42 95.5752 1111.68 Q96.478 1109.92 96.478 1108.23 Q96.478 1105.48 94.5336 1103.74 Q92.6123 1102.01 89.5104 1102.01 Q87.3114 1102.01 84.8577 1102.77 Q82.4271 1103.53 79.6494 1105.09 L79.6494 1100.36 Q82.4734 1099.23 84.9271 1098.65 Q87.3808 1098.07 89.4178 1098.07 Q94.7882 1098.07 97.9826 1100.76 Q101.177 1103.44 101.177 1107.93 Q101.177 1110.06 100.367 1111.98 Q99.5798 1113.88 97.4734 1116.47 Q96.8947 1117.15 93.7928 1120.36 Q90.691 1123.56 85.0429 1129.32 Z\" fill=\"#000000\" fill-rule=\"evenodd\" fill-opacity=\"1\" /><path clip-path=\"url(#clip830)\" d=\"M111.223 1098.7 L129.58 1098.7 L129.58 1102.63 L115.506 1102.63 L115.506 1111.1 Q116.524 1110.76 117.543 1110.59 Q118.561 1110.41 119.58 1110.41 Q125.367 1110.41 128.746 1113.58 Q132.126 1116.75 132.126 1122.17 Q132.126 1127.75 128.654 1130.85 Q125.182 1133.93 118.862 1133.93 Q116.686 1133.93 114.418 1133.56 Q112.172 1133.19 109.765 1132.45 L109.765 1127.75 Q111.848 1128.88 114.07 1129.44 Q116.293 1129.99 118.77 1129.99 Q122.774 1129.99 125.112 1127.89 Q127.45 1125.78 127.45 1122.17 Q127.45 1118.56 125.112 1116.45 Q122.774 1114.34 118.77 1114.34 Q116.895 1114.34 115.02 1114.76 Q113.168 1115.18 111.223 1116.06 L111.223 1098.7 Z\" fill=\"#000000\" fill-rule=\"evenodd\" fill-opacity=\"1\" /><path clip-path=\"url(#clip830)\" d=\"M151.339 1101.77 Q147.728 1101.77 145.899 1105.34 Q144.093 1108.88 144.093 1116.01 Q144.093 1123.12 145.899 1126.68 Q147.728 1130.22 151.339 1130.22 Q154.973 1130.22 156.779 1126.68 Q158.607 1123.12 158.607 1116.01 Q158.607 1108.88 156.779 1105.34 Q154.973 1101.77 151.339 1101.77 M151.339 1098.07 Q157.149 1098.07 160.205 1102.68 Q163.283 1107.26 163.283 1116.01 Q163.283 1124.74 160.205 1129.34 Q157.149 1133.93 151.339 1133.93 Q145.529 1133.93 142.45 1129.34 Q139.394 1124.74 139.394 1116.01 Q139.394 1107.26 142.45 1102.68 Q145.529 1098.07 151.339 1098.07 Z\" fill=\"#000000\" fill-rule=\"evenodd\" fill-opacity=\"1\" /><path clip-path=\"url(#clip830)\" d=\"M81.0614 766.827 L99.4178 766.827 L99.4178 770.762 L85.3438 770.762 L85.3438 779.234 Q86.3623 778.887 87.3808 778.725 Q88.3993 778.54 89.4178 778.54 Q95.2049 778.54 98.5845 781.711 Q101.964 784.883 101.964 790.299 Q101.964 795.878 98.4919 798.98 Q95.0197 802.058 88.7003 802.058 Q86.5243 802.058 84.2558 801.688 Q82.0105 801.318 79.6031 800.577 L79.6031 795.878 Q81.6864 797.012 83.9086 797.568 Q86.1308 798.123 88.6077 798.123 Q92.6123 798.123 94.9502 796.017 Q97.2882 793.91 97.2882 790.299 Q97.2882 786.688 94.9502 784.582 Q92.6123 782.475 88.6077 782.475 Q86.7327 782.475 84.8577 782.892 Q83.0058 783.308 81.0614 784.188 L81.0614 766.827 Z\" fill=\"#000000\" fill-rule=\"evenodd\" fill-opacity=\"1\" /><path clip-path=\"url(#clip830)\" d=\"M121.177 769.906 Q117.566 769.906 115.737 773.471 Q113.932 777.012 113.932 784.142 Q113.932 791.248 115.737 794.813 Q117.566 798.355 121.177 798.355 Q124.811 798.355 126.617 794.813 Q128.445 791.248 128.445 784.142 Q128.445 777.012 126.617 773.471 Q124.811 769.906 121.177 769.906 M121.177 766.202 Q126.987 766.202 130.043 770.809 Q133.121 775.392 133.121 784.142 Q133.121 792.869 130.043 797.475 Q126.987 802.058 121.177 802.058 Q115.367 802.058 112.288 797.475 Q109.233 792.869 109.233 784.142 Q109.233 775.392 112.288 770.809 Q115.367 766.202 121.177 766.202 Z\" fill=\"#000000\" fill-rule=\"evenodd\" fill-opacity=\"1\" /><path clip-path=\"url(#clip830)\" d=\"M151.339 769.906 Q147.728 769.906 145.899 773.471 Q144.093 777.012 144.093 784.142 Q144.093 791.248 145.899 794.813 Q147.728 798.355 151.339 798.355 Q154.973 798.355 156.779 794.813 Q158.607 791.248 158.607 784.142 Q158.607 777.012 156.779 773.471 Q154.973 769.906 151.339 769.906 M151.339 766.202 Q157.149 766.202 160.205 770.809 Q163.283 775.392 163.283 784.142 Q163.283 792.869 160.205 797.475 Q157.149 802.058 151.339 802.058 Q145.529 802.058 142.45 797.475 Q139.394 792.869 139.394 784.142 Q139.394 775.392 142.45 770.809 Q145.529 766.202 151.339 766.202 Z\" fill=\"#000000\" fill-rule=\"evenodd\" fill-opacity=\"1\" /><path clip-path=\"url(#clip830)\" d=\"M79.8346 434.958 L102.057 434.958 L102.057 436.949 L89.5104 469.518 L84.6262 469.518 L96.4317 438.893 L79.8346 438.893 L79.8346 434.958 Z\" fill=\"#000000\" fill-rule=\"evenodd\" fill-opacity=\"1\" /><path clip-path=\"url(#clip830)\" d=\"M111.223 434.958 L129.58 434.958 L129.58 438.893 L115.506 438.893 L115.506 447.365 Q116.524 447.018 117.543 446.856 Q118.561 446.671 119.58 446.671 Q125.367 446.671 128.746 449.842 Q132.126 453.013 132.126 458.43 Q132.126 464.009 128.654 467.111 Q125.182 470.189 118.862 470.189 Q116.686 470.189 114.418 469.819 Q112.172 469.449 109.765 468.708 L109.765 464.009 Q111.848 465.143 114.07 465.699 Q116.293 466.254 118.77 466.254 Q122.774 466.254 125.112 464.148 Q127.45 462.041 127.45 458.43 Q127.45 454.819 125.112 452.712 Q122.774 450.606 118.77 450.606 Q116.895 450.606 115.02 451.023 Q113.168 451.439 111.223 452.319 L111.223 434.958 Z\" fill=\"#000000\" fill-rule=\"evenodd\" fill-opacity=\"1\" /><path clip-path=\"url(#clip830)\" d=\"M151.339 438.037 Q147.728 438.037 145.899 441.601 Q144.093 445.143 144.093 452.273 Q144.093 459.379 145.899 462.944 Q147.728 466.486 151.339 466.486 Q154.973 466.486 156.779 462.944 Q158.607 459.379 158.607 452.273 Q158.607 445.143 156.779 441.601 Q154.973 438.037 151.339 438.037 M151.339 434.333 Q157.149 434.333 160.205 438.939 Q163.283 443.523 163.283 452.273 Q163.283 460.999 160.205 465.606 Q157.149 470.189 151.339 470.189 Q145.529 470.189 142.45 465.606 Q139.394 460.999 139.394 452.273 Q139.394 443.523 142.45 438.939 Q145.529 434.333 151.339 434.333 Z\" fill=\"#000000\" fill-rule=\"evenodd\" fill-opacity=\"1\" /><path clip-path=\"url(#clip830)\" d=\"M51.6634 133.714 L59.3023 133.714 L59.3023 107.348 L50.9921 109.015 L50.9921 104.756 L59.256 103.089 L63.9319 103.089 L63.9319 133.714 L71.5707 133.714 L71.5707 137.649 L51.6634 137.649 L51.6634 133.714 Z\" fill=\"#000000\" fill-rule=\"evenodd\" fill-opacity=\"1\" /><path clip-path=\"url(#clip830)\" d=\"M91.0151 106.168 Q87.404 106.168 85.5753 109.732 Q83.7697 113.274 83.7697 120.404 Q83.7697 127.51 85.5753 131.075 Q87.404 134.616 91.0151 134.616 Q94.6493 134.616 96.4548 131.075 Q98.2835 127.51 98.2835 120.404 Q98.2835 113.274 96.4548 109.732 Q94.6493 106.168 91.0151 106.168 M91.0151 102.464 Q96.8252 102.464 99.8808 107.07 Q102.959 111.654 102.959 120.404 Q102.959 129.13 99.8808 133.737 Q96.8252 138.32 91.0151 138.32 Q85.2049 138.32 82.1262 133.737 Q79.0707 129.13 79.0707 120.404 Q79.0707 111.654 82.1262 107.07 Q85.2049 102.464 91.0151 102.464 Z\" fill=\"#000000\" fill-rule=\"evenodd\" fill-opacity=\"1\" /><path clip-path=\"url(#clip830)\" d=\"M121.177 106.168 Q117.566 106.168 115.737 109.732 Q113.932 113.274 113.932 120.404 Q113.932 127.51 115.737 131.075 Q117.566 134.616 121.177 134.616 Q124.811 134.616 126.617 131.075 Q128.445 127.51 128.445 120.404 Q128.445 113.274 126.617 109.732 Q124.811 106.168 121.177 106.168 M121.177 102.464 Q126.987 102.464 130.043 107.07 Q133.121 111.654 133.121 120.404 Q133.121 129.13 130.043 133.737 Q126.987 138.32 121.177 138.32 Q115.367 138.32 112.288 133.737 Q109.233 129.13 109.233 120.404 Q109.233 111.654 112.288 107.07 Q115.367 102.464 121.177 102.464 Z\" fill=\"#000000\" fill-rule=\"evenodd\" fill-opacity=\"1\" /><path clip-path=\"url(#clip830)\" d=\"M151.339 106.168 Q147.728 106.168 145.899 109.732 Q144.093 113.274 144.093 120.404 Q144.093 127.51 145.899 131.075 Q147.728 134.616 151.339 134.616 Q154.973 134.616 156.779 131.075 Q158.607 127.51 158.607 120.404 Q158.607 113.274 156.779 109.732 Q154.973 106.168 151.339 106.168 M151.339 102.464 Q157.149 102.464 160.205 107.07 Q163.283 111.654 163.283 120.404 Q163.283 129.13 160.205 133.737 Q157.149 138.32 151.339 138.32 Q145.529 138.32 142.45 133.737 Q139.394 129.13 139.394 120.404 Q139.394 111.654 142.45 107.07 Q145.529 102.464 151.339 102.464 Z\" fill=\"#000000\" fill-rule=\"evenodd\" fill-opacity=\"1\" /><circle clip-path=\"url(#clip832)\" cx=\"260.231\" cy=\"1445.72\" r=\"10.8\" fill=\"#add8e6\" fill-rule=\"evenodd\" fill-opacity=\"1\" stroke=\"#000000\" stroke-opacity=\"1\" stroke-width=\"3.2\"/>\n",
              "<circle clip-path=\"url(#clip832)\" cx=\"485.961\" cy=\"1442.73\" r=\"10.8\" fill=\"#add8e6\" fill-rule=\"evenodd\" fill-opacity=\"1\" stroke=\"#000000\" stroke-opacity=\"1\" stroke-width=\"3.2\"/>\n",
              "<circle clip-path=\"url(#clip832)\" cx=\"711.692\" cy=\"1437.69\" r=\"10.8\" fill=\"#add8e6\" fill-rule=\"evenodd\" fill-opacity=\"1\" stroke=\"#000000\" stroke-opacity=\"1\" stroke-width=\"3.2\"/>\n",
              "<circle clip-path=\"url(#clip832)\" cx=\"937.423\" cy=\"1426.69\" r=\"10.8\" fill=\"#add8e6\" fill-rule=\"evenodd\" fill-opacity=\"1\" stroke=\"#000000\" stroke-opacity=\"1\" stroke-width=\"3.2\"/>\n",
              "<circle clip-path=\"url(#clip832)\" cx=\"1163.15\" cy=\"1405.91\" r=\"10.8\" fill=\"#add8e6\" fill-rule=\"evenodd\" fill-opacity=\"1\" stroke=\"#000000\" stroke-opacity=\"1\" stroke-width=\"3.2\"/>\n",
              "<circle clip-path=\"url(#clip832)\" cx=\"1388.88\" cy=\"1363.5\" r=\"10.8\" fill=\"#add8e6\" fill-rule=\"evenodd\" fill-opacity=\"1\" stroke=\"#000000\" stroke-opacity=\"1\" stroke-width=\"3.2\"/>\n",
              "<circle clip-path=\"url(#clip832)\" cx=\"1614.62\" cy=\"1278.42\" r=\"10.8\" fill=\"#add8e6\" fill-rule=\"evenodd\" fill-opacity=\"1\" stroke=\"#000000\" stroke-opacity=\"1\" stroke-width=\"3.2\"/>\n",
              "<circle clip-path=\"url(#clip832)\" cx=\"1840.35\" cy=\"1108.79\" r=\"10.8\" fill=\"#add8e6\" fill-rule=\"evenodd\" fill-opacity=\"1\" stroke=\"#000000\" stroke-opacity=\"1\" stroke-width=\"3.2\"/>\n",
              "<circle clip-path=\"url(#clip832)\" cx=\"2066.08\" cy=\"768.366\" r=\"10.8\" fill=\"#add8e6\" fill-rule=\"evenodd\" fill-opacity=\"1\" stroke=\"#000000\" stroke-opacity=\"1\" stroke-width=\"3.2\"/>\n",
              "<circle clip-path=\"url(#clip832)\" cx=\"2291.81\" cy=\"87.9763\" r=\"10.8\" fill=\"#add8e6\" fill-rule=\"evenodd\" fill-opacity=\"1\" stroke=\"#000000\" stroke-opacity=\"1\" stroke-width=\"3.2\"/>\n",
              "</svg>\n"
            ]
          },
          "execution_count": 74,
          "metadata": {},
          "output_type": "execute_result"
        }
      ],
      "source": [
        "#y=2^x\n",
        "x=[1;2;3;4;5;6;7;8;9;10]\n",
        "y=[2;4;8;16;32;64;128;256;512;1024]\n",
        "\n",
        "ruido=randn(10)*0.3\n",
        "\n",
        "y=y+ruido\n",
        "#Desenho no mundo original\n",
        "scatter(x, y, c=:lightblue, ms=3, leg=false)"
      ]
    },
    {
      "cell_type": "code",
      "execution_count": null,
      "metadata": {
        "id": "kFemwDu-wm_B",
        "outputId": "fe0b23b8-7497-4174-e58e-e148cb4df0bd"
      },
      "outputs": [
        {
          "data": {
            "image/svg+xml": [
              "<?xml version=\"1.0\" encoding=\"utf-8\"?>\n",
              "<svg xmlns=\"http://www.w3.org/2000/svg\" xmlns:xlink=\"http://www.w3.org/1999/xlink\" width=\"600\" height=\"400\" viewBox=\"0 0 2400 1600\">\n",
              "<defs>\n",
              "  <clipPath id=\"clip910\">\n",
              "    <rect x=\"0\" y=\"0\" width=\"2400\" height=\"1600\"/>\n",
              "  </clipPath>\n",
              "</defs>\n",
              "<path clip-path=\"url(#clip910)\" d=\"\n",
              "M0 1600 L2400 1600 L2400 0 L0 0  Z\n",
              "  \" fill=\"#ffffff\" fill-rule=\"evenodd\" fill-opacity=\"1\"/>\n",
              "<defs>\n",
              "  <clipPath id=\"clip911\">\n",
              "    <rect x=\"480\" y=\"0\" width=\"1681\" height=\"1600\"/>\n",
              "  </clipPath>\n",
              "</defs>\n",
              "<path clip-path=\"url(#clip910)\" d=\"\n",
              "M112.177 1486.45 L2352.76 1486.45 L2352.76 47.2441 L112.177 47.2441  Z\n",
              "  \" fill=\"#ffffff\" fill-rule=\"evenodd\" fill-opacity=\"1\"/>\n",
              "<defs>\n",
              "  <clipPath id=\"clip912\">\n",
              "    <rect x=\"112\" y=\"47\" width=\"2242\" height=\"1440\"/>\n",
              "  </clipPath>\n",
              "</defs>\n",
              "<polyline clip-path=\"url(#clip912)\" style=\"stroke:#000000; stroke-linecap:round; stroke-linejoin:round; stroke-width:2; stroke-opacity:0.1; fill:none\" points=\"\n",
              "  410.451,1486.45 410.451,47.2441 \n",
              "  \"/>\n",
              "<polyline clip-path=\"url(#clip912)\" style=\"stroke:#000000; stroke-linecap:round; stroke-linejoin:round; stroke-width:2; stroke-opacity:0.1; fill:none\" points=\"\n",
              "  880.174,1486.45 880.174,47.2441 \n",
              "  \"/>\n",
              "<polyline clip-path=\"url(#clip912)\" style=\"stroke:#000000; stroke-linecap:round; stroke-linejoin:round; stroke-width:2; stroke-opacity:0.1; fill:none\" points=\"\n",
              "  1349.9,1486.45 1349.9,47.2441 \n",
              "  \"/>\n",
              "<polyline clip-path=\"url(#clip912)\" style=\"stroke:#000000; stroke-linecap:round; stroke-linejoin:round; stroke-width:2; stroke-opacity:0.1; fill:none\" points=\"\n",
              "  1819.62,1486.45 1819.62,47.2441 \n",
              "  \"/>\n",
              "<polyline clip-path=\"url(#clip912)\" style=\"stroke:#000000; stroke-linecap:round; stroke-linejoin:round; stroke-width:2; stroke-opacity:0.1; fill:none\" points=\"\n",
              "  2289.34,1486.45 2289.34,47.2441 \n",
              "  \"/>\n",
              "<polyline clip-path=\"url(#clip910)\" style=\"stroke:#000000; stroke-linecap:round; stroke-linejoin:round; stroke-width:4; stroke-opacity:1; fill:none\" points=\"\n",
              "  112.177,1486.45 2352.76,1486.45 \n",
              "  \"/>\n",
              "<polyline clip-path=\"url(#clip910)\" style=\"stroke:#000000; stroke-linecap:round; stroke-linejoin:round; stroke-width:4; stroke-opacity:1; fill:none\" points=\"\n",
              "  410.451,1486.45 410.451,1469.18 \n",
              "  \"/>\n",
              "<polyline clip-path=\"url(#clip910)\" style=\"stroke:#000000; stroke-linecap:round; stroke-linejoin:round; stroke-width:4; stroke-opacity:1; fill:none\" points=\"\n",
              "  880.174,1486.45 880.174,1469.18 \n",
              "  \"/>\n",
              "<polyline clip-path=\"url(#clip910)\" style=\"stroke:#000000; stroke-linecap:round; stroke-linejoin:round; stroke-width:4; stroke-opacity:1; fill:none\" points=\"\n",
              "  1349.9,1486.45 1349.9,1469.18 \n",
              "  \"/>\n",
              "<polyline clip-path=\"url(#clip910)\" style=\"stroke:#000000; stroke-linecap:round; stroke-linejoin:round; stroke-width:4; stroke-opacity:1; fill:none\" points=\"\n",
              "  1819.62,1486.45 1819.62,1469.18 \n",
              "  \"/>\n",
              "<polyline clip-path=\"url(#clip910)\" style=\"stroke:#000000; stroke-linecap:round; stroke-linejoin:round; stroke-width:4; stroke-opacity:1; fill:none\" points=\"\n",
              "  2289.34,1486.45 2289.34,1469.18 \n",
              "  \"/>\n",
              "<path clip-path=\"url(#clip910)\" d=\"M405.104 1543.18 L421.423 1543.18 L421.423 1547.12 L399.479 1547.12 L399.479 1543.18 Q402.141 1540.43 406.724 1535.8 Q411.331 1531.15 412.511 1529.81 Q414.757 1527.28 415.636 1525.55 Q416.539 1523.79 416.539 1522.1 Q416.539 1519.34 414.595 1517.61 Q412.673 1515.87 409.572 1515.87 Q407.373 1515.87 404.919 1516.63 Q402.488 1517.4 399.711 1518.95 L399.711 1514.23 Q402.535 1513.09 404.988 1512.51 Q407.442 1511.93 409.479 1511.93 Q414.849 1511.93 418.044 1514.62 Q421.238 1517.31 421.238 1521.8 Q421.238 1523.93 420.428 1525.85 Q419.641 1527.74 417.535 1530.34 Q416.956 1531.01 413.854 1534.23 Q410.752 1537.42 405.104 1543.18 Z\" fill=\"#000000\" fill-rule=\"evenodd\" fill-opacity=\"1\" /><path clip-path=\"url(#clip910)\" d=\"M883.184 1516.63 L871.378 1535.08 L883.184 1535.08 L883.184 1516.63 M881.957 1512.56 L887.836 1512.56 L887.836 1535.08 L892.767 1535.08 L892.767 1538.97 L887.836 1538.97 L887.836 1547.12 L883.184 1547.12 L883.184 1538.97 L867.582 1538.97 L867.582 1534.46 L881.957 1512.56 Z\" fill=\"#000000\" fill-rule=\"evenodd\" fill-opacity=\"1\" /><path clip-path=\"url(#clip910)\" d=\"M1350.3 1527.98 Q1347.15 1527.98 1345.3 1530.13 Q1343.47 1532.28 1343.47 1536.03 Q1343.47 1539.76 1345.3 1541.93 Q1347.15 1544.09 1350.3 1544.09 Q1353.45 1544.09 1355.28 1541.93 Q1357.13 1539.76 1357.13 1536.03 Q1357.13 1532.28 1355.28 1530.13 Q1353.45 1527.98 1350.3 1527.98 M1359.58 1513.32 L1359.58 1517.58 Q1357.83 1516.75 1356.02 1516.31 Q1354.24 1515.87 1352.48 1515.87 Q1347.85 1515.87 1345.4 1519 Q1342.96 1522.12 1342.62 1528.44 Q1343.98 1526.43 1346.04 1525.36 Q1348.1 1524.27 1350.58 1524.27 Q1355.79 1524.27 1358.8 1527.44 Q1361.83 1530.59 1361.83 1536.03 Q1361.83 1541.36 1358.68 1544.57 Q1355.53 1547.79 1350.3 1547.79 Q1344.31 1547.79 1341.14 1543.21 Q1337.96 1538.6 1337.96 1529.87 Q1337.96 1521.68 1341.85 1516.82 Q1345.74 1511.93 1352.29 1511.93 Q1354.05 1511.93 1355.83 1512.28 Q1357.64 1512.63 1359.58 1513.32 Z\" fill=\"#000000\" fill-rule=\"evenodd\" fill-opacity=\"1\" /><path clip-path=\"url(#clip910)\" d=\"M1819.62 1530.71 Q1816.29 1530.71 1814.37 1532.49 Q1812.47 1534.27 1812.47 1537.4 Q1812.47 1540.52 1814.37 1542.31 Q1816.29 1544.09 1819.62 1544.09 Q1822.95 1544.09 1824.87 1542.31 Q1826.8 1540.5 1826.8 1537.4 Q1826.8 1534.27 1824.87 1532.49 Q1822.98 1530.71 1819.62 1530.71 M1814.94 1528.72 Q1811.94 1527.98 1810.25 1525.92 Q1808.58 1523.86 1808.58 1520.89 Q1808.58 1516.75 1811.52 1514.34 Q1814.48 1511.93 1819.62 1511.93 Q1824.78 1511.93 1827.72 1514.34 Q1830.66 1516.75 1830.66 1520.89 Q1830.66 1523.86 1828.97 1525.92 Q1827.31 1527.98 1824.32 1528.72 Q1827.7 1529.5 1829.57 1531.8 Q1831.47 1534.09 1831.47 1537.4 Q1831.47 1542.42 1828.39 1545.11 Q1825.34 1547.79 1819.62 1547.79 Q1813.9 1547.79 1810.82 1545.11 Q1807.77 1542.42 1807.77 1537.4 Q1807.77 1534.09 1809.67 1531.8 Q1811.56 1529.5 1814.94 1528.72 M1813.23 1521.33 Q1813.23 1524.02 1814.9 1525.52 Q1816.59 1527.03 1819.62 1527.03 Q1822.63 1527.03 1824.32 1525.52 Q1826.03 1524.02 1826.03 1521.33 Q1826.03 1518.65 1824.32 1517.14 Q1822.63 1515.64 1819.62 1515.64 Q1816.59 1515.64 1814.9 1517.14 Q1813.23 1518.65 1813.23 1521.33 Z\" fill=\"#000000\" fill-rule=\"evenodd\" fill-opacity=\"1\" /><path clip-path=\"url(#clip910)\" d=\"M2264.03 1543.18 L2271.67 1543.18 L2271.67 1516.82 L2263.36 1518.49 L2263.36 1514.23 L2271.62 1512.56 L2276.3 1512.56 L2276.3 1543.18 L2283.94 1543.18 L2283.94 1547.12 L2264.03 1547.12 L2264.03 1543.18 Z\" fill=\"#000000\" fill-rule=\"evenodd\" fill-opacity=\"1\" /><path clip-path=\"url(#clip910)\" d=\"M2303.38 1515.64 Q2299.77 1515.64 2297.94 1519.2 Q2296.14 1522.75 2296.14 1529.87 Q2296.14 1536.98 2297.94 1540.55 Q2299.77 1544.09 2303.38 1544.09 Q2307.02 1544.09 2308.82 1540.55 Q2310.65 1536.98 2310.65 1529.87 Q2310.65 1522.75 2308.82 1519.2 Q2307.02 1515.64 2303.38 1515.64 M2303.38 1511.93 Q2309.19 1511.93 2312.25 1516.54 Q2315.33 1521.12 2315.33 1529.87 Q2315.33 1538.6 2312.25 1543.21 Q2309.19 1547.79 2303.38 1547.79 Q2297.57 1547.79 2294.49 1543.21 Q2291.44 1538.6 2291.44 1529.87 Q2291.44 1521.12 2294.49 1516.54 Q2297.57 1511.93 2303.38 1511.93 Z\" fill=\"#000000\" fill-rule=\"evenodd\" fill-opacity=\"1\" /><polyline clip-path=\"url(#clip912)\" style=\"stroke:#000000; stroke-linecap:round; stroke-linejoin:round; stroke-width:2; stroke-opacity:0.1; fill:none\" points=\"\n",
              "  112.177,1334.86 2352.76,1334.86 \n",
              "  \"/>\n",
              "<polyline clip-path=\"url(#clip912)\" style=\"stroke:#000000; stroke-linecap:round; stroke-linejoin:round; stroke-width:2; stroke-opacity:0.1; fill:none\" points=\"\n",
              "  112.177,1124.66 2352.76,1124.66 \n",
              "  \"/>\n",
              "<polyline clip-path=\"url(#clip912)\" style=\"stroke:#000000; stroke-linecap:round; stroke-linejoin:round; stroke-width:2; stroke-opacity:0.1; fill:none\" points=\"\n",
              "  112.177,914.461 2352.76,914.461 \n",
              "  \"/>\n",
              "<polyline clip-path=\"url(#clip912)\" style=\"stroke:#000000; stroke-linecap:round; stroke-linejoin:round; stroke-width:2; stroke-opacity:0.1; fill:none\" points=\"\n",
              "  112.177,704.259 2352.76,704.259 \n",
              "  \"/>\n",
              "<polyline clip-path=\"url(#clip912)\" style=\"stroke:#000000; stroke-linecap:round; stroke-linejoin:round; stroke-width:2; stroke-opacity:0.1; fill:none\" points=\"\n",
              "  112.177,494.057 2352.76,494.057 \n",
              "  \"/>\n",
              "<polyline clip-path=\"url(#clip912)\" style=\"stroke:#000000; stroke-linecap:round; stroke-linejoin:round; stroke-width:2; stroke-opacity:0.1; fill:none\" points=\"\n",
              "  112.177,283.856 2352.76,283.856 \n",
              "  \"/>\n",
              "<polyline clip-path=\"url(#clip912)\" style=\"stroke:#000000; stroke-linecap:round; stroke-linejoin:round; stroke-width:2; stroke-opacity:0.1; fill:none\" points=\"\n",
              "  112.177,73.654 2352.76,73.654 \n",
              "  \"/>\n",
              "<polyline clip-path=\"url(#clip910)\" style=\"stroke:#000000; stroke-linecap:round; stroke-linejoin:round; stroke-width:4; stroke-opacity:1; fill:none\" points=\"\n",
              "  112.177,1486.45 112.177,47.2441 \n",
              "  \"/>\n",
              "<polyline clip-path=\"url(#clip910)\" style=\"stroke:#000000; stroke-linecap:round; stroke-linejoin:round; stroke-width:4; stroke-opacity:1; fill:none\" points=\"\n",
              "  112.177,1334.86 139.064,1334.86 \n",
              "  \"/>\n",
              "<polyline clip-path=\"url(#clip910)\" style=\"stroke:#000000; stroke-linecap:round; stroke-linejoin:round; stroke-width:4; stroke-opacity:1; fill:none\" points=\"\n",
              "  112.177,1124.66 139.064,1124.66 \n",
              "  \"/>\n",
              "<polyline clip-path=\"url(#clip910)\" style=\"stroke:#000000; stroke-linecap:round; stroke-linejoin:round; stroke-width:4; stroke-opacity:1; fill:none\" points=\"\n",
              "  112.177,914.461 139.064,914.461 \n",
              "  \"/>\n",
              "<polyline clip-path=\"url(#clip910)\" style=\"stroke:#000000; stroke-linecap:round; stroke-linejoin:round; stroke-width:4; stroke-opacity:1; fill:none\" points=\"\n",
              "  112.177,704.259 139.064,704.259 \n",
              "  \"/>\n",
              "<polyline clip-path=\"url(#clip910)\" style=\"stroke:#000000; stroke-linecap:round; stroke-linejoin:round; stroke-width:4; stroke-opacity:1; fill:none\" points=\"\n",
              "  112.177,494.057 139.064,494.057 \n",
              "  \"/>\n",
              "<polyline clip-path=\"url(#clip910)\" style=\"stroke:#000000; stroke-linecap:round; stroke-linejoin:round; stroke-width:4; stroke-opacity:1; fill:none\" points=\"\n",
              "  112.177,283.856 139.064,283.856 \n",
              "  \"/>\n",
              "<polyline clip-path=\"url(#clip910)\" style=\"stroke:#000000; stroke-linecap:round; stroke-linejoin:round; stroke-width:4; stroke-opacity:1; fill:none\" points=\"\n",
              "  112.177,73.654 139.064,73.654 \n",
              "  \"/>\n",
              "<path clip-path=\"url(#clip910)\" d=\"M56.2699 1348.21 L63.9087 1348.21 L63.9087 1321.84 L55.5986 1323.51 L55.5986 1319.25 L63.8624 1317.58 L68.5383 1317.58 L68.5383 1348.21 L76.1772 1348.21 L76.1772 1352.14 L56.2699 1352.14 L56.2699 1348.21 Z\" fill=\"#000000\" fill-rule=\"evenodd\" fill-opacity=\"1\" /><path clip-path=\"url(#clip910)\" d=\"M59.8578 1138.01 L76.1772 1138.01 L76.1772 1141.94 L54.2328 1141.94 L54.2328 1138.01 Q56.8949 1135.25 61.4782 1130.62 Q66.0846 1125.97 67.2652 1124.63 Q69.5105 1122.1 70.3902 1120.37 Q71.2929 1118.61 71.2929 1116.92 Q71.2929 1114.17 69.3485 1112.43 Q67.4272 1110.69 64.3254 1110.69 Q62.1263 1110.69 59.6726 1111.46 Q57.2421 1112.22 54.4643 1113.77 L54.4643 1109.05 Q57.2884 1107.92 59.7421 1107.34 Q62.1958 1106.76 64.2328 1106.76 Q69.6031 1106.76 72.7976 1109.44 Q75.992 1112.13 75.992 1116.62 Q75.992 1118.75 75.1818 1120.67 Q74.3948 1122.57 72.2883 1125.16 Q71.7096 1125.83 68.6078 1129.05 Q65.5059 1132.24 59.8578 1138.01 Z\" fill=\"#000000\" fill-rule=\"evenodd\" fill-opacity=\"1\" /><path clip-path=\"url(#clip910)\" d=\"M69.0476 913.107 Q72.404 913.824 74.279 916.093 Q76.1772 918.361 76.1772 921.695 Q76.1772 926.81 72.6587 929.611 Q69.1402 932.412 62.6587 932.412 Q60.4828 932.412 58.168 931.972 Q55.8764 931.556 53.4227 930.699 L53.4227 926.185 Q55.3671 927.32 57.6819 927.898 Q59.9967 928.477 62.5198 928.477 Q66.918 928.477 69.2096 926.741 Q71.5244 925.005 71.5244 921.695 Q71.5244 918.639 69.3717 916.926 Q67.242 915.19 63.4226 915.19 L59.3949 915.19 L59.3949 911.348 L63.6078 911.348 Q67.0569 911.348 68.8855 909.982 Q70.7142 908.593 70.7142 906 Q70.7142 903.338 68.8161 901.926 Q66.9411 900.491 63.4226 900.491 Q61.5013 900.491 59.3023 900.908 Q57.1032 901.324 54.4643 902.204 L54.4643 898.037 Q57.1264 897.297 59.4412 896.926 Q61.7791 896.556 63.8393 896.556 Q69.1633 896.556 72.2652 898.986 Q75.367 901.394 75.367 905.514 Q75.367 908.385 73.7235 910.375 Q72.08 912.343 69.0476 913.107 Z\" fill=\"#000000\" fill-rule=\"evenodd\" fill-opacity=\"1\" /><path clip-path=\"url(#clip910)\" d=\"M66.5939 691.053 L54.7884 709.502 L66.5939 709.502 L66.5939 691.053 M65.367 686.979 L71.2466 686.979 L71.2466 709.502 L76.1772 709.502 L76.1772 713.391 L71.2466 713.391 L71.2466 721.539 L66.5939 721.539 L66.5939 713.391 L50.9921 713.391 L50.9921 708.877 L65.367 686.979 Z\" fill=\"#000000\" fill-rule=\"evenodd\" fill-opacity=\"1\" /><path clip-path=\"url(#clip910)\" d=\"M55.2745 476.777 L73.6309 476.777 L73.6309 480.713 L59.5569 480.713 L59.5569 489.185 Q60.5754 488.838 61.5939 488.676 Q62.6124 488.49 63.6309 488.49 Q69.418 488.49 72.7976 491.662 Q76.1772 494.833 76.1772 500.25 Q76.1772 505.828 72.705 508.93 Q69.2328 512.009 62.9134 512.009 Q60.7374 512.009 58.4689 511.638 Q56.2236 511.268 53.8162 510.527 L53.8162 505.828 Q55.8995 506.962 58.1217 507.518 Q60.3439 508.074 62.8208 508.074 Q66.8254 508.074 69.1633 505.967 Q71.5013 503.861 71.5013 500.25 Q71.5013 496.638 69.1633 494.532 Q66.8254 492.426 62.8208 492.426 Q60.9458 492.426 59.0708 492.842 Q57.2189 493.259 55.2745 494.138 L55.2745 476.777 Z\" fill=\"#000000\" fill-rule=\"evenodd\" fill-opacity=\"1\" /><path clip-path=\"url(#clip910)\" d=\"M64.6495 281.992 Q61.5013 281.992 59.6495 284.145 Q57.8208 286.298 57.8208 290.048 Q57.8208 293.775 59.6495 295.951 Q61.5013 298.103 64.6495 298.103 Q67.7976 298.103 69.6263 295.951 Q71.4781 293.775 71.4781 290.048 Q71.4781 286.298 69.6263 284.145 Q67.7976 281.992 64.6495 281.992 M73.9318 267.34 L73.9318 271.599 Q72.1726 270.765 70.367 270.326 Q68.5846 269.886 66.8254 269.886 Q62.1958 269.886 59.7421 273.011 Q57.3115 276.136 56.9643 282.455 Q58.33 280.441 60.3902 279.377 Q62.4504 278.289 64.9272 278.289 Q70.1355 278.289 73.1448 281.46 Q76.1772 284.608 76.1772 290.048 Q76.1772 295.372 73.029 298.589 Q69.8809 301.807 64.6495 301.807 Q58.6541 301.807 55.4828 297.224 Q52.3116 292.617 52.3116 283.89 Q52.3116 275.696 56.2004 270.835 Q60.0893 265.951 66.6402 265.951 Q68.3994 265.951 70.1818 266.298 Q71.9874 266.645 73.9318 267.34 Z\" fill=\"#000000\" fill-rule=\"evenodd\" fill-opacity=\"1\" /><path clip-path=\"url(#clip910)\" d=\"M53.9551 56.374 L76.1772 56.374 L76.1772 58.3647 L63.6309 90.934 L58.7467 90.934 L70.5522 60.3091 L53.9551 60.3091 L53.9551 56.374 Z\" fill=\"#000000\" fill-rule=\"evenodd\" fill-opacity=\"1\" /><circle clip-path=\"url(#clip912)\" cx=\"175.59\" cy=\"1445.72\" r=\"10.8\" fill=\"#add8e6\" fill-rule=\"evenodd\" fill-opacity=\"1\" stroke=\"#000000\" stroke-opacity=\"1\" stroke-width=\"3.2\"/>\n",
              "<circle clip-path=\"url(#clip912)\" cx=\"410.451\" cy=\"1261.41\" r=\"10.8\" fill=\"#add8e6\" fill-rule=\"evenodd\" fill-opacity=\"1\" stroke=\"#000000\" stroke-opacity=\"1\" stroke-width=\"3.2\"/>\n",
              "<circle clip-path=\"url(#clip912)\" cx=\"645.313\" cy=\"1117.29\" r=\"10.8\" fill=\"#add8e6\" fill-rule=\"evenodd\" fill-opacity=\"1\" stroke=\"#000000\" stroke-opacity=\"1\" stroke-width=\"3.2\"/>\n",
              "<circle clip-path=\"url(#clip912)\" cx=\"880.174\" cy=\"963.109\" r=\"10.8\" fill=\"#add8e6\" fill-rule=\"evenodd\" fill-opacity=\"1\" stroke=\"#000000\" stroke-opacity=\"1\" stroke-width=\"3.2\"/>\n",
              "<circle clip-path=\"url(#clip912)\" cx=\"1115.04\" cy=\"819.284\" r=\"10.8\" fill=\"#add8e6\" fill-rule=\"evenodd\" fill-opacity=\"1\" stroke=\"#000000\" stroke-opacity=\"1\" stroke-width=\"3.2\"/>\n",
              "<circle clip-path=\"url(#clip912)\" cx=\"1349.9\" cy=\"672.383\" r=\"10.8\" fill=\"#add8e6\" fill-rule=\"evenodd\" fill-opacity=\"1\" stroke=\"#000000\" stroke-opacity=\"1\" stroke-width=\"3.2\"/>\n",
              "<circle clip-path=\"url(#clip912)\" cx=\"1584.76\" cy=\"525.767\" r=\"10.8\" fill=\"#add8e6\" fill-rule=\"evenodd\" fill-opacity=\"1\" stroke=\"#000000\" stroke-opacity=\"1\" stroke-width=\"3.2\"/>\n",
              "<circle clip-path=\"url(#clip912)\" cx=\"1819.62\" cy=\"379.943\" r=\"10.8\" fill=\"#add8e6\" fill-rule=\"evenodd\" fill-opacity=\"1\" stroke=\"#000000\" stroke-opacity=\"1\" stroke-width=\"3.2\"/>\n",
              "<circle clip-path=\"url(#clip912)\" cx=\"2054.48\" cy=\"233.818\" r=\"10.8\" fill=\"#add8e6\" fill-rule=\"evenodd\" fill-opacity=\"1\" stroke=\"#000000\" stroke-opacity=\"1\" stroke-width=\"3.2\"/>\n",
              "<circle clip-path=\"url(#clip912)\" cx=\"2289.34\" cy=\"87.9763\" r=\"10.8\" fill=\"#add8e6\" fill-rule=\"evenodd\" fill-opacity=\"1\" stroke=\"#000000\" stroke-opacity=\"1\" stroke-width=\"3.2\"/>\n",
              "</svg>\n"
            ]
          },
          "execution_count": 76,
          "metadata": {},
          "output_type": "execute_result"
        }
      ],
      "source": [
        "#Mundo barra\n",
        "x_barra=x\n",
        "y_barra=log.(y)\n",
        "scatter(x_barra, y_barra, c=:lightblue, ms=3, leg=false)"
      ]
    },
    {
      "cell_type": "code",
      "execution_count": null,
      "metadata": {
        "id": "5MI27yTTwm_B",
        "outputId": "b9cce4be-4b14-431e-903f-7615a7f4b003"
      },
      "outputs": [
        {
          "data": {
            "image/svg+xml": [
              "<?xml version=\"1.0\" encoding=\"utf-8\"?>\n",
              "<svg xmlns=\"http://www.w3.org/2000/svg\" xmlns:xlink=\"http://www.w3.org/1999/xlink\" width=\"600\" height=\"400\" viewBox=\"0 0 2400 1600\">\n",
              "<defs>\n",
              "  <clipPath id=\"clip630\">\n",
              "    <rect x=\"0\" y=\"0\" width=\"2400\" height=\"1600\"/>\n",
              "  </clipPath>\n",
              "</defs>\n",
              "<path clip-path=\"url(#clip630)\" d=\"\n",
              "M0 1600 L2400 1600 L2400 0 L0 0  Z\n",
              "  \" fill=\"#ffffff\" fill-rule=\"evenodd\" fill-opacity=\"1\"/>\n",
              "<defs>\n",
              "  <clipPath id=\"clip631\">\n",
              "    <rect x=\"480\" y=\"0\" width=\"1681\" height=\"1600\"/>\n",
              "  </clipPath>\n",
              "</defs>\n",
              "<path clip-path=\"url(#clip630)\" d=\"\n",
              "M112.177 1486.45 L2352.76 1486.45 L2352.76 47.2441 L112.177 47.2441  Z\n",
              "  \" fill=\"#ffffff\" fill-rule=\"evenodd\" fill-opacity=\"1\"/>\n",
              "<defs>\n",
              "  <clipPath id=\"clip632\">\n",
              "    <rect x=\"112\" y=\"47\" width=\"2242\" height=\"1440\"/>\n",
              "  </clipPath>\n",
              "</defs>\n",
              "<polyline clip-path=\"url(#clip632)\" style=\"stroke:#000000; stroke-linecap:round; stroke-linejoin:round; stroke-width:2; stroke-opacity:0.1; fill:none\" points=\"\n",
              "  456.98,1486.45 456.98,47.2441 \n",
              "  \"/>\n",
              "<polyline clip-path=\"url(#clip632)\" style=\"stroke:#000000; stroke-linecap:round; stroke-linejoin:round; stroke-width:2; stroke-opacity:0.1; fill:none\" points=\"\n",
              "  900.115,1486.45 900.115,47.2441 \n",
              "  \"/>\n",
              "<polyline clip-path=\"url(#clip632)\" style=\"stroke:#000000; stroke-linecap:round; stroke-linejoin:round; stroke-width:2; stroke-opacity:0.1; fill:none\" points=\"\n",
              "  1343.25,1486.45 1343.25,47.2441 \n",
              "  \"/>\n",
              "<polyline clip-path=\"url(#clip632)\" style=\"stroke:#000000; stroke-linecap:round; stroke-linejoin:round; stroke-width:2; stroke-opacity:0.1; fill:none\" points=\"\n",
              "  1786.39,1486.45 1786.39,47.2441 \n",
              "  \"/>\n",
              "<polyline clip-path=\"url(#clip632)\" style=\"stroke:#000000; stroke-linecap:round; stroke-linejoin:round; stroke-width:2; stroke-opacity:0.1; fill:none\" points=\"\n",
              "  2229.52,1486.45 2229.52,47.2441 \n",
              "  \"/>\n",
              "<polyline clip-path=\"url(#clip630)\" style=\"stroke:#000000; stroke-linecap:round; stroke-linejoin:round; stroke-width:4; stroke-opacity:1; fill:none\" points=\"\n",
              "  112.177,1486.45 2352.76,1486.45 \n",
              "  \"/>\n",
              "<polyline clip-path=\"url(#clip630)\" style=\"stroke:#000000; stroke-linecap:round; stroke-linejoin:round; stroke-width:4; stroke-opacity:1; fill:none\" points=\"\n",
              "  456.98,1486.45 456.98,1469.18 \n",
              "  \"/>\n",
              "<polyline clip-path=\"url(#clip630)\" style=\"stroke:#000000; stroke-linecap:round; stroke-linejoin:round; stroke-width:4; stroke-opacity:1; fill:none\" points=\"\n",
              "  900.115,1486.45 900.115,1469.18 \n",
              "  \"/>\n",
              "<polyline clip-path=\"url(#clip630)\" style=\"stroke:#000000; stroke-linecap:round; stroke-linejoin:round; stroke-width:4; stroke-opacity:1; fill:none\" points=\"\n",
              "  1343.25,1486.45 1343.25,1469.18 \n",
              "  \"/>\n",
              "<polyline clip-path=\"url(#clip630)\" style=\"stroke:#000000; stroke-linecap:round; stroke-linejoin:round; stroke-width:4; stroke-opacity:1; fill:none\" points=\"\n",
              "  1786.39,1486.45 1786.39,1469.18 \n",
              "  \"/>\n",
              "<polyline clip-path=\"url(#clip630)\" style=\"stroke:#000000; stroke-linecap:round; stroke-linejoin:round; stroke-width:4; stroke-opacity:1; fill:none\" points=\"\n",
              "  2229.52,1486.45 2229.52,1469.18 \n",
              "  \"/>\n",
              "<path clip-path=\"url(#clip630)\" d=\"M451.633 1543.18 L467.953 1543.18 L467.953 1547.12 L446.008 1547.12 L446.008 1543.18 Q448.67 1540.43 453.254 1535.8 Q457.86 1531.15 459.041 1529.81 Q461.286 1527.28 462.166 1525.55 Q463.068 1523.79 463.068 1522.1 Q463.068 1519.34 461.124 1517.61 Q459.203 1515.87 456.101 1515.87 Q453.902 1515.87 451.448 1516.63 Q449.018 1517.4 446.24 1518.95 L446.24 1514.23 Q449.064 1513.09 451.518 1512.51 Q453.971 1511.93 456.008 1511.93 Q461.379 1511.93 464.573 1514.62 Q467.767 1517.31 467.767 1521.8 Q467.767 1523.93 466.957 1525.85 Q466.17 1527.74 464.064 1530.34 Q463.485 1531.01 460.383 1534.23 Q457.281 1537.42 451.633 1543.18 Z\" fill=\"#000000\" fill-rule=\"evenodd\" fill-opacity=\"1\" /><path clip-path=\"url(#clip630)\" d=\"M903.125 1516.63 L891.319 1535.08 L903.125 1535.08 L903.125 1516.63 M901.898 1512.56 L907.777 1512.56 L907.777 1535.08 L912.708 1535.08 L912.708 1538.97 L907.777 1538.97 L907.777 1547.12 L903.125 1547.12 L903.125 1538.97 L887.523 1538.97 L887.523 1534.46 L901.898 1512.56 Z\" fill=\"#000000\" fill-rule=\"evenodd\" fill-opacity=\"1\" /><path clip-path=\"url(#clip630)\" d=\"M1343.66 1527.98 Q1340.51 1527.98 1338.66 1530.13 Q1336.83 1532.28 1336.83 1536.03 Q1336.83 1539.76 1338.66 1541.93 Q1340.51 1544.09 1343.66 1544.09 Q1346.8 1544.09 1348.63 1541.93 Q1350.48 1539.76 1350.48 1536.03 Q1350.48 1532.28 1348.63 1530.13 Q1346.8 1527.98 1343.66 1527.98 M1352.94 1513.32 L1352.94 1517.58 Q1351.18 1516.75 1349.37 1516.31 Q1347.59 1515.87 1345.83 1515.87 Q1341.2 1515.87 1338.75 1519 Q1336.32 1522.12 1335.97 1528.44 Q1337.34 1526.43 1339.4 1525.36 Q1341.46 1524.27 1343.93 1524.27 Q1349.14 1524.27 1352.15 1527.44 Q1355.18 1530.59 1355.18 1536.03 Q1355.18 1541.36 1352.03 1544.57 Q1348.89 1547.79 1343.66 1547.79 Q1337.66 1547.79 1334.49 1543.21 Q1331.32 1538.6 1331.32 1529.87 Q1331.32 1521.68 1335.21 1516.82 Q1339.1 1511.93 1345.65 1511.93 Q1347.41 1511.93 1349.19 1512.28 Q1350.99 1512.63 1352.94 1513.32 Z\" fill=\"#000000\" fill-rule=\"evenodd\" fill-opacity=\"1\" /><path clip-path=\"url(#clip630)\" d=\"M1786.39 1530.71 Q1783.05 1530.71 1781.13 1532.49 Q1779.23 1534.27 1779.23 1537.4 Q1779.23 1540.52 1781.13 1542.31 Q1783.05 1544.09 1786.39 1544.09 Q1789.72 1544.09 1791.64 1542.31 Q1793.56 1540.5 1793.56 1537.4 Q1793.56 1534.27 1791.64 1532.49 Q1789.74 1530.71 1786.39 1530.71 M1781.71 1528.72 Q1778.7 1527.98 1777.01 1525.92 Q1775.34 1523.86 1775.34 1520.89 Q1775.34 1516.75 1778.28 1514.34 Q1781.25 1511.93 1786.39 1511.93 Q1791.55 1511.93 1794.49 1514.34 Q1797.43 1516.75 1797.43 1520.89 Q1797.43 1523.86 1795.74 1525.92 Q1794.07 1527.98 1791.08 1528.72 Q1794.46 1529.5 1796.34 1531.8 Q1798.24 1534.09 1798.24 1537.4 Q1798.24 1542.42 1795.16 1545.11 Q1792.1 1547.79 1786.39 1547.79 Q1780.67 1547.79 1777.59 1545.11 Q1774.53 1542.42 1774.53 1537.4 Q1774.53 1534.09 1776.43 1531.8 Q1778.33 1529.5 1781.71 1528.72 M1780 1521.33 Q1780 1524.02 1781.66 1525.52 Q1783.35 1527.03 1786.39 1527.03 Q1789.39 1527.03 1791.08 1525.52 Q1792.8 1524.02 1792.8 1521.33 Q1792.8 1518.65 1791.08 1517.14 Q1789.39 1515.64 1786.39 1515.64 Q1783.35 1515.64 1781.66 1517.14 Q1780 1518.65 1780 1521.33 Z\" fill=\"#000000\" fill-rule=\"evenodd\" fill-opacity=\"1\" /><path clip-path=\"url(#clip630)\" d=\"M2204.21 1543.18 L2211.85 1543.18 L2211.85 1516.82 L2203.54 1518.49 L2203.54 1514.23 L2211.8 1512.56 L2216.48 1512.56 L2216.48 1543.18 L2224.12 1543.18 L2224.12 1547.12 L2204.21 1547.12 L2204.21 1543.18 Z\" fill=\"#000000\" fill-rule=\"evenodd\" fill-opacity=\"1\" /><path clip-path=\"url(#clip630)\" d=\"M2243.56 1515.64 Q2239.95 1515.64 2238.12 1519.2 Q2236.31 1522.75 2236.31 1529.87 Q2236.31 1536.98 2238.12 1540.55 Q2239.95 1544.09 2243.56 1544.09 Q2247.19 1544.09 2249 1540.55 Q2250.83 1536.98 2250.83 1529.87 Q2250.83 1522.75 2249 1519.2 Q2247.19 1515.64 2243.56 1515.64 M2243.56 1511.93 Q2249.37 1511.93 2252.43 1516.54 Q2255.5 1521.12 2255.5 1529.87 Q2255.5 1538.6 2252.43 1543.21 Q2249.37 1547.79 2243.56 1547.79 Q2237.75 1547.79 2234.67 1543.21 Q2231.61 1538.6 2231.61 1529.87 Q2231.61 1521.12 2234.67 1516.54 Q2237.75 1511.93 2243.56 1511.93 Z\" fill=\"#000000\" fill-rule=\"evenodd\" fill-opacity=\"1\" /><polyline clip-path=\"url(#clip632)\" style=\"stroke:#000000; stroke-linecap:round; stroke-linejoin:round; stroke-width:2; stroke-opacity:0.1; fill:none\" points=\"\n",
              "  112.177,1360 2352.76,1360 \n",
              "  \"/>\n",
              "<polyline clip-path=\"url(#clip632)\" style=\"stroke:#000000; stroke-linecap:round; stroke-linejoin:round; stroke-width:2; stroke-opacity:0.1; fill:none\" points=\"\n",
              "  112.177,1150.93 2352.76,1150.93 \n",
              "  \"/>\n",
              "<polyline clip-path=\"url(#clip632)\" style=\"stroke:#000000; stroke-linecap:round; stroke-linejoin:round; stroke-width:2; stroke-opacity:0.1; fill:none\" points=\"\n",
              "  112.177,941.859 2352.76,941.859 \n",
              "  \"/>\n",
              "<polyline clip-path=\"url(#clip632)\" style=\"stroke:#000000; stroke-linecap:round; stroke-linejoin:round; stroke-width:2; stroke-opacity:0.1; fill:none\" points=\"\n",
              "  112.177,732.787 2352.76,732.787 \n",
              "  \"/>\n",
              "<polyline clip-path=\"url(#clip632)\" style=\"stroke:#000000; stroke-linecap:round; stroke-linejoin:round; stroke-width:2; stroke-opacity:0.1; fill:none\" points=\"\n",
              "  112.177,523.715 2352.76,523.715 \n",
              "  \"/>\n",
              "<polyline clip-path=\"url(#clip632)\" style=\"stroke:#000000; stroke-linecap:round; stroke-linejoin:round; stroke-width:2; stroke-opacity:0.1; fill:none\" points=\"\n",
              "  112.177,314.643 2352.76,314.643 \n",
              "  \"/>\n",
              "<polyline clip-path=\"url(#clip632)\" style=\"stroke:#000000; stroke-linecap:round; stroke-linejoin:round; stroke-width:2; stroke-opacity:0.1; fill:none\" points=\"\n",
              "  112.177,105.571 2352.76,105.571 \n",
              "  \"/>\n",
              "<polyline clip-path=\"url(#clip630)\" style=\"stroke:#000000; stroke-linecap:round; stroke-linejoin:round; stroke-width:4; stroke-opacity:1; fill:none\" points=\"\n",
              "  112.177,1486.45 112.177,47.2441 \n",
              "  \"/>\n",
              "<polyline clip-path=\"url(#clip630)\" style=\"stroke:#000000; stroke-linecap:round; stroke-linejoin:round; stroke-width:4; stroke-opacity:1; fill:none\" points=\"\n",
              "  112.177,1360 139.064,1360 \n",
              "  \"/>\n",
              "<polyline clip-path=\"url(#clip630)\" style=\"stroke:#000000; stroke-linecap:round; stroke-linejoin:round; stroke-width:4; stroke-opacity:1; fill:none\" points=\"\n",
              "  112.177,1150.93 139.064,1150.93 \n",
              "  \"/>\n",
              "<polyline clip-path=\"url(#clip630)\" style=\"stroke:#000000; stroke-linecap:round; stroke-linejoin:round; stroke-width:4; stroke-opacity:1; fill:none\" points=\"\n",
              "  112.177,941.859 139.064,941.859 \n",
              "  \"/>\n",
              "<polyline clip-path=\"url(#clip630)\" style=\"stroke:#000000; stroke-linecap:round; stroke-linejoin:round; stroke-width:4; stroke-opacity:1; fill:none\" points=\"\n",
              "  112.177,732.787 139.064,732.787 \n",
              "  \"/>\n",
              "<polyline clip-path=\"url(#clip630)\" style=\"stroke:#000000; stroke-linecap:round; stroke-linejoin:round; stroke-width:4; stroke-opacity:1; fill:none\" points=\"\n",
              "  112.177,523.715 139.064,523.715 \n",
              "  \"/>\n",
              "<polyline clip-path=\"url(#clip630)\" style=\"stroke:#000000; stroke-linecap:round; stroke-linejoin:round; stroke-width:4; stroke-opacity:1; fill:none\" points=\"\n",
              "  112.177,314.643 139.064,314.643 \n",
              "  \"/>\n",
              "<polyline clip-path=\"url(#clip630)\" style=\"stroke:#000000; stroke-linecap:round; stroke-linejoin:round; stroke-width:4; stroke-opacity:1; fill:none\" points=\"\n",
              "  112.177,105.571 139.064,105.571 \n",
              "  \"/>\n",
              "<path clip-path=\"url(#clip630)\" d=\"M56.2699 1373.35 L63.9087 1373.35 L63.9087 1346.98 L55.5986 1348.65 L55.5986 1344.39 L63.8624 1342.72 L68.5383 1342.72 L68.5383 1373.35 L76.1772 1373.35 L76.1772 1377.28 L56.2699 1377.28 L56.2699 1373.35 Z\" fill=\"#000000\" fill-rule=\"evenodd\" fill-opacity=\"1\" /><path clip-path=\"url(#clip630)\" d=\"M59.8578 1164.28 L76.1772 1164.28 L76.1772 1168.21 L54.2328 1168.21 L54.2328 1164.28 Q56.8949 1161.52 61.4782 1156.89 Q66.0846 1152.24 67.2652 1150.9 Q69.5105 1148.37 70.3902 1146.64 Q71.2929 1144.88 71.2929 1143.19 Q71.2929 1140.43 69.3485 1138.7 Q67.4272 1136.96 64.3254 1136.96 Q62.1263 1136.96 59.6726 1137.73 Q57.2421 1138.49 54.4643 1140.04 L54.4643 1135.32 Q57.2884 1134.18 59.7421 1133.61 Q62.1958 1133.03 64.2328 1133.03 Q69.6031 1133.03 72.7976 1135.71 Q75.992 1138.4 75.992 1142.89 Q75.992 1145.02 75.1818 1146.94 Q74.3948 1148.84 72.2883 1151.43 Q71.7096 1152.1 68.6078 1155.32 Q65.5059 1158.51 59.8578 1164.28 Z\" fill=\"#000000\" fill-rule=\"evenodd\" fill-opacity=\"1\" /><path clip-path=\"url(#clip630)\" d=\"M69.0476 940.505 Q72.404 941.223 74.279 943.491 Q76.1772 945.76 76.1772 949.093 Q76.1772 954.209 72.6587 957.01 Q69.1402 959.811 62.6587 959.811 Q60.4828 959.811 58.168 959.371 Q55.8764 958.954 53.4227 958.098 L53.4227 953.584 Q55.3671 954.718 57.6819 955.297 Q59.9967 955.876 62.5198 955.876 Q66.918 955.876 69.2096 954.139 Q71.5244 952.403 71.5244 949.093 Q71.5244 946.038 69.3717 944.325 Q67.242 942.589 63.4226 942.589 L59.3949 942.589 L59.3949 938.746 L63.6078 938.746 Q67.0569 938.746 68.8855 937.38 Q70.7142 935.991 70.7142 933.399 Q70.7142 930.737 68.8161 929.325 Q66.9411 927.89 63.4226 927.89 Q61.5013 927.89 59.3023 928.306 Q57.1032 928.723 54.4643 929.603 L54.4643 925.436 Q57.1264 924.695 59.4412 924.325 Q61.7791 923.954 63.8393 923.954 Q69.1633 923.954 72.2652 926.385 Q75.367 928.792 75.367 932.913 Q75.367 935.783 73.7235 937.774 Q72.08 939.741 69.0476 940.505 Z\" fill=\"#000000\" fill-rule=\"evenodd\" fill-opacity=\"1\" /><path clip-path=\"url(#clip630)\" d=\"M66.5939 719.581 L54.7884 738.03 L66.5939 738.03 L66.5939 719.581 M65.367 715.507 L71.2466 715.507 L71.2466 738.03 L76.1772 738.03 L76.1772 741.919 L71.2466 741.919 L71.2466 750.067 L66.5939 750.067 L66.5939 741.919 L50.9921 741.919 L50.9921 737.405 L65.367 715.507 Z\" fill=\"#000000\" fill-rule=\"evenodd\" fill-opacity=\"1\" /><path clip-path=\"url(#clip630)\" d=\"M55.2745 506.435 L73.6309 506.435 L73.6309 510.37 L59.5569 510.37 L59.5569 518.843 Q60.5754 518.495 61.5939 518.333 Q62.6124 518.148 63.6309 518.148 Q69.418 518.148 72.7976 521.319 Q76.1772 524.491 76.1772 529.907 Q76.1772 535.486 72.705 538.588 Q69.2328 541.667 62.9134 541.667 Q60.7374 541.667 58.4689 541.296 Q56.2236 540.926 53.8162 540.185 L53.8162 535.486 Q55.8995 536.62 58.1217 537.176 Q60.3439 537.731 62.8208 537.731 Q66.8254 537.731 69.1633 535.625 Q71.5013 533.518 71.5013 529.907 Q71.5013 526.296 69.1633 524.19 Q66.8254 522.083 62.8208 522.083 Q60.9458 522.083 59.0708 522.5 Q57.2189 522.917 55.2745 523.796 L55.2745 506.435 Z\" fill=\"#000000\" fill-rule=\"evenodd\" fill-opacity=\"1\" /><path clip-path=\"url(#clip630)\" d=\"M64.6495 312.78 Q61.5013 312.78 59.6495 314.933 Q57.8208 317.085 57.8208 320.835 Q57.8208 324.562 59.6495 326.738 Q61.5013 328.891 64.6495 328.891 Q67.7976 328.891 69.6263 326.738 Q71.4781 324.562 71.4781 320.835 Q71.4781 317.085 69.6263 314.933 Q67.7976 312.78 64.6495 312.78 M73.9318 298.127 L73.9318 302.386 Q72.1726 301.553 70.367 301.113 Q68.5846 300.673 66.8254 300.673 Q62.1958 300.673 59.7421 303.798 Q57.3115 306.923 56.9643 313.243 Q58.33 311.229 60.3902 310.164 Q62.4504 309.076 64.9272 309.076 Q70.1355 309.076 73.1448 312.247 Q76.1772 315.396 76.1772 320.835 Q76.1772 326.159 73.029 329.377 Q69.8809 332.595 64.6495 332.595 Q58.6541 332.595 55.4828 328.011 Q52.3116 323.405 52.3116 314.678 Q52.3116 306.484 56.2004 301.622 Q60.0893 296.738 66.6402 296.738 Q68.3994 296.738 70.1818 297.085 Q71.9874 297.433 73.9318 298.127 Z\" fill=\"#000000\" fill-rule=\"evenodd\" fill-opacity=\"1\" /><path clip-path=\"url(#clip630)\" d=\"M53.9551 88.2912 L76.1772 88.2912 L76.1772 90.2819 L63.6309 122.851 L58.7467 122.851 L70.5522 92.2263 L53.9551 92.2263 L53.9551 88.2912 Z\" fill=\"#000000\" fill-rule=\"evenodd\" fill-opacity=\"1\" /><circle clip-path=\"url(#clip632)\" cx=\"235.413\" cy=\"1383.71\" r=\"10.8\" fill=\"#add8e6\" fill-rule=\"evenodd\" fill-opacity=\"1\" stroke=\"#000000\" stroke-opacity=\"1\" stroke-width=\"3.2\"/>\n",
              "<circle clip-path=\"url(#clip632)\" cx=\"456.98\" cy=\"1272.93\" r=\"10.8\" fill=\"#add8e6\" fill-rule=\"evenodd\" fill-opacity=\"1\" stroke=\"#000000\" stroke-opacity=\"1\" stroke-width=\"3.2\"/>\n",
              "<circle clip-path=\"url(#clip632)\" cx=\"678.548\" cy=\"1129.76\" r=\"10.8\" fill=\"#add8e6\" fill-rule=\"evenodd\" fill-opacity=\"1\" stroke=\"#000000\" stroke-opacity=\"1\" stroke-width=\"3.2\"/>\n",
              "<circle clip-path=\"url(#clip632)\" cx=\"900.115\" cy=\"990.569\" r=\"10.8\" fill=\"#add8e6\" fill-rule=\"evenodd\" fill-opacity=\"1\" stroke=\"#000000\" stroke-opacity=\"1\" stroke-width=\"3.2\"/>\n",
              "<circle clip-path=\"url(#clip632)\" cx=\"1121.68\" cy=\"843.137\" r=\"10.8\" fill=\"#add8e6\" fill-rule=\"evenodd\" fill-opacity=\"1\" stroke=\"#000000\" stroke-opacity=\"1\" stroke-width=\"3.2\"/>\n",
              "<circle clip-path=\"url(#clip632)\" cx=\"1343.25\" cy=\"699.073\" r=\"10.8\" fill=\"#add8e6\" fill-rule=\"evenodd\" fill-opacity=\"1\" stroke=\"#000000\" stroke-opacity=\"1\" stroke-width=\"3.2\"/>\n",
              "<circle clip-path=\"url(#clip632)\" cx=\"1564.82\" cy=\"554.68\" r=\"10.8\" fill=\"#add8e6\" fill-rule=\"evenodd\" fill-opacity=\"1\" stroke=\"#000000\" stroke-opacity=\"1\" stroke-width=\"3.2\"/>\n",
              "<circle clip-path=\"url(#clip632)\" cx=\"1786.39\" cy=\"410.168\" r=\"10.8\" fill=\"#add8e6\" fill-rule=\"evenodd\" fill-opacity=\"1\" stroke=\"#000000\" stroke-opacity=\"1\" stroke-width=\"3.2\"/>\n",
              "<circle clip-path=\"url(#clip632)\" cx=\"2007.95\" cy=\"264.621\" r=\"10.8\" fill=\"#add8e6\" fill-rule=\"evenodd\" fill-opacity=\"1\" stroke=\"#000000\" stroke-opacity=\"1\" stroke-width=\"3.2\"/>\n",
              "<circle clip-path=\"url(#clip632)\" cx=\"2229.52\" cy=\"119.813\" r=\"10.8\" fill=\"#add8e6\" fill-rule=\"evenodd\" fill-opacity=\"1\" stroke=\"#000000\" stroke-opacity=\"1\" stroke-width=\"3.2\"/>\n",
              "<polyline clip-path=\"url(#clip632)\" style=\"stroke:#e26f46; stroke-linecap:round; stroke-linejoin:round; stroke-width:4; stroke-opacity:1; fill:none\" points=\"\n",
              "  175.59,1445.72 189.351,1436.88 316.598,1355.14 393.068,1306.02 457.722,1264.49 527.955,1219.38 592.704,1177.79 662.121,1133.2 742.547,1081.54 814.021,1035.63 \n",
              "  876.697,995.37 945.031,951.476 1013.77,907.322 1089.77,858.505 1162.08,812.056 1237.27,763.759 1300.56,723.104 1377.84,673.469 1448.62,628 1514,586.006 \n",
              "  1580.23,543.467 1654.45,495.793 1721.7,452.593 1798.7,403.131 1870,357.334 1940.29,312.184 2008.54,268.347 2078.5,223.408 2155.15,174.172 2266.5,102.649 \n",
              "  2289.34,87.9763 \n",
              "  \"/>\n",
              "</svg>\n"
            ]
          },
          "execution_count": 60,
          "metadata": {},
          "output_type": "execute_result"
        }
      ],
      "source": [
        "V=vandermonde(x_barra,y_barra,1)\n",
        "c_barra=regressão(x_barra,y_barra,1)\n",
        "reta_barra(x)=c_barra[1]+c_barra[2]*x\n",
        "scatter(x_barra, y_barra, c=:lightblue, ms=3, leg=false)\n",
        "plot!(reta_barra)"
      ]
    },
    {
      "cell_type": "code",
      "execution_count": null,
      "metadata": {
        "id": "IUm06LMKwm_C",
        "outputId": "dadef284-80d5-428f-86a1-b18cbf1eb4b9"
      },
      "outputs": [
        {
          "data": {
            "image/svg+xml": [
              "<?xml version=\"1.0\" encoding=\"utf-8\"?>\n",
              "<svg xmlns=\"http://www.w3.org/2000/svg\" xmlns:xlink=\"http://www.w3.org/1999/xlink\" width=\"600\" height=\"400\" viewBox=\"0 0 2400 1600\">\n",
              "<defs>\n",
              "  <clipPath id=\"clip670\">\n",
              "    <rect x=\"0\" y=\"0\" width=\"2400\" height=\"1600\"/>\n",
              "  </clipPath>\n",
              "</defs>\n",
              "<path clip-path=\"url(#clip670)\" d=\"\n",
              "M0 1600 L2400 1600 L2400 0 L0 0  Z\n",
              "  \" fill=\"#ffffff\" fill-rule=\"evenodd\" fill-opacity=\"1\"/>\n",
              "<defs>\n",
              "  <clipPath id=\"clip671\">\n",
              "    <rect x=\"480\" y=\"0\" width=\"1681\" height=\"1600\"/>\n",
              "  </clipPath>\n",
              "</defs>\n",
              "<path clip-path=\"url(#clip670)\" d=\"\n",
              "M199.283 1486.45 L2352.76 1486.45 L2352.76 47.2441 L199.283 47.2441  Z\n",
              "  \" fill=\"#ffffff\" fill-rule=\"evenodd\" fill-opacity=\"1\"/>\n",
              "<defs>\n",
              "  <clipPath id=\"clip672\">\n",
              "    <rect x=\"199\" y=\"47\" width=\"2154\" height=\"1440\"/>\n",
              "  </clipPath>\n",
              "</defs>\n",
              "<polyline clip-path=\"url(#clip672)\" style=\"stroke:#000000; stroke-linecap:round; stroke-linejoin:round; stroke-width:2; stroke-opacity:0.1; fill:none\" points=\"\n",
              "  530.682,1486.45 530.682,47.2441 \n",
              "  \"/>\n",
              "<polyline clip-path=\"url(#clip672)\" style=\"stroke:#000000; stroke-linecap:round; stroke-linejoin:round; stroke-width:2; stroke-opacity:0.1; fill:none\" points=\"\n",
              "  956.589,1486.45 956.589,47.2441 \n",
              "  \"/>\n",
              "<polyline clip-path=\"url(#clip672)\" style=\"stroke:#000000; stroke-linecap:round; stroke-linejoin:round; stroke-width:2; stroke-opacity:0.1; fill:none\" points=\"\n",
              "  1382.5,1486.45 1382.5,47.2441 \n",
              "  \"/>\n",
              "<polyline clip-path=\"url(#clip672)\" style=\"stroke:#000000; stroke-linecap:round; stroke-linejoin:round; stroke-width:2; stroke-opacity:0.1; fill:none\" points=\"\n",
              "  1808.4,1486.45 1808.4,47.2441 \n",
              "  \"/>\n",
              "<polyline clip-path=\"url(#clip672)\" style=\"stroke:#000000; stroke-linecap:round; stroke-linejoin:round; stroke-width:2; stroke-opacity:0.1; fill:none\" points=\"\n",
              "  2234.31,1486.45 2234.31,47.2441 \n",
              "  \"/>\n",
              "<polyline clip-path=\"url(#clip670)\" style=\"stroke:#000000; stroke-linecap:round; stroke-linejoin:round; stroke-width:4; stroke-opacity:1; fill:none\" points=\"\n",
              "  199.283,1486.45 2352.76,1486.45 \n",
              "  \"/>\n",
              "<polyline clip-path=\"url(#clip670)\" style=\"stroke:#000000; stroke-linecap:round; stroke-linejoin:round; stroke-width:4; stroke-opacity:1; fill:none\" points=\"\n",
              "  530.682,1486.45 530.682,1469.18 \n",
              "  \"/>\n",
              "<polyline clip-path=\"url(#clip670)\" style=\"stroke:#000000; stroke-linecap:round; stroke-linejoin:round; stroke-width:4; stroke-opacity:1; fill:none\" points=\"\n",
              "  956.589,1486.45 956.589,1469.18 \n",
              "  \"/>\n",
              "<polyline clip-path=\"url(#clip670)\" style=\"stroke:#000000; stroke-linecap:round; stroke-linejoin:round; stroke-width:4; stroke-opacity:1; fill:none\" points=\"\n",
              "  1382.5,1486.45 1382.5,1469.18 \n",
              "  \"/>\n",
              "<polyline clip-path=\"url(#clip670)\" style=\"stroke:#000000; stroke-linecap:round; stroke-linejoin:round; stroke-width:4; stroke-opacity:1; fill:none\" points=\"\n",
              "  1808.4,1486.45 1808.4,1469.18 \n",
              "  \"/>\n",
              "<polyline clip-path=\"url(#clip670)\" style=\"stroke:#000000; stroke-linecap:round; stroke-linejoin:round; stroke-width:4; stroke-opacity:1; fill:none\" points=\"\n",
              "  2234.31,1486.45 2234.31,1469.18 \n",
              "  \"/>\n",
              "<path clip-path=\"url(#clip670)\" d=\"M525.335 1543.18 L541.654 1543.18 L541.654 1547.12 L519.71 1547.12 L519.71 1543.18 Q522.372 1540.43 526.955 1535.8 Q531.561 1531.15 532.742 1529.81 Q534.987 1527.28 535.867 1525.55 Q536.77 1523.79 536.77 1522.1 Q536.77 1519.34 534.825 1517.61 Q532.904 1515.87 529.802 1515.87 Q527.603 1515.87 525.149 1516.63 Q522.719 1517.4 519.941 1518.95 L519.941 1514.23 Q522.765 1513.09 525.219 1512.51 Q527.672 1511.93 529.709 1511.93 Q535.08 1511.93 538.274 1514.62 Q541.469 1517.31 541.469 1521.8 Q541.469 1523.93 540.658 1525.85 Q539.871 1527.74 537.765 1530.34 Q537.186 1531.01 534.084 1534.23 Q530.983 1537.42 525.335 1543.18 Z\" fill=\"#000000\" fill-rule=\"evenodd\" fill-opacity=\"1\" /><path clip-path=\"url(#clip670)\" d=\"M959.598 1516.63 L947.793 1535.08 L959.598 1535.08 L959.598 1516.63 M958.371 1512.56 L964.251 1512.56 L964.251 1535.08 L969.182 1535.08 L969.182 1538.97 L964.251 1538.97 L964.251 1547.12 L959.598 1547.12 L959.598 1538.97 L943.997 1538.97 L943.997 1534.46 L958.371 1512.56 Z\" fill=\"#000000\" fill-rule=\"evenodd\" fill-opacity=\"1\" /><path clip-path=\"url(#clip670)\" d=\"M1382.9 1527.98 Q1379.75 1527.98 1377.9 1530.13 Q1376.07 1532.28 1376.07 1536.03 Q1376.07 1539.76 1377.9 1541.93 Q1379.75 1544.09 1382.9 1544.09 Q1386.05 1544.09 1387.88 1541.93 Q1389.73 1539.76 1389.73 1536.03 Q1389.73 1532.28 1387.88 1530.13 Q1386.05 1527.98 1382.9 1527.98 M1392.18 1513.32 L1392.18 1517.58 Q1390.42 1516.75 1388.62 1516.31 Q1386.84 1515.87 1385.08 1515.87 Q1380.45 1515.87 1377.99 1519 Q1375.56 1522.12 1375.22 1528.44 Q1376.58 1526.43 1378.64 1525.36 Q1380.7 1524.27 1383.18 1524.27 Q1388.39 1524.27 1391.4 1527.44 Q1394.43 1530.59 1394.43 1536.03 Q1394.43 1541.36 1391.28 1544.57 Q1388.13 1547.79 1382.9 1547.79 Q1376.91 1547.79 1373.73 1543.21 Q1370.56 1538.6 1370.56 1529.87 Q1370.56 1521.68 1374.45 1516.82 Q1378.34 1511.93 1384.89 1511.93 Q1386.65 1511.93 1388.43 1512.28 Q1390.24 1512.63 1392.18 1513.32 Z\" fill=\"#000000\" fill-rule=\"evenodd\" fill-opacity=\"1\" /><path clip-path=\"url(#clip670)\" d=\"M1808.4 1530.71 Q1805.07 1530.71 1803.15 1532.49 Q1801.25 1534.27 1801.25 1537.4 Q1801.25 1540.52 1803.15 1542.31 Q1805.07 1544.09 1808.4 1544.09 Q1811.74 1544.09 1813.66 1542.31 Q1815.58 1540.5 1815.58 1537.4 Q1815.58 1534.27 1813.66 1532.49 Q1811.76 1530.71 1808.4 1530.71 M1803.73 1528.72 Q1800.72 1527.98 1799.03 1525.92 Q1797.36 1523.86 1797.36 1520.89 Q1797.36 1516.75 1800.3 1514.34 Q1803.26 1511.93 1808.4 1511.93 Q1813.57 1511.93 1816.51 1514.34 Q1819.45 1516.75 1819.45 1520.89 Q1819.45 1523.86 1817.76 1525.92 Q1816.09 1527.98 1813.1 1528.72 Q1816.48 1529.5 1818.36 1531.8 Q1820.26 1534.09 1820.26 1537.4 Q1820.26 1542.42 1817.18 1545.11 Q1814.12 1547.79 1808.4 1547.79 Q1802.69 1547.79 1799.61 1545.11 Q1796.55 1542.42 1796.55 1537.4 Q1796.55 1534.09 1798.45 1531.8 Q1800.35 1529.5 1803.73 1528.72 M1802.01 1521.33 Q1802.01 1524.02 1803.68 1525.52 Q1805.37 1527.03 1808.4 1527.03 Q1811.41 1527.03 1813.1 1525.52 Q1814.82 1524.02 1814.82 1521.33 Q1814.82 1518.65 1813.1 1517.14 Q1811.41 1515.64 1808.4 1515.64 Q1805.37 1515.64 1803.68 1517.14 Q1802.01 1518.65 1802.01 1521.33 Z\" fill=\"#000000\" fill-rule=\"evenodd\" fill-opacity=\"1\" /><path clip-path=\"url(#clip670)\" d=\"M2209 1543.18 L2216.64 1543.18 L2216.64 1516.82 L2208.33 1518.49 L2208.33 1514.23 L2216.59 1512.56 L2221.27 1512.56 L2221.27 1543.18 L2228.91 1543.18 L2228.91 1547.12 L2209 1547.12 L2209 1543.18 Z\" fill=\"#000000\" fill-rule=\"evenodd\" fill-opacity=\"1\" /><path clip-path=\"url(#clip670)\" d=\"M2248.35 1515.64 Q2244.74 1515.64 2242.91 1519.2 Q2241.11 1522.75 2241.11 1529.87 Q2241.11 1536.98 2242.91 1540.55 Q2244.74 1544.09 2248.35 1544.09 Q2251.98 1544.09 2253.79 1540.55 Q2255.62 1536.98 2255.62 1529.87 Q2255.62 1522.75 2253.79 1519.2 Q2251.98 1515.64 2248.35 1515.64 M2248.35 1511.93 Q2254.16 1511.93 2257.22 1516.54 Q2260.29 1521.12 2260.29 1529.87 Q2260.29 1538.6 2257.22 1543.21 Q2254.16 1547.79 2248.35 1547.79 Q2242.54 1547.79 2239.46 1543.21 Q2236.41 1538.6 2236.41 1529.87 Q2236.41 1521.12 2239.46 1516.54 Q2242.54 1511.93 2248.35 1511.93 Z\" fill=\"#000000\" fill-rule=\"evenodd\" fill-opacity=\"1\" /><polyline clip-path=\"url(#clip672)\" style=\"stroke:#000000; stroke-linecap:round; stroke-linejoin:round; stroke-width:2; stroke-opacity:0.1; fill:none\" points=\"\n",
              "  199.283,1447.62 2352.76,1447.62 \n",
              "  \"/>\n",
              "<polyline clip-path=\"url(#clip672)\" style=\"stroke:#000000; stroke-linecap:round; stroke-linejoin:round; stroke-width:2; stroke-opacity:0.1; fill:none\" points=\"\n",
              "  199.283,1224.65 2352.76,1224.65 \n",
              "  \"/>\n",
              "<polyline clip-path=\"url(#clip672)\" style=\"stroke:#000000; stroke-linecap:round; stroke-linejoin:round; stroke-width:2; stroke-opacity:0.1; fill:none\" points=\"\n",
              "  199.283,1001.68 2352.76,1001.68 \n",
              "  \"/>\n",
              "<polyline clip-path=\"url(#clip672)\" style=\"stroke:#000000; stroke-linecap:round; stroke-linejoin:round; stroke-width:2; stroke-opacity:0.1; fill:none\" points=\"\n",
              "  199.283,778.703 2352.76,778.703 \n",
              "  \"/>\n",
              "<polyline clip-path=\"url(#clip672)\" style=\"stroke:#000000; stroke-linecap:round; stroke-linejoin:round; stroke-width:2; stroke-opacity:0.1; fill:none\" points=\"\n",
              "  199.283,555.73 2352.76,555.73 \n",
              "  \"/>\n",
              "<polyline clip-path=\"url(#clip672)\" style=\"stroke:#000000; stroke-linecap:round; stroke-linejoin:round; stroke-width:2; stroke-opacity:0.1; fill:none\" points=\"\n",
              "  199.283,332.757 2352.76,332.757 \n",
              "  \"/>\n",
              "<polyline clip-path=\"url(#clip672)\" style=\"stroke:#000000; stroke-linecap:round; stroke-linejoin:round; stroke-width:2; stroke-opacity:0.1; fill:none\" points=\"\n",
              "  199.283,109.783 2352.76,109.783 \n",
              "  \"/>\n",
              "<polyline clip-path=\"url(#clip670)\" style=\"stroke:#000000; stroke-linecap:round; stroke-linejoin:round; stroke-width:4; stroke-opacity:1; fill:none\" points=\"\n",
              "  199.283,1486.45 199.283,47.2441 \n",
              "  \"/>\n",
              "<polyline clip-path=\"url(#clip670)\" style=\"stroke:#000000; stroke-linecap:round; stroke-linejoin:round; stroke-width:4; stroke-opacity:1; fill:none\" points=\"\n",
              "  199.283,1447.62 225.125,1447.62 \n",
              "  \"/>\n",
              "<polyline clip-path=\"url(#clip670)\" style=\"stroke:#000000; stroke-linecap:round; stroke-linejoin:round; stroke-width:4; stroke-opacity:1; fill:none\" points=\"\n",
              "  199.283,1224.65 225.125,1224.65 \n",
              "  \"/>\n",
              "<polyline clip-path=\"url(#clip670)\" style=\"stroke:#000000; stroke-linecap:round; stroke-linejoin:round; stroke-width:4; stroke-opacity:1; fill:none\" points=\"\n",
              "  199.283,1001.68 225.125,1001.68 \n",
              "  \"/>\n",
              "<polyline clip-path=\"url(#clip670)\" style=\"stroke:#000000; stroke-linecap:round; stroke-linejoin:round; stroke-width:4; stroke-opacity:1; fill:none\" points=\"\n",
              "  199.283,778.703 225.125,778.703 \n",
              "  \"/>\n",
              "<polyline clip-path=\"url(#clip670)\" style=\"stroke:#000000; stroke-linecap:round; stroke-linejoin:round; stroke-width:4; stroke-opacity:1; fill:none\" points=\"\n",
              "  199.283,555.73 225.125,555.73 \n",
              "  \"/>\n",
              "<polyline clip-path=\"url(#clip670)\" style=\"stroke:#000000; stroke-linecap:round; stroke-linejoin:round; stroke-width:4; stroke-opacity:1; fill:none\" points=\"\n",
              "  199.283,332.757 225.125,332.757 \n",
              "  \"/>\n",
              "<polyline clip-path=\"url(#clip670)\" style=\"stroke:#000000; stroke-linecap:round; stroke-linejoin:round; stroke-width:4; stroke-opacity:1; fill:none\" points=\"\n",
              "  199.283,109.783 225.125,109.783 \n",
              "  \"/>\n",
              "<path clip-path=\"url(#clip670)\" d=\"M151.339 1433.42 Q147.728 1433.42 145.899 1436.99 Q144.093 1440.53 144.093 1447.66 Q144.093 1454.76 145.899 1458.33 Q147.728 1461.87 151.339 1461.87 Q154.973 1461.87 156.779 1458.33 Q158.607 1454.76 158.607 1447.66 Q158.607 1440.53 156.779 1436.99 Q154.973 1433.42 151.339 1433.42 M151.339 1429.72 Q157.149 1429.72 160.205 1434.32 Q163.283 1438.91 163.283 1447.66 Q163.283 1456.38 160.205 1460.99 Q157.149 1465.57 151.339 1465.57 Q145.529 1465.57 142.45 1460.99 Q139.394 1456.38 139.394 1447.66 Q139.394 1438.91 142.45 1434.32 Q145.529 1429.72 151.339 1429.72 Z\" fill=\"#000000\" fill-rule=\"evenodd\" fill-opacity=\"1\" /><path clip-path=\"url(#clip670)\" d=\"M85.0429 1237.99 L101.362 1237.99 L101.362 1241.93 L79.4179 1241.93 L79.4179 1237.99 Q82.0799 1235.24 86.6632 1230.61 Q91.2697 1225.96 92.4502 1224.62 Q94.6956 1222.09 95.5752 1220.36 Q96.478 1218.6 96.478 1216.91 Q96.478 1214.15 94.5336 1212.42 Q92.6123 1210.68 89.5104 1210.68 Q87.3114 1210.68 84.8577 1211.44 Q82.4271 1212.21 79.6494 1213.76 L79.6494 1209.04 Q82.4734 1207.9 84.9271 1207.32 Q87.3808 1206.75 89.4178 1206.75 Q94.7882 1206.75 97.9826 1209.43 Q101.177 1212.12 101.177 1216.61 Q101.177 1218.74 100.367 1220.66 Q99.5798 1222.56 97.4734 1225.15 Q96.8947 1225.82 93.7928 1229.04 Q90.691 1232.23 85.0429 1237.99 Z\" fill=\"#000000\" fill-rule=\"evenodd\" fill-opacity=\"1\" /><path clip-path=\"url(#clip670)\" d=\"M121.177 1210.45 Q117.566 1210.45 115.737 1214.01 Q113.932 1217.56 113.932 1224.68 Q113.932 1231.79 115.737 1235.36 Q117.566 1238.9 121.177 1238.9 Q124.811 1238.9 126.617 1235.36 Q128.445 1231.79 128.445 1224.68 Q128.445 1217.56 126.617 1214.01 Q124.811 1210.45 121.177 1210.45 M121.177 1206.75 Q126.987 1206.75 130.043 1211.35 Q133.121 1215.93 133.121 1224.68 Q133.121 1233.41 130.043 1238.02 Q126.987 1242.6 121.177 1242.6 Q115.367 1242.6 112.288 1238.02 Q109.233 1233.41 109.233 1224.68 Q109.233 1215.93 112.288 1211.35 Q115.367 1206.75 121.177 1206.75 Z\" fill=\"#000000\" fill-rule=\"evenodd\" fill-opacity=\"1\" /><path clip-path=\"url(#clip670)\" d=\"M151.339 1210.45 Q147.728 1210.45 145.899 1214.01 Q144.093 1217.56 144.093 1224.68 Q144.093 1231.79 145.899 1235.36 Q147.728 1238.9 151.339 1238.9 Q154.973 1238.9 156.779 1235.36 Q158.607 1231.79 158.607 1224.68 Q158.607 1217.56 156.779 1214.01 Q154.973 1210.45 151.339 1210.45 M151.339 1206.75 Q157.149 1206.75 160.205 1211.35 Q163.283 1215.93 163.283 1224.68 Q163.283 1233.41 160.205 1238.02 Q157.149 1242.6 151.339 1242.6 Q145.529 1242.6 142.45 1238.02 Q139.394 1233.41 139.394 1224.68 Q139.394 1215.93 142.45 1211.35 Q145.529 1206.75 151.339 1206.75 Z\" fill=\"#000000\" fill-rule=\"evenodd\" fill-opacity=\"1\" /><path clip-path=\"url(#clip670)\" d=\"M93.8623 988.471 L82.0568 1006.92 L93.8623 1006.92 L93.8623 988.471 M92.6354 984.397 L98.515 984.397 L98.515 1006.92 L103.446 1006.92 L103.446 1010.81 L98.515 1010.81 L98.515 1018.96 L93.8623 1018.96 L93.8623 1010.81 L78.2605 1010.81 L78.2605 1006.29 L92.6354 984.397 Z\" fill=\"#000000\" fill-rule=\"evenodd\" fill-opacity=\"1\" /><path clip-path=\"url(#clip670)\" d=\"M121.177 987.475 Q117.566 987.475 115.737 991.04 Q113.932 994.582 113.932 1001.71 Q113.932 1008.82 115.737 1012.38 Q117.566 1015.92 121.177 1015.92 Q124.811 1015.92 126.617 1012.38 Q128.445 1008.82 128.445 1001.71 Q128.445 994.582 126.617 991.04 Q124.811 987.475 121.177 987.475 M121.177 983.772 Q126.987 983.772 130.043 988.378 Q133.121 992.961 133.121 1001.71 Q133.121 1010.44 130.043 1015.04 Q126.987 1019.63 121.177 1019.63 Q115.367 1019.63 112.288 1015.04 Q109.233 1010.44 109.233 1001.71 Q109.233 992.961 112.288 988.378 Q115.367 983.772 121.177 983.772 Z\" fill=\"#000000\" fill-rule=\"evenodd\" fill-opacity=\"1\" /><path clip-path=\"url(#clip670)\" d=\"M151.339 987.475 Q147.728 987.475 145.899 991.04 Q144.093 994.582 144.093 1001.71 Q144.093 1008.82 145.899 1012.38 Q147.728 1015.92 151.339 1015.92 Q154.973 1015.92 156.779 1012.38 Q158.607 1008.82 158.607 1001.71 Q158.607 994.582 156.779 991.04 Q154.973 987.475 151.339 987.475 M151.339 983.772 Q157.149 983.772 160.205 988.378 Q163.283 992.961 163.283 1001.71 Q163.283 1010.44 160.205 1015.04 Q157.149 1019.63 151.339 1019.63 Q145.529 1019.63 142.45 1015.04 Q139.394 1010.44 139.394 1001.71 Q139.394 992.961 142.45 988.378 Q145.529 983.772 151.339 983.772 Z\" fill=\"#000000\" fill-rule=\"evenodd\" fill-opacity=\"1\" /><path clip-path=\"url(#clip670)\" d=\"M91.5938 776.84 Q88.4456 776.84 86.5938 778.993 Q84.7651 781.146 84.7651 784.895 Q84.7651 788.622 86.5938 790.798 Q88.4456 792.951 91.5938 792.951 Q94.7419 792.951 96.5706 790.798 Q98.4224 788.622 98.4224 784.895 Q98.4224 781.146 96.5706 778.993 Q94.7419 776.84 91.5938 776.84 M100.876 762.187 L100.876 766.447 Q99.1169 765.613 97.3113 765.173 Q95.5289 764.734 93.7697 764.734 Q89.1401 764.734 86.6864 767.859 Q84.2558 770.984 83.9086 777.303 Q85.2743 775.289 87.3345 774.224 Q89.3947 773.136 91.8715 773.136 Q97.0798 773.136 100.089 776.308 Q103.121 779.456 103.121 784.895 Q103.121 790.22 99.9733 793.437 Q96.8252 796.655 91.5938 796.655 Q85.5984 796.655 82.4271 792.071 Q79.2559 787.465 79.2559 778.738 Q79.2559 770.544 83.1447 765.683 Q87.0336 760.798 93.5845 760.798 Q95.3437 760.798 97.1261 761.146 Q98.9317 761.493 100.876 762.187 Z\" fill=\"#000000\" fill-rule=\"evenodd\" fill-opacity=\"1\" /><path clip-path=\"url(#clip670)\" d=\"M121.177 764.502 Q117.566 764.502 115.737 768.067 Q113.932 771.609 113.932 778.738 Q113.932 785.845 115.737 789.409 Q117.566 792.951 121.177 792.951 Q124.811 792.951 126.617 789.409 Q128.445 785.845 128.445 778.738 Q128.445 771.609 126.617 768.067 Q124.811 764.502 121.177 764.502 M121.177 760.798 Q126.987 760.798 130.043 765.405 Q133.121 769.988 133.121 778.738 Q133.121 787.465 130.043 792.071 Q126.987 796.655 121.177 796.655 Q115.367 796.655 112.288 792.071 Q109.233 787.465 109.233 778.738 Q109.233 769.988 112.288 765.405 Q115.367 760.798 121.177 760.798 Z\" fill=\"#000000\" fill-rule=\"evenodd\" fill-opacity=\"1\" /><path clip-path=\"url(#clip670)\" d=\"M151.339 764.502 Q147.728 764.502 145.899 768.067 Q144.093 771.609 144.093 778.738 Q144.093 785.845 145.899 789.409 Q147.728 792.951 151.339 792.951 Q154.973 792.951 156.779 789.409 Q158.607 785.845 158.607 778.738 Q158.607 771.609 156.779 768.067 Q154.973 764.502 151.339 764.502 M151.339 760.798 Q157.149 760.798 160.205 765.405 Q163.283 769.988 163.283 778.738 Q163.283 787.465 160.205 792.071 Q157.149 796.655 151.339 796.655 Q145.529 796.655 142.45 792.071 Q139.394 787.465 139.394 778.738 Q139.394 769.988 142.45 765.405 Q145.529 760.798 151.339 760.798 Z\" fill=\"#000000\" fill-rule=\"evenodd\" fill-opacity=\"1\" /><path clip-path=\"url(#clip670)\" d=\"M91.0151 556.598 Q87.6817 556.598 85.7605 558.381 Q83.8623 560.163 83.8623 563.288 Q83.8623 566.413 85.7605 568.195 Q87.6817 569.978 91.0151 569.978 Q94.3484 569.978 96.2697 568.195 Q98.1909 566.39 98.1909 563.288 Q98.1909 560.163 96.2697 558.381 Q94.3715 556.598 91.0151 556.598 M86.3392 554.607 Q83.3299 553.867 81.6401 551.806 Q79.9735 549.746 79.9735 546.783 Q79.9735 542.64 82.9133 540.232 Q85.8762 537.825 91.0151 537.825 Q96.1771 537.825 99.1169 540.232 Q102.057 542.64 102.057 546.783 Q102.057 549.746 100.367 551.806 Q98.7002 553.867 95.7141 554.607 Q99.0937 555.394 100.969 557.686 Q102.867 559.978 102.867 563.288 Q102.867 568.311 99.7882 570.996 Q96.7326 573.681 91.0151 573.681 Q85.2975 573.681 82.2188 570.996 Q79.1633 568.311 79.1633 563.288 Q79.1633 559.978 81.0614 557.686 Q82.9595 555.394 86.3392 554.607 M84.6262 547.223 Q84.6262 549.908 86.2929 551.413 Q87.9827 552.918 91.0151 552.918 Q94.0243 552.918 95.7141 551.413 Q97.4271 549.908 97.4271 547.223 Q97.4271 544.538 95.7141 543.033 Q94.0243 541.529 91.0151 541.529 Q87.9827 541.529 86.2929 543.033 Q84.6262 544.538 84.6262 547.223 Z\" fill=\"#000000\" fill-rule=\"evenodd\" fill-opacity=\"1\" /><path clip-path=\"url(#clip670)\" d=\"M121.177 541.529 Q117.566 541.529 115.737 545.094 Q113.932 548.635 113.932 555.765 Q113.932 562.871 115.737 566.436 Q117.566 569.978 121.177 569.978 Q124.811 569.978 126.617 566.436 Q128.445 562.871 128.445 555.765 Q128.445 548.635 126.617 545.094 Q124.811 541.529 121.177 541.529 M121.177 537.825 Q126.987 537.825 130.043 542.432 Q133.121 547.015 133.121 555.765 Q133.121 564.492 130.043 569.098 Q126.987 573.681 121.177 573.681 Q115.367 573.681 112.288 569.098 Q109.233 564.492 109.233 555.765 Q109.233 547.015 112.288 542.432 Q115.367 537.825 121.177 537.825 Z\" fill=\"#000000\" fill-rule=\"evenodd\" fill-opacity=\"1\" /><path clip-path=\"url(#clip670)\" d=\"M151.339 541.529 Q147.728 541.529 145.899 545.094 Q144.093 548.635 144.093 555.765 Q144.093 562.871 145.899 566.436 Q147.728 569.978 151.339 569.978 Q154.973 569.978 156.779 566.436 Q158.607 562.871 158.607 555.765 Q158.607 548.635 156.779 545.094 Q154.973 541.529 151.339 541.529 M151.339 537.825 Q157.149 537.825 160.205 542.432 Q163.283 547.015 163.283 555.765 Q163.283 564.492 160.205 569.098 Q157.149 573.681 151.339 573.681 Q145.529 573.681 142.45 569.098 Q139.394 564.492 139.394 555.765 Q139.394 547.015 142.45 542.432 Q145.529 537.825 151.339 537.825 Z\" fill=\"#000000\" fill-rule=\"evenodd\" fill-opacity=\"1\" /><path clip-path=\"url(#clip670)\" d=\"M51.6634 346.102 L59.3023 346.102 L59.3023 319.736 L50.9921 321.403 L50.9921 317.143 L59.256 315.477 L63.9319 315.477 L63.9319 346.102 L71.5707 346.102 L71.5707 350.037 L51.6634 350.037 L51.6634 346.102 Z\" fill=\"#000000\" fill-rule=\"evenodd\" fill-opacity=\"1\" /><path clip-path=\"url(#clip670)\" d=\"M91.0151 318.555 Q87.404 318.555 85.5753 322.12 Q83.7697 325.662 83.7697 332.791 Q83.7697 339.898 85.5753 343.463 Q87.404 347.004 91.0151 347.004 Q94.6493 347.004 96.4548 343.463 Q98.2835 339.898 98.2835 332.791 Q98.2835 325.662 96.4548 322.12 Q94.6493 318.555 91.0151 318.555 M91.0151 314.852 Q96.8252 314.852 99.8808 319.458 Q102.959 324.042 102.959 332.791 Q102.959 341.518 99.8808 346.125 Q96.8252 350.708 91.0151 350.708 Q85.2049 350.708 82.1262 346.125 Q79.0707 341.518 79.0707 332.791 Q79.0707 324.042 82.1262 319.458 Q85.2049 314.852 91.0151 314.852 Z\" fill=\"#000000\" fill-rule=\"evenodd\" fill-opacity=\"1\" /><path clip-path=\"url(#clip670)\" d=\"M121.177 318.555 Q117.566 318.555 115.737 322.12 Q113.932 325.662 113.932 332.791 Q113.932 339.898 115.737 343.463 Q117.566 347.004 121.177 347.004 Q124.811 347.004 126.617 343.463 Q128.445 339.898 128.445 332.791 Q128.445 325.662 126.617 322.12 Q124.811 318.555 121.177 318.555 M121.177 314.852 Q126.987 314.852 130.043 319.458 Q133.121 324.042 133.121 332.791 Q133.121 341.518 130.043 346.125 Q126.987 350.708 121.177 350.708 Q115.367 350.708 112.288 346.125 Q109.233 341.518 109.233 332.791 Q109.233 324.042 112.288 319.458 Q115.367 314.852 121.177 314.852 Z\" fill=\"#000000\" fill-rule=\"evenodd\" fill-opacity=\"1\" /><path clip-path=\"url(#clip670)\" d=\"M151.339 318.555 Q147.728 318.555 145.899 322.12 Q144.093 325.662 144.093 332.791 Q144.093 339.898 145.899 343.463 Q147.728 347.004 151.339 347.004 Q154.973 347.004 156.779 343.463 Q158.607 339.898 158.607 332.791 Q158.607 325.662 156.779 322.12 Q154.973 318.555 151.339 318.555 M151.339 314.852 Q157.149 314.852 160.205 319.458 Q163.283 324.042 163.283 332.791 Q163.283 341.518 160.205 346.125 Q157.149 350.708 151.339 350.708 Q145.529 350.708 142.45 346.125 Q139.394 341.518 139.394 332.791 Q139.394 324.042 142.45 319.458 Q145.529 314.852 151.339 314.852 Z\" fill=\"#000000\" fill-rule=\"evenodd\" fill-opacity=\"1\" /><path clip-path=\"url(#clip670)\" d=\"M51.6634 123.128 L59.3023 123.128 L59.3023 96.7626 L50.9921 98.4293 L50.9921 94.1701 L59.256 92.5034 L63.9319 92.5034 L63.9319 123.128 L71.5707 123.128 L71.5707 127.063 L51.6634 127.063 L51.6634 123.128 Z\" fill=\"#000000\" fill-rule=\"evenodd\" fill-opacity=\"1\" /><path clip-path=\"url(#clip670)\" d=\"M85.0429 123.128 L101.362 123.128 L101.362 127.063 L79.4179 127.063 L79.4179 123.128 Q82.0799 120.374 86.6632 115.744 Q91.2697 111.091 92.4502 109.749 Q94.6956 107.226 95.5752 105.489 Q96.478 103.73 96.478 102.04 Q96.478 99.2858 94.5336 97.5497 Q92.6123 95.8136 89.5104 95.8136 Q87.3114 95.8136 84.8577 96.5775 Q82.4271 97.3413 79.6494 98.8923 L79.6494 94.1701 Q82.4734 93.0358 84.9271 92.4571 Q87.3808 91.8784 89.4178 91.8784 Q94.7882 91.8784 97.9826 94.5636 Q101.177 97.2488 101.177 101.739 Q101.177 103.869 100.367 105.79 Q99.5798 107.689 97.4734 110.281 Q96.8947 110.952 93.7928 114.17 Q90.691 117.364 85.0429 123.128 Z\" fill=\"#000000\" fill-rule=\"evenodd\" fill-opacity=\"1\" /><path clip-path=\"url(#clip670)\" d=\"M121.177 95.5821 Q117.566 95.5821 115.737 99.1469 Q113.932 102.689 113.932 109.818 Q113.932 116.925 115.737 120.489 Q117.566 124.031 121.177 124.031 Q124.811 124.031 126.617 120.489 Q128.445 116.925 128.445 109.818 Q128.445 102.689 126.617 99.1469 Q124.811 95.5821 121.177 95.5821 M121.177 91.8784 Q126.987 91.8784 130.043 96.4849 Q133.121 101.068 133.121 109.818 Q133.121 118.545 130.043 123.151 Q126.987 127.735 121.177 127.735 Q115.367 127.735 112.288 123.151 Q109.233 118.545 109.233 109.818 Q109.233 101.068 112.288 96.4849 Q115.367 91.8784 121.177 91.8784 Z\" fill=\"#000000\" fill-rule=\"evenodd\" fill-opacity=\"1\" /><path clip-path=\"url(#clip670)\" d=\"M151.339 95.5821 Q147.728 95.5821 145.899 99.1469 Q144.093 102.689 144.093 109.818 Q144.093 116.925 145.899 120.489 Q147.728 124.031 151.339 124.031 Q154.973 124.031 156.779 120.489 Q158.607 116.925 158.607 109.818 Q158.607 102.689 156.779 99.1469 Q154.973 95.5821 151.339 95.5821 M151.339 91.8784 Q157.149 91.8784 160.205 96.4849 Q163.283 101.068 163.283 109.818 Q163.283 118.545 160.205 123.151 Q157.149 127.735 151.339 127.735 Q145.529 127.735 142.45 123.151 Q139.394 118.545 139.394 109.818 Q139.394 101.068 142.45 96.4849 Q145.529 91.8784 151.339 91.8784 Z\" fill=\"#000000\" fill-rule=\"evenodd\" fill-opacity=\"1\" /><circle clip-path=\"url(#clip672)\" cx=\"317.728\" cy=\"1445.22\" r=\"10.8\" fill=\"#add8e6\" fill-rule=\"evenodd\" fill-opacity=\"1\" stroke=\"#000000\" stroke-opacity=\"1\" stroke-width=\"3.2\"/>\n",
              "<circle clip-path=\"url(#clip672)\" cx=\"530.682\" cy=\"1443.14\" r=\"10.8\" fill=\"#add8e6\" fill-rule=\"evenodd\" fill-opacity=\"1\" stroke=\"#000000\" stroke-opacity=\"1\" stroke-width=\"3.2\"/>\n",
              "<circle clip-path=\"url(#clip672)\" cx=\"743.635\" cy=\"1438.68\" r=\"10.8\" fill=\"#add8e6\" fill-rule=\"evenodd\" fill-opacity=\"1\" stroke=\"#000000\" stroke-opacity=\"1\" stroke-width=\"3.2\"/>\n",
              "<circle clip-path=\"url(#clip672)\" cx=\"956.589\" cy=\"1429.77\" r=\"10.8\" fill=\"#add8e6\" fill-rule=\"evenodd\" fill-opacity=\"1\" stroke=\"#000000\" stroke-opacity=\"1\" stroke-width=\"3.2\"/>\n",
              "<circle clip-path=\"url(#clip672)\" cx=\"1169.54\" cy=\"1411.77\" r=\"10.8\" fill=\"#add8e6\" fill-rule=\"evenodd\" fill-opacity=\"1\" stroke=\"#000000\" stroke-opacity=\"1\" stroke-width=\"3.2\"/>\n",
              "<circle clip-path=\"url(#clip672)\" cx=\"1382.5\" cy=\"1376.25\" r=\"10.8\" fill=\"#add8e6\" fill-rule=\"evenodd\" fill-opacity=\"1\" stroke=\"#000000\" stroke-opacity=\"1\" stroke-width=\"3.2\"/>\n",
              "<circle clip-path=\"url(#clip672)\" cx=\"1595.45\" cy=\"1304.73\" r=\"10.8\" fill=\"#add8e6\" fill-rule=\"evenodd\" fill-opacity=\"1\" stroke=\"#000000\" stroke-opacity=\"1\" stroke-width=\"3.2\"/>\n",
              "<circle clip-path=\"url(#clip672)\" cx=\"1808.4\" cy=\"1162.18\" r=\"10.8\" fill=\"#add8e6\" fill-rule=\"evenodd\" fill-opacity=\"1\" stroke=\"#000000\" stroke-opacity=\"1\" stroke-width=\"3.2\"/>\n",
              "<circle clip-path=\"url(#clip672)\" cx=\"2021.36\" cy=\"876.742\" r=\"10.8\" fill=\"#add8e6\" fill-rule=\"evenodd\" fill-opacity=\"1\" stroke=\"#000000\" stroke-opacity=\"1\" stroke-width=\"3.2\"/>\n",
              "<circle clip-path=\"url(#clip672)\" cx=\"2234.31\" cy=\"305.956\" r=\"10.8\" fill=\"#add8e6\" fill-rule=\"evenodd\" fill-opacity=\"1\" stroke=\"#000000\" stroke-opacity=\"1\" stroke-width=\"3.2\"/>\n",
              "<polyline clip-path=\"url(#clip672)\" style=\"stroke:#e26f46; stroke-linecap:round; stroke-linejoin:round; stroke-width:4; stroke-opacity:1; fill:none\" points=\"\n",
              "  260.231,1445.72 273.457,1445.63 395.757,1444.67 469.254,1443.87 531.395,1443.04 598.897,1441.92 661.128,1440.65 727.847,1438.97 805.147,1436.51 873.842,1433.75 \n",
              "  934.081,1430.77 999.758,1426.78 1065.83,1421.81 1138.87,1414.94 1208.37,1406.7 1280.64,1395.93 1341.47,1384.69 1378.6,1376.66 1415.74,1367.61 1449.76,1358.3 \n",
              "  1483.77,1347.92 1515.19,1337.26 1546.61,1325.46 1578.43,1312.22 1610.26,1297.54 1645.93,1279.19 1681.59,1258.6 1713.91,1237.78 1746.23,1214.66 1764.74,1200.3 \n",
              "  1783.24,1185.05 1801.74,1168.86 1820.24,1151.68 1837.38,1134.82 1854.51,1117 1871.64,1098.17 1888.77,1078.27 1905.66,1057.54 1922.55,1035.64 1939.44,1012.52 \n",
              "  1956.33,988.093 1972.73,963.069 1989.12,936.683 2005.52,908.86 2021.92,879.521 2038.73,847.787 2055.54,814.279 2072.35,778.9 2089.16,741.545 2107.58,698.218 \n",
              "  2126,652.232 2135.21,628.192 2144.42,603.425 2153.63,577.909 2162.83,551.622 2176.21,512.014 2189.59,470.656 2202.97,427.469 2216.34,382.373 2229.72,335.284 \n",
              "  2243.1,286.113 2256.48,234.768 2269.85,181.154 2275.34,158.476 2280.83,135.392 2286.32,111.895 2291.81,87.9763 \n",
              "  \"/>\n",
              "</svg>\n"
            ]
          },
          "execution_count": 61,
          "metadata": {},
          "output_type": "execute_result"
        }
      ],
      "source": [
        "#y=2^x\n",
        "x=[1;2;3;4;5;6;7;8;9;10]\n",
        "y=[2;4;8;16;32;64;128;256;512;1024]\n",
        "ruido=rand(10)*0.2\n",
        "y=y+ruido\n",
        "\n",
        "# Dicionário (troca de variável) indo pro mundo barra\n",
        "x_barra=x\n",
        "y_barra=log.(y)\n",
        "\n",
        "#Regressão com grau = 1(reta) no Mundo barra\n",
        "V=vandermonde(x_barra,y_barra,1)\n",
        "c_barra=regressão(x_barra,y_barra,1)\n",
        "\n",
        "\n",
        "#Dicionário (troca de variável) voltando pro mundo original\n",
        "c1=exp(c_barra[1])\n",
        "c2=c_barra[2]\n",
        "exponencial(x)=c1*exp(c2*x) #modelo exponecial\n",
        "\n",
        "scatter(x, y, c=:lightblue, ms=3, leg=false)\n",
        "plot!(exponencial)"
      ]
    },
    {
      "cell_type": "code",
      "execution_count": null,
      "metadata": {
        "id": "3EezKmunwm_C",
        "outputId": "db6e1834-b5ff-4750-b622-9f805e8f2be4"
      },
      "outputs": [
        {
          "data": {
            "text/plain": [
              "10-element Vector{Float64}:\n",
              " 2.6207427337898492\n",
              " 1.9647647334690186\n",
              " 1.7601373189193061\n",
              " 1.8980865524548587\n",
              " 2.2050114132174397\n",
              " 1.645026343870026\n",
              " 1.4306479346270993\n",
              " 1.807123806333496\n",
              " 2.374038747124424\n",
              " 0.14736581703950624"
            ]
          },
          "execution_count": 62,
          "metadata": {},
          "output_type": "execute_result"
        }
      ],
      "source": [
        "3*rand(10)"
      ]
    },
    {
      "cell_type": "code",
      "execution_count": null,
      "metadata": {
        "id": "4as95vYcwm_K",
        "outputId": "58c17de2-9fc3-456f-f0c8-40e48461f126"
      },
      "outputs": [
        {
          "data": {
            "image/svg+xml": [
              "<?xml version=\"1.0\" encoding=\"utf-8\"?>\n",
              "<svg xmlns=\"http://www.w3.org/2000/svg\" xmlns:xlink=\"http://www.w3.org/1999/xlink\" width=\"600\" height=\"400\" viewBox=\"0 0 2400 1600\">\n",
              "<defs>\n",
              "  <clipPath id=\"clip710\">\n",
              "    <rect x=\"0\" y=\"0\" width=\"2400\" height=\"1600\"/>\n",
              "  </clipPath>\n",
              "</defs>\n",
              "<path clip-path=\"url(#clip710)\" d=\"\n",
              "M0 1600 L2400 1600 L2400 0 L0 0  Z\n",
              "  \" fill=\"#ffffff\" fill-rule=\"evenodd\" fill-opacity=\"1\"/>\n",
              "<defs>\n",
              "  <clipPath id=\"clip711\">\n",
              "    <rect x=\"480\" y=\"0\" width=\"1681\" height=\"1600\"/>\n",
              "  </clipPath>\n",
              "</defs>\n",
              "<path clip-path=\"url(#clip710)\" d=\"\n",
              "M112.177 1486.45 L2352.76 1486.45 L2352.76 47.2441 L112.177 47.2441  Z\n",
              "  \" fill=\"#ffffff\" fill-rule=\"evenodd\" fill-opacity=\"1\"/>\n",
              "<defs>\n",
              "  <clipPath id=\"clip712\">\n",
              "    <rect x=\"112\" y=\"47\" width=\"2242\" height=\"1440\"/>\n",
              "  </clipPath>\n",
              "</defs>\n",
              "<polyline clip-path=\"url(#clip712)\" style=\"stroke:#000000; stroke-linecap:round; stroke-linejoin:round; stroke-width:2; stroke-opacity:0.1; fill:none\" points=\"\n",
              "  410.451,1486.45 410.451,47.2441 \n",
              "  \"/>\n",
              "<polyline clip-path=\"url(#clip712)\" style=\"stroke:#000000; stroke-linecap:round; stroke-linejoin:round; stroke-width:2; stroke-opacity:0.1; fill:none\" points=\"\n",
              "  880.174,1486.45 880.174,47.2441 \n",
              "  \"/>\n",
              "<polyline clip-path=\"url(#clip712)\" style=\"stroke:#000000; stroke-linecap:round; stroke-linejoin:round; stroke-width:2; stroke-opacity:0.1; fill:none\" points=\"\n",
              "  1349.9,1486.45 1349.9,47.2441 \n",
              "  \"/>\n",
              "<polyline clip-path=\"url(#clip712)\" style=\"stroke:#000000; stroke-linecap:round; stroke-linejoin:round; stroke-width:2; stroke-opacity:0.1; fill:none\" points=\"\n",
              "  1819.62,1486.45 1819.62,47.2441 \n",
              "  \"/>\n",
              "<polyline clip-path=\"url(#clip712)\" style=\"stroke:#000000; stroke-linecap:round; stroke-linejoin:round; stroke-width:2; stroke-opacity:0.1; fill:none\" points=\"\n",
              "  2289.34,1486.45 2289.34,47.2441 \n",
              "  \"/>\n",
              "<polyline clip-path=\"url(#clip710)\" style=\"stroke:#000000; stroke-linecap:round; stroke-linejoin:round; stroke-width:4; stroke-opacity:1; fill:none\" points=\"\n",
              "  112.177,1486.45 2352.76,1486.45 \n",
              "  \"/>\n",
              "<polyline clip-path=\"url(#clip710)\" style=\"stroke:#000000; stroke-linecap:round; stroke-linejoin:round; stroke-width:4; stroke-opacity:1; fill:none\" points=\"\n",
              "  410.451,1486.45 410.451,1469.18 \n",
              "  \"/>\n",
              "<polyline clip-path=\"url(#clip710)\" style=\"stroke:#000000; stroke-linecap:round; stroke-linejoin:round; stroke-width:4; stroke-opacity:1; fill:none\" points=\"\n",
              "  880.174,1486.45 880.174,1469.18 \n",
              "  \"/>\n",
              "<polyline clip-path=\"url(#clip710)\" style=\"stroke:#000000; stroke-linecap:round; stroke-linejoin:round; stroke-width:4; stroke-opacity:1; fill:none\" points=\"\n",
              "  1349.9,1486.45 1349.9,1469.18 \n",
              "  \"/>\n",
              "<polyline clip-path=\"url(#clip710)\" style=\"stroke:#000000; stroke-linecap:round; stroke-linejoin:round; stroke-width:4; stroke-opacity:1; fill:none\" points=\"\n",
              "  1819.62,1486.45 1819.62,1469.18 \n",
              "  \"/>\n",
              "<polyline clip-path=\"url(#clip710)\" style=\"stroke:#000000; stroke-linecap:round; stroke-linejoin:round; stroke-width:4; stroke-opacity:1; fill:none\" points=\"\n",
              "  2289.34,1486.45 2289.34,1469.18 \n",
              "  \"/>\n",
              "<path clip-path=\"url(#clip710)\" d=\"M405.104 1543.18 L421.423 1543.18 L421.423 1547.12 L399.479 1547.12 L399.479 1543.18 Q402.141 1540.43 406.724 1535.8 Q411.331 1531.15 412.511 1529.81 Q414.757 1527.28 415.636 1525.55 Q416.539 1523.79 416.539 1522.1 Q416.539 1519.34 414.595 1517.61 Q412.673 1515.87 409.572 1515.87 Q407.373 1515.87 404.919 1516.63 Q402.488 1517.4 399.711 1518.95 L399.711 1514.23 Q402.535 1513.09 404.988 1512.51 Q407.442 1511.93 409.479 1511.93 Q414.849 1511.93 418.044 1514.62 Q421.238 1517.31 421.238 1521.8 Q421.238 1523.93 420.428 1525.85 Q419.641 1527.74 417.535 1530.34 Q416.956 1531.01 413.854 1534.23 Q410.752 1537.42 405.104 1543.18 Z\" fill=\"#000000\" fill-rule=\"evenodd\" fill-opacity=\"1\" /><path clip-path=\"url(#clip710)\" d=\"M883.184 1516.63 L871.378 1535.08 L883.184 1535.08 L883.184 1516.63 M881.957 1512.56 L887.836 1512.56 L887.836 1535.08 L892.767 1535.08 L892.767 1538.97 L887.836 1538.97 L887.836 1547.12 L883.184 1547.12 L883.184 1538.97 L867.582 1538.97 L867.582 1534.46 L881.957 1512.56 Z\" fill=\"#000000\" fill-rule=\"evenodd\" fill-opacity=\"1\" /><path clip-path=\"url(#clip710)\" d=\"M1350.3 1527.98 Q1347.15 1527.98 1345.3 1530.13 Q1343.47 1532.28 1343.47 1536.03 Q1343.47 1539.76 1345.3 1541.93 Q1347.15 1544.09 1350.3 1544.09 Q1353.45 1544.09 1355.28 1541.93 Q1357.13 1539.76 1357.13 1536.03 Q1357.13 1532.28 1355.28 1530.13 Q1353.45 1527.98 1350.3 1527.98 M1359.58 1513.32 L1359.58 1517.58 Q1357.83 1516.75 1356.02 1516.31 Q1354.24 1515.87 1352.48 1515.87 Q1347.85 1515.87 1345.4 1519 Q1342.96 1522.12 1342.62 1528.44 Q1343.98 1526.43 1346.04 1525.36 Q1348.1 1524.27 1350.58 1524.27 Q1355.79 1524.27 1358.8 1527.44 Q1361.83 1530.59 1361.83 1536.03 Q1361.83 1541.36 1358.68 1544.57 Q1355.53 1547.79 1350.3 1547.79 Q1344.31 1547.79 1341.14 1543.21 Q1337.96 1538.6 1337.96 1529.87 Q1337.96 1521.68 1341.85 1516.82 Q1345.74 1511.93 1352.29 1511.93 Q1354.05 1511.93 1355.83 1512.28 Q1357.64 1512.63 1359.58 1513.32 Z\" fill=\"#000000\" fill-rule=\"evenodd\" fill-opacity=\"1\" /><path clip-path=\"url(#clip710)\" d=\"M1819.62 1530.71 Q1816.29 1530.71 1814.37 1532.49 Q1812.47 1534.27 1812.47 1537.4 Q1812.47 1540.52 1814.37 1542.31 Q1816.29 1544.09 1819.62 1544.09 Q1822.95 1544.09 1824.87 1542.31 Q1826.8 1540.5 1826.8 1537.4 Q1826.8 1534.27 1824.87 1532.49 Q1822.98 1530.71 1819.62 1530.71 M1814.94 1528.72 Q1811.94 1527.98 1810.25 1525.92 Q1808.58 1523.86 1808.58 1520.89 Q1808.58 1516.75 1811.52 1514.34 Q1814.48 1511.93 1819.62 1511.93 Q1824.78 1511.93 1827.72 1514.34 Q1830.66 1516.75 1830.66 1520.89 Q1830.66 1523.86 1828.97 1525.92 Q1827.31 1527.98 1824.32 1528.72 Q1827.7 1529.5 1829.57 1531.8 Q1831.47 1534.09 1831.47 1537.4 Q1831.47 1542.42 1828.39 1545.11 Q1825.34 1547.79 1819.62 1547.79 Q1813.9 1547.79 1810.82 1545.11 Q1807.77 1542.42 1807.77 1537.4 Q1807.77 1534.09 1809.67 1531.8 Q1811.56 1529.5 1814.94 1528.72 M1813.23 1521.33 Q1813.23 1524.02 1814.9 1525.52 Q1816.59 1527.03 1819.62 1527.03 Q1822.63 1527.03 1824.32 1525.52 Q1826.03 1524.02 1826.03 1521.33 Q1826.03 1518.65 1824.32 1517.14 Q1822.63 1515.64 1819.62 1515.64 Q1816.59 1515.64 1814.9 1517.14 Q1813.23 1518.65 1813.23 1521.33 Z\" fill=\"#000000\" fill-rule=\"evenodd\" fill-opacity=\"1\" /><path clip-path=\"url(#clip710)\" d=\"M2264.03 1543.18 L2271.67 1543.18 L2271.67 1516.82 L2263.36 1518.49 L2263.36 1514.23 L2271.62 1512.56 L2276.3 1512.56 L2276.3 1543.18 L2283.94 1543.18 L2283.94 1547.12 L2264.03 1547.12 L2264.03 1543.18 Z\" fill=\"#000000\" fill-rule=\"evenodd\" fill-opacity=\"1\" /><path clip-path=\"url(#clip710)\" d=\"M2303.38 1515.64 Q2299.77 1515.64 2297.94 1519.2 Q2296.14 1522.75 2296.14 1529.87 Q2296.14 1536.98 2297.94 1540.55 Q2299.77 1544.09 2303.38 1544.09 Q2307.02 1544.09 2308.82 1540.55 Q2310.65 1536.98 2310.65 1529.87 Q2310.65 1522.75 2308.82 1519.2 Q2307.02 1515.64 2303.38 1515.64 M2303.38 1511.93 Q2309.19 1511.93 2312.25 1516.54 Q2315.33 1521.12 2315.33 1529.87 Q2315.33 1538.6 2312.25 1543.21 Q2309.19 1547.79 2303.38 1547.79 Q2297.57 1547.79 2294.49 1543.21 Q2291.44 1538.6 2291.44 1529.87 Q2291.44 1521.12 2294.49 1516.54 Q2297.57 1511.93 2303.38 1511.93 Z\" fill=\"#000000\" fill-rule=\"evenodd\" fill-opacity=\"1\" /><polyline clip-path=\"url(#clip712)\" style=\"stroke:#000000; stroke-linecap:round; stroke-linejoin:round; stroke-width:2; stroke-opacity:0.1; fill:none\" points=\"\n",
              "  112.177,1378.93 2352.76,1378.93 \n",
              "  \"/>\n",
              "<polyline clip-path=\"url(#clip712)\" style=\"stroke:#000000; stroke-linecap:round; stroke-linejoin:round; stroke-width:2; stroke-opacity:0.1; fill:none\" points=\"\n",
              "  112.177,1161.29 2352.76,1161.29 \n",
              "  \"/>\n",
              "<polyline clip-path=\"url(#clip712)\" style=\"stroke:#000000; stroke-linecap:round; stroke-linejoin:round; stroke-width:2; stroke-opacity:0.1; fill:none\" points=\"\n",
              "  112.177,943.641 2352.76,943.641 \n",
              "  \"/>\n",
              "<polyline clip-path=\"url(#clip712)\" style=\"stroke:#000000; stroke-linecap:round; stroke-linejoin:round; stroke-width:2; stroke-opacity:0.1; fill:none\" points=\"\n",
              "  112.177,725.996 2352.76,725.996 \n",
              "  \"/>\n",
              "<polyline clip-path=\"url(#clip712)\" style=\"stroke:#000000; stroke-linecap:round; stroke-linejoin:round; stroke-width:2; stroke-opacity:0.1; fill:none\" points=\"\n",
              "  112.177,508.351 2352.76,508.351 \n",
              "  \"/>\n",
              "<polyline clip-path=\"url(#clip712)\" style=\"stroke:#000000; stroke-linecap:round; stroke-linejoin:round; stroke-width:2; stroke-opacity:0.1; fill:none\" points=\"\n",
              "  112.177,290.706 2352.76,290.706 \n",
              "  \"/>\n",
              "<polyline clip-path=\"url(#clip712)\" style=\"stroke:#000000; stroke-linecap:round; stroke-linejoin:round; stroke-width:2; stroke-opacity:0.1; fill:none\" points=\"\n",
              "  112.177,73.0615 2352.76,73.0615 \n",
              "  \"/>\n",
              "<polyline clip-path=\"url(#clip710)\" style=\"stroke:#000000; stroke-linecap:round; stroke-linejoin:round; stroke-width:4; stroke-opacity:1; fill:none\" points=\"\n",
              "  112.177,1486.45 112.177,47.2441 \n",
              "  \"/>\n",
              "<polyline clip-path=\"url(#clip710)\" style=\"stroke:#000000; stroke-linecap:round; stroke-linejoin:round; stroke-width:4; stroke-opacity:1; fill:none\" points=\"\n",
              "  112.177,1378.93 139.064,1378.93 \n",
              "  \"/>\n",
              "<polyline clip-path=\"url(#clip710)\" style=\"stroke:#000000; stroke-linecap:round; stroke-linejoin:round; stroke-width:4; stroke-opacity:1; fill:none\" points=\"\n",
              "  112.177,1161.29 139.064,1161.29 \n",
              "  \"/>\n",
              "<polyline clip-path=\"url(#clip710)\" style=\"stroke:#000000; stroke-linecap:round; stroke-linejoin:round; stroke-width:4; stroke-opacity:1; fill:none\" points=\"\n",
              "  112.177,943.641 139.064,943.641 \n",
              "  \"/>\n",
              "<polyline clip-path=\"url(#clip710)\" style=\"stroke:#000000; stroke-linecap:round; stroke-linejoin:round; stroke-width:4; stroke-opacity:1; fill:none\" points=\"\n",
              "  112.177,725.996 139.064,725.996 \n",
              "  \"/>\n",
              "<polyline clip-path=\"url(#clip710)\" style=\"stroke:#000000; stroke-linecap:round; stroke-linejoin:round; stroke-width:4; stroke-opacity:1; fill:none\" points=\"\n",
              "  112.177,508.351 139.064,508.351 \n",
              "  \"/>\n",
              "<polyline clip-path=\"url(#clip710)\" style=\"stroke:#000000; stroke-linecap:round; stroke-linejoin:round; stroke-width:4; stroke-opacity:1; fill:none\" points=\"\n",
              "  112.177,290.706 139.064,290.706 \n",
              "  \"/>\n",
              "<polyline clip-path=\"url(#clip710)\" style=\"stroke:#000000; stroke-linecap:round; stroke-linejoin:round; stroke-width:4; stroke-opacity:1; fill:none\" points=\"\n",
              "  112.177,73.0615 139.064,73.0615 \n",
              "  \"/>\n",
              "<path clip-path=\"url(#clip710)\" d=\"M56.2699 1392.28 L63.9087 1392.28 L63.9087 1365.91 L55.5986 1367.58 L55.5986 1363.32 L63.8624 1361.65 L68.5383 1361.65 L68.5383 1392.28 L76.1772 1392.28 L76.1772 1396.21 L56.2699 1396.21 L56.2699 1392.28 Z\" fill=\"#000000\" fill-rule=\"evenodd\" fill-opacity=\"1\" /><path clip-path=\"url(#clip710)\" d=\"M59.8578 1174.63 L76.1772 1174.63 L76.1772 1178.57 L54.2328 1178.57 L54.2328 1174.63 Q56.8949 1171.88 61.4782 1167.25 Q66.0846 1162.59 67.2652 1161.25 Q69.5105 1158.73 70.3902 1156.99 Q71.2929 1155.23 71.2929 1153.54 Q71.2929 1150.79 69.3485 1149.05 Q67.4272 1147.32 64.3254 1147.32 Q62.1263 1147.32 59.6726 1148.08 Q57.2421 1148.84 54.4643 1150.39 L54.4643 1145.67 Q57.2884 1144.54 59.7421 1143.96 Q62.1958 1143.38 64.2328 1143.38 Q69.6031 1143.38 72.7976 1146.07 Q75.992 1148.75 75.992 1153.24 Q75.992 1155.37 75.1818 1157.29 Q74.3948 1159.19 72.2883 1161.78 Q71.7096 1162.45 68.6078 1165.67 Q65.5059 1168.87 59.8578 1174.63 Z\" fill=\"#000000\" fill-rule=\"evenodd\" fill-opacity=\"1\" /><path clip-path=\"url(#clip710)\" d=\"M69.0476 942.287 Q72.404 943.004 74.279 945.273 Q76.1772 947.541 76.1772 950.875 Q76.1772 955.99 72.6587 958.791 Q69.1402 961.592 62.6587 961.592 Q60.4828 961.592 58.168 961.152 Q55.8764 960.736 53.4227 959.879 L53.4227 955.365 Q55.3671 956.5 57.6819 957.078 Q59.9967 957.657 62.5198 957.657 Q66.918 957.657 69.2096 955.921 Q71.5244 954.185 71.5244 950.875 Q71.5244 947.819 69.3717 946.106 Q67.242 944.37 63.4226 944.37 L59.3949 944.37 L59.3949 940.528 L63.6078 940.528 Q67.0569 940.528 68.8855 939.162 Q70.7142 937.773 70.7142 935.18 Q70.7142 932.518 68.8161 931.106 Q66.9411 929.671 63.4226 929.671 Q61.5013 929.671 59.3023 930.088 Q57.1032 930.504 54.4643 931.384 L54.4643 927.217 Q57.1264 926.477 59.4412 926.106 Q61.7791 925.736 63.8393 925.736 Q69.1633 925.736 72.2652 928.167 Q75.367 930.574 75.367 934.694 Q75.367 937.565 73.7235 939.555 Q72.08 941.523 69.0476 942.287 Z\" fill=\"#000000\" fill-rule=\"evenodd\" fill-opacity=\"1\" /><path clip-path=\"url(#clip710)\" d=\"M66.5939 712.79 L54.7884 731.239 L66.5939 731.239 L66.5939 712.79 M65.367 708.716 L71.2466 708.716 L71.2466 731.239 L76.1772 731.239 L76.1772 735.128 L71.2466 735.128 L71.2466 743.276 L66.5939 743.276 L66.5939 735.128 L50.9921 735.128 L50.9921 730.614 L65.367 708.716 Z\" fill=\"#000000\" fill-rule=\"evenodd\" fill-opacity=\"1\" /><path clip-path=\"url(#clip710)\" d=\"M55.2745 491.071 L73.6309 491.071 L73.6309 495.006 L59.5569 495.006 L59.5569 503.479 Q60.5754 503.131 61.5939 502.969 Q62.6124 502.784 63.6309 502.784 Q69.418 502.784 72.7976 505.955 Q76.1772 509.127 76.1772 514.543 Q76.1772 520.122 72.705 523.224 Q69.2328 526.303 62.9134 526.303 Q60.7374 526.303 58.4689 525.932 Q56.2236 525.562 53.8162 524.821 L53.8162 520.122 Q55.8995 521.256 58.1217 521.812 Q60.3439 522.367 62.8208 522.367 Q66.8254 522.367 69.1633 520.261 Q71.5013 518.154 71.5013 514.543 Q71.5013 510.932 69.1633 508.826 Q66.8254 506.719 62.8208 506.719 Q60.9458 506.719 59.0708 507.136 Q57.2189 507.553 55.2745 508.432 L55.2745 491.071 Z\" fill=\"#000000\" fill-rule=\"evenodd\" fill-opacity=\"1\" /><path clip-path=\"url(#clip710)\" d=\"M64.6495 288.843 Q61.5013 288.843 59.6495 290.996 Q57.8208 293.148 57.8208 296.898 Q57.8208 300.625 59.6495 302.801 Q61.5013 304.954 64.6495 304.954 Q67.7976 304.954 69.6263 302.801 Q71.4781 300.625 71.4781 296.898 Q71.4781 293.148 69.6263 290.996 Q67.7976 288.843 64.6495 288.843 M73.9318 274.19 L73.9318 278.449 Q72.1726 277.616 70.367 277.176 Q68.5846 276.737 66.8254 276.737 Q62.1958 276.737 59.7421 279.861 Q57.3115 282.986 56.9643 289.306 Q58.33 287.292 60.3902 286.227 Q62.4504 285.139 64.9272 285.139 Q70.1355 285.139 73.1448 288.311 Q76.1772 291.459 76.1772 296.898 Q76.1772 302.222 73.029 305.44 Q69.8809 308.658 64.6495 308.658 Q58.6541 308.658 55.4828 304.074 Q52.3116 299.468 52.3116 290.741 Q52.3116 282.547 56.2004 277.686 Q60.0893 272.801 66.6402 272.801 Q68.3994 272.801 70.1818 273.149 Q71.9874 273.496 73.9318 274.19 Z\" fill=\"#000000\" fill-rule=\"evenodd\" fill-opacity=\"1\" /><path clip-path=\"url(#clip710)\" d=\"M53.9551 55.7815 L76.1772 55.7815 L76.1772 57.7722 L63.6309 90.3415 L58.7467 90.3415 L70.5522 59.7166 L53.9551 59.7166 L53.9551 55.7815 Z\" fill=\"#000000\" fill-rule=\"evenodd\" fill-opacity=\"1\" /><circle clip-path=\"url(#clip712)\" cx=\"175.59\" cy=\"1445.72\" r=\"10.8\" fill=\"#add8e6\" fill-rule=\"evenodd\" fill-opacity=\"1\" stroke=\"#000000\" stroke-opacity=\"1\" stroke-width=\"3.2\"/>\n",
              "<circle clip-path=\"url(#clip712)\" cx=\"410.451\" cy=\"1294.86\" r=\"10.8\" fill=\"#add8e6\" fill-rule=\"evenodd\" fill-opacity=\"1\" stroke=\"#000000\" stroke-opacity=\"1\" stroke-width=\"3.2\"/>\n",
              "<circle clip-path=\"url(#clip712)\" cx=\"645.313\" cy=\"1144\" r=\"10.8\" fill=\"#add8e6\" fill-rule=\"evenodd\" fill-opacity=\"1\" stroke=\"#000000\" stroke-opacity=\"1\" stroke-width=\"3.2\"/>\n",
              "<circle clip-path=\"url(#clip712)\" cx=\"880.174\" cy=\"993.136\" r=\"10.8\" fill=\"#add8e6\" fill-rule=\"evenodd\" fill-opacity=\"1\" stroke=\"#000000\" stroke-opacity=\"1\" stroke-width=\"3.2\"/>\n",
              "<circle clip-path=\"url(#clip712)\" cx=\"1115.04\" cy=\"842.276\" r=\"10.8\" fill=\"#add8e6\" fill-rule=\"evenodd\" fill-opacity=\"1\" stroke=\"#000000\" stroke-opacity=\"1\" stroke-width=\"3.2\"/>\n",
              "<circle clip-path=\"url(#clip712)\" cx=\"1349.9\" cy=\"691.416\" r=\"10.8\" fill=\"#add8e6\" fill-rule=\"evenodd\" fill-opacity=\"1\" stroke=\"#000000\" stroke-opacity=\"1\" stroke-width=\"3.2\"/>\n",
              "<circle clip-path=\"url(#clip712)\" cx=\"1584.76\" cy=\"540.556\" r=\"10.8\" fill=\"#add8e6\" fill-rule=\"evenodd\" fill-opacity=\"1\" stroke=\"#000000\" stroke-opacity=\"1\" stroke-width=\"3.2\"/>\n",
              "<circle clip-path=\"url(#clip712)\" cx=\"1819.62\" cy=\"389.696\" r=\"10.8\" fill=\"#add8e6\" fill-rule=\"evenodd\" fill-opacity=\"1\" stroke=\"#000000\" stroke-opacity=\"1\" stroke-width=\"3.2\"/>\n",
              "<circle clip-path=\"url(#clip712)\" cx=\"2054.48\" cy=\"222.464\" r=\"10.8\" fill=\"#add8e6\" fill-rule=\"evenodd\" fill-opacity=\"1\" stroke=\"#000000\" stroke-opacity=\"1\" stroke-width=\"3.2\"/>\n",
              "<circle clip-path=\"url(#clip712)\" cx=\"2289.34\" cy=\"87.9763\" r=\"10.8\" fill=\"#add8e6\" fill-rule=\"evenodd\" fill-opacity=\"1\" stroke=\"#000000\" stroke-opacity=\"1\" stroke-width=\"3.2\"/>\n",
              "</svg>\n"
            ]
          },
          "execution_count": 63,
          "metadata": {},
          "output_type": "execute_result"
        }
      ],
      "source": [
        "#y=2^x\n",
        "x=[1;2;3;4;5;6;7;8;9;10]\n",
        "y=[2;4;8;16;32;64;128;256;512+40;1024]\n",
        "#ruido=randn(10)*10\n",
        "#y=y+ruido\n",
        "\n",
        "# Dicionário (troca de variável) indo pro mundo barra\n",
        "x_barra=x\n",
        "y_barra=log.(y)\n",
        "\n",
        "scatter(x_barra, y_barra, c=:lightblue, ms=3, leg=false)"
      ]
    },
    {
      "cell_type": "code",
      "execution_count": null,
      "metadata": {
        "id": "Bp-fFCn0wm_L",
        "outputId": "6e525bc8-2e4d-4733-8156-927a2e05e5ac"
      },
      "outputs": [
        {
          "data": {
            "image/svg+xml": [
              "<?xml version=\"1.0\" encoding=\"utf-8\"?>\n",
              "<svg xmlns=\"http://www.w3.org/2000/svg\" xmlns:xlink=\"http://www.w3.org/1999/xlink\" width=\"600\" height=\"400\" viewBox=\"0 0 2400 1600\">\n",
              "<defs>\n",
              "  <clipPath id=\"clip750\">\n",
              "    <rect x=\"0\" y=\"0\" width=\"2400\" height=\"1600\"/>\n",
              "  </clipPath>\n",
              "</defs>\n",
              "<path clip-path=\"url(#clip750)\" d=\"\n",
              "M0 1600 L2400 1600 L2400 0 L0 0  Z\n",
              "  \" fill=\"#ffffff\" fill-rule=\"evenodd\" fill-opacity=\"1\"/>\n",
              "<defs>\n",
              "  <clipPath id=\"clip751\">\n",
              "    <rect x=\"480\" y=\"0\" width=\"1681\" height=\"1600\"/>\n",
              "  </clipPath>\n",
              "</defs>\n",
              "<path clip-path=\"url(#clip750)\" d=\"\n",
              "M199.283 1486.45 L2352.76 1486.45 L2352.76 47.2441 L199.283 47.2441  Z\n",
              "  \" fill=\"#ffffff\" fill-rule=\"evenodd\" fill-opacity=\"1\"/>\n",
              "<defs>\n",
              "  <clipPath id=\"clip752\">\n",
              "    <rect x=\"199\" y=\"47\" width=\"2154\" height=\"1440\"/>\n",
              "  </clipPath>\n",
              "</defs>\n",
              "<polyline clip-path=\"url(#clip752)\" style=\"stroke:#000000; stroke-linecap:round; stroke-linejoin:round; stroke-width:2; stroke-opacity:0.1; fill:none\" points=\"\n",
              "  485.961,1486.45 485.961,47.2441 \n",
              "  \"/>\n",
              "<polyline clip-path=\"url(#clip752)\" style=\"stroke:#000000; stroke-linecap:round; stroke-linejoin:round; stroke-width:2; stroke-opacity:0.1; fill:none\" points=\"\n",
              "  937.423,1486.45 937.423,47.2441 \n",
              "  \"/>\n",
              "<polyline clip-path=\"url(#clip752)\" style=\"stroke:#000000; stroke-linecap:round; stroke-linejoin:round; stroke-width:2; stroke-opacity:0.1; fill:none\" points=\"\n",
              "  1388.88,1486.45 1388.88,47.2441 \n",
              "  \"/>\n",
              "<polyline clip-path=\"url(#clip752)\" style=\"stroke:#000000; stroke-linecap:round; stroke-linejoin:round; stroke-width:2; stroke-opacity:0.1; fill:none\" points=\"\n",
              "  1840.35,1486.45 1840.35,47.2441 \n",
              "  \"/>\n",
              "<polyline clip-path=\"url(#clip752)\" style=\"stroke:#000000; stroke-linecap:round; stroke-linejoin:round; stroke-width:2; stroke-opacity:0.1; fill:none\" points=\"\n",
              "  2291.81,1486.45 2291.81,47.2441 \n",
              "  \"/>\n",
              "<polyline clip-path=\"url(#clip750)\" style=\"stroke:#000000; stroke-linecap:round; stroke-linejoin:round; stroke-width:4; stroke-opacity:1; fill:none\" points=\"\n",
              "  199.283,1486.45 2352.76,1486.45 \n",
              "  \"/>\n",
              "<polyline clip-path=\"url(#clip750)\" style=\"stroke:#000000; stroke-linecap:round; stroke-linejoin:round; stroke-width:4; stroke-opacity:1; fill:none\" points=\"\n",
              "  485.961,1486.45 485.961,1469.18 \n",
              "  \"/>\n",
              "<polyline clip-path=\"url(#clip750)\" style=\"stroke:#000000; stroke-linecap:round; stroke-linejoin:round; stroke-width:4; stroke-opacity:1; fill:none\" points=\"\n",
              "  937.423,1486.45 937.423,1469.18 \n",
              "  \"/>\n",
              "<polyline clip-path=\"url(#clip750)\" style=\"stroke:#000000; stroke-linecap:round; stroke-linejoin:round; stroke-width:4; stroke-opacity:1; fill:none\" points=\"\n",
              "  1388.88,1486.45 1388.88,1469.18 \n",
              "  \"/>\n",
              "<polyline clip-path=\"url(#clip750)\" style=\"stroke:#000000; stroke-linecap:round; stroke-linejoin:round; stroke-width:4; stroke-opacity:1; fill:none\" points=\"\n",
              "  1840.35,1486.45 1840.35,1469.18 \n",
              "  \"/>\n",
              "<polyline clip-path=\"url(#clip750)\" style=\"stroke:#000000; stroke-linecap:round; stroke-linejoin:round; stroke-width:4; stroke-opacity:1; fill:none\" points=\"\n",
              "  2291.81,1486.45 2291.81,1469.18 \n",
              "  \"/>\n",
              "<path clip-path=\"url(#clip750)\" d=\"M480.614 1543.18 L496.934 1543.18 L496.934 1547.12 L474.989 1547.12 L474.989 1543.18 Q477.651 1540.43 482.235 1535.8 Q486.841 1531.15 488.022 1529.81 Q490.267 1527.28 491.147 1525.55 Q492.049 1523.79 492.049 1522.1 Q492.049 1519.34 490.105 1517.61 Q488.184 1515.87 485.082 1515.87 Q482.883 1515.87 480.429 1516.63 Q477.999 1517.4 475.221 1518.95 L475.221 1514.23 Q478.045 1513.09 480.498 1512.51 Q482.952 1511.93 484.989 1511.93 Q490.36 1511.93 493.554 1514.62 Q496.748 1517.31 496.748 1521.8 Q496.748 1523.93 495.938 1525.85 Q495.151 1527.74 493.045 1530.34 Q492.466 1531.01 489.364 1534.23 Q486.262 1537.42 480.614 1543.18 Z\" fill=\"#000000\" fill-rule=\"evenodd\" fill-opacity=\"1\" /><path clip-path=\"url(#clip750)\" d=\"M940.432 1516.63 L928.627 1535.08 L940.432 1535.08 L940.432 1516.63 M939.206 1512.56 L945.085 1512.56 L945.085 1535.08 L950.016 1535.08 L950.016 1538.97 L945.085 1538.97 L945.085 1547.12 L940.432 1547.12 L940.432 1538.97 L924.831 1538.97 L924.831 1534.46 L939.206 1512.56 Z\" fill=\"#000000\" fill-rule=\"evenodd\" fill-opacity=\"1\" /><path clip-path=\"url(#clip750)\" d=\"M1389.29 1527.98 Q1386.14 1527.98 1384.29 1530.13 Q1382.46 1532.28 1382.46 1536.03 Q1382.46 1539.76 1384.29 1541.93 Q1386.14 1544.09 1389.29 1544.09 Q1392.44 1544.09 1394.27 1541.93 Q1396.12 1539.76 1396.12 1536.03 Q1396.12 1532.28 1394.27 1530.13 Q1392.44 1527.98 1389.29 1527.98 M1398.57 1513.32 L1398.57 1517.58 Q1396.81 1516.75 1395.01 1516.31 Q1393.23 1515.87 1391.47 1515.87 Q1386.84 1515.87 1384.38 1519 Q1381.95 1522.12 1381.6 1528.44 Q1382.97 1526.43 1385.03 1525.36 Q1387.09 1524.27 1389.57 1524.27 Q1394.78 1524.27 1397.79 1527.44 Q1400.82 1530.59 1400.82 1536.03 Q1400.82 1541.36 1397.67 1544.57 Q1394.52 1547.79 1389.29 1547.79 Q1383.29 1547.79 1380.12 1543.21 Q1376.95 1538.6 1376.95 1529.87 Q1376.95 1521.68 1380.84 1516.82 Q1384.73 1511.93 1391.28 1511.93 Q1393.04 1511.93 1394.82 1512.28 Q1396.63 1512.63 1398.57 1513.32 Z\" fill=\"#000000\" fill-rule=\"evenodd\" fill-opacity=\"1\" /><path clip-path=\"url(#clip750)\" d=\"M1840.35 1530.71 Q1837.01 1530.71 1835.09 1532.49 Q1833.19 1534.27 1833.19 1537.4 Q1833.19 1540.52 1835.09 1542.31 Q1837.01 1544.09 1840.35 1544.09 Q1843.68 1544.09 1845.6 1542.31 Q1847.52 1540.5 1847.52 1537.4 Q1847.52 1534.27 1845.6 1532.49 Q1843.7 1530.71 1840.35 1530.71 M1835.67 1528.72 Q1832.66 1527.98 1830.97 1525.92 Q1829.31 1523.86 1829.31 1520.89 Q1829.31 1516.75 1832.24 1514.34 Q1835.21 1511.93 1840.35 1511.93 Q1845.51 1511.93 1848.45 1514.34 Q1851.39 1516.75 1851.39 1520.89 Q1851.39 1523.86 1849.7 1525.92 Q1848.03 1527.98 1845.05 1528.72 Q1848.43 1529.5 1850.3 1531.8 Q1852.2 1534.09 1852.2 1537.4 Q1852.2 1542.42 1849.12 1545.11 Q1846.06 1547.79 1840.35 1547.79 Q1834.63 1547.79 1831.55 1545.11 Q1828.49 1542.42 1828.49 1537.4 Q1828.49 1534.09 1830.39 1531.8 Q1832.29 1529.5 1835.67 1528.72 M1833.96 1521.33 Q1833.96 1524.02 1835.62 1525.52 Q1837.31 1527.03 1840.35 1527.03 Q1843.36 1527.03 1845.05 1525.52 Q1846.76 1524.02 1846.76 1521.33 Q1846.76 1518.65 1845.05 1517.14 Q1843.36 1515.64 1840.35 1515.64 Q1837.31 1515.64 1835.62 1517.14 Q1833.96 1518.65 1833.96 1521.33 Z\" fill=\"#000000\" fill-rule=\"evenodd\" fill-opacity=\"1\" /><path clip-path=\"url(#clip750)\" d=\"M2266.5 1543.18 L2274.14 1543.18 L2274.14 1516.82 L2265.82 1518.49 L2265.82 1514.23 L2274.09 1512.56 L2278.76 1512.56 L2278.76 1543.18 L2286.4 1543.18 L2286.4 1547.12 L2266.5 1547.12 L2266.5 1543.18 Z\" fill=\"#000000\" fill-rule=\"evenodd\" fill-opacity=\"1\" /><path clip-path=\"url(#clip750)\" d=\"M2305.85 1515.64 Q2302.24 1515.64 2300.41 1519.2 Q2298.6 1522.75 2298.6 1529.87 Q2298.6 1536.98 2300.41 1540.55 Q2302.24 1544.09 2305.85 1544.09 Q2309.48 1544.09 2311.29 1540.55 Q2313.12 1536.98 2313.12 1529.87 Q2313.12 1522.75 2311.29 1519.2 Q2309.48 1515.64 2305.85 1515.64 M2305.85 1511.93 Q2311.66 1511.93 2314.71 1516.54 Q2317.79 1521.12 2317.79 1529.87 Q2317.79 1538.6 2314.71 1543.21 Q2311.66 1547.79 2305.85 1547.79 Q2300.04 1547.79 2296.96 1543.21 Q2293.9 1538.6 2293.9 1529.87 Q2293.9 1521.12 2296.96 1516.54 Q2300.04 1511.93 2305.85 1511.93 Z\" fill=\"#000000\" fill-rule=\"evenodd\" fill-opacity=\"1\" /><polyline clip-path=\"url(#clip752)\" style=\"stroke:#000000; stroke-linecap:round; stroke-linejoin:round; stroke-width:2; stroke-opacity:0.1; fill:none\" points=\"\n",
              "  199.283,1448.37 2352.76,1448.37 \n",
              "  \"/>\n",
              "<polyline clip-path=\"url(#clip752)\" style=\"stroke:#000000; stroke-linecap:round; stroke-linejoin:round; stroke-width:2; stroke-opacity:0.1; fill:none\" points=\"\n",
              "  199.283,1116.24 2352.76,1116.24 \n",
              "  \"/>\n",
              "<polyline clip-path=\"url(#clip752)\" style=\"stroke:#000000; stroke-linecap:round; stroke-linejoin:round; stroke-width:2; stroke-opacity:0.1; fill:none\" points=\"\n",
              "  199.283,784.117 2352.76,784.117 \n",
              "  \"/>\n",
              "<polyline clip-path=\"url(#clip752)\" style=\"stroke:#000000; stroke-linecap:round; stroke-linejoin:round; stroke-width:2; stroke-opacity:0.1; fill:none\" points=\"\n",
              "  199.283,451.989 2352.76,451.989 \n",
              "  \"/>\n",
              "<polyline clip-path=\"url(#clip752)\" style=\"stroke:#000000; stroke-linecap:round; stroke-linejoin:round; stroke-width:2; stroke-opacity:0.1; fill:none\" points=\"\n",
              "  199.283,119.861 2352.76,119.861 \n",
              "  \"/>\n",
              "<polyline clip-path=\"url(#clip750)\" style=\"stroke:#000000; stroke-linecap:round; stroke-linejoin:round; stroke-width:4; stroke-opacity:1; fill:none\" points=\"\n",
              "  199.283,1486.45 199.283,47.2441 \n",
              "  \"/>\n",
              "<polyline clip-path=\"url(#clip750)\" style=\"stroke:#000000; stroke-linecap:round; stroke-linejoin:round; stroke-width:4; stroke-opacity:1; fill:none\" points=\"\n",
              "  199.283,1448.37 225.125,1448.37 \n",
              "  \"/>\n",
              "<polyline clip-path=\"url(#clip750)\" style=\"stroke:#000000; stroke-linecap:round; stroke-linejoin:round; stroke-width:4; stroke-opacity:1; fill:none\" points=\"\n",
              "  199.283,1116.24 225.125,1116.24 \n",
              "  \"/>\n",
              "<polyline clip-path=\"url(#clip750)\" style=\"stroke:#000000; stroke-linecap:round; stroke-linejoin:round; stroke-width:4; stroke-opacity:1; fill:none\" points=\"\n",
              "  199.283,784.117 225.125,784.117 \n",
              "  \"/>\n",
              "<polyline clip-path=\"url(#clip750)\" style=\"stroke:#000000; stroke-linecap:round; stroke-linejoin:round; stroke-width:4; stroke-opacity:1; fill:none\" points=\"\n",
              "  199.283,451.989 225.125,451.989 \n",
              "  \"/>\n",
              "<polyline clip-path=\"url(#clip750)\" style=\"stroke:#000000; stroke-linecap:round; stroke-linejoin:round; stroke-width:4; stroke-opacity:1; fill:none\" points=\"\n",
              "  199.283,119.861 225.125,119.861 \n",
              "  \"/>\n",
              "<path clip-path=\"url(#clip750)\" d=\"M151.339 1434.17 Q147.728 1434.17 145.899 1437.74 Q144.093 1441.28 144.093 1448.41 Q144.093 1455.51 145.899 1459.08 Q147.728 1462.62 151.339 1462.62 Q154.973 1462.62 156.779 1459.08 Q158.607 1455.51 158.607 1448.41 Q158.607 1441.28 156.779 1437.74 Q154.973 1434.17 151.339 1434.17 M151.339 1430.47 Q157.149 1430.47 160.205 1435.07 Q163.283 1439.66 163.283 1448.41 Q163.283 1457.13 160.205 1461.74 Q157.149 1466.32 151.339 1466.32 Q145.529 1466.32 142.45 1461.74 Q139.394 1457.13 139.394 1448.41 Q139.394 1439.66 142.45 1435.07 Q145.529 1430.47 151.339 1430.47 Z\" fill=\"#000000\" fill-rule=\"evenodd\" fill-opacity=\"1\" /><path clip-path=\"url(#clip750)\" d=\"M85.0429 1129.59 L101.362 1129.59 L101.362 1133.52 L79.4179 1133.52 L79.4179 1129.59 Q82.0799 1126.83 86.6632 1122.21 Q91.2697 1117.55 92.4502 1116.21 Q94.6956 1113.69 95.5752 1111.95 Q96.478 1110.19 96.478 1108.5 Q96.478 1105.75 94.5336 1104.01 Q92.6123 1102.27 89.5104 1102.27 Q87.3114 1102.27 84.8577 1103.04 Q82.4271 1103.8 79.6494 1105.35 L79.6494 1100.63 Q82.4734 1099.5 84.9271 1098.92 Q87.3808 1098.34 89.4178 1098.34 Q94.7882 1098.34 97.9826 1101.02 Q101.177 1103.71 101.177 1108.2 Q101.177 1110.33 100.367 1112.25 Q99.5798 1114.15 97.4734 1116.74 Q96.8947 1117.41 93.7928 1120.63 Q90.691 1123.83 85.0429 1129.59 Z\" fill=\"#000000\" fill-rule=\"evenodd\" fill-opacity=\"1\" /><path clip-path=\"url(#clip750)\" d=\"M111.223 1098.96 L129.58 1098.96 L129.58 1102.9 L115.506 1102.9 L115.506 1111.37 Q116.524 1111.02 117.543 1110.86 Q118.561 1110.68 119.58 1110.68 Q125.367 1110.68 128.746 1113.85 Q132.126 1117.02 132.126 1122.44 Q132.126 1128.02 128.654 1131.12 Q125.182 1134.2 118.862 1134.2 Q116.686 1134.2 114.418 1133.83 Q112.172 1133.46 109.765 1132.71 L109.765 1128.02 Q111.848 1129.15 114.07 1129.71 Q116.293 1130.26 118.77 1130.26 Q122.774 1130.26 125.112 1128.15 Q127.45 1126.05 127.45 1122.44 Q127.45 1118.83 125.112 1116.72 Q122.774 1114.61 118.77 1114.61 Q116.895 1114.61 115.02 1115.03 Q113.168 1115.45 111.223 1116.33 L111.223 1098.96 Z\" fill=\"#000000\" fill-rule=\"evenodd\" fill-opacity=\"1\" /><path clip-path=\"url(#clip750)\" d=\"M151.339 1102.04 Q147.728 1102.04 145.899 1105.61 Q144.093 1109.15 144.093 1116.28 Q144.093 1123.39 145.899 1126.95 Q147.728 1130.49 151.339 1130.49 Q154.973 1130.49 156.779 1126.95 Q158.607 1123.39 158.607 1116.28 Q158.607 1109.15 156.779 1105.61 Q154.973 1102.04 151.339 1102.04 M151.339 1098.34 Q157.149 1098.34 160.205 1102.95 Q163.283 1107.53 163.283 1116.28 Q163.283 1125.01 160.205 1129.61 Q157.149 1134.2 151.339 1134.2 Q145.529 1134.2 142.45 1129.61 Q139.394 1125.01 139.394 1116.28 Q139.394 1107.53 142.45 1102.95 Q145.529 1098.34 151.339 1098.34 Z\" fill=\"#000000\" fill-rule=\"evenodd\" fill-opacity=\"1\" /><path clip-path=\"url(#clip750)\" d=\"M81.0614 766.837 L99.4178 766.837 L99.4178 770.772 L85.3438 770.772 L85.3438 779.244 Q86.3623 778.897 87.3808 778.735 Q88.3993 778.55 89.4178 778.55 Q95.2049 778.55 98.5845 781.721 Q101.964 784.892 101.964 790.309 Q101.964 795.887 98.4919 798.989 Q95.0197 802.068 88.7003 802.068 Q86.5243 802.068 84.2558 801.698 Q82.0105 801.327 79.6031 800.586 L79.6031 795.887 Q81.6864 797.022 83.9086 797.577 Q86.1308 798.133 88.6077 798.133 Q92.6123 798.133 94.9502 796.026 Q97.2882 793.92 97.2882 790.309 Q97.2882 786.698 94.9502 784.591 Q92.6123 782.485 88.6077 782.485 Q86.7327 782.485 84.8577 782.901 Q83.0058 783.318 81.0614 784.198 L81.0614 766.837 Z\" fill=\"#000000\" fill-rule=\"evenodd\" fill-opacity=\"1\" /><path clip-path=\"url(#clip750)\" d=\"M121.177 769.915 Q117.566 769.915 115.737 773.48 Q113.932 777.022 113.932 784.151 Q113.932 791.258 115.737 794.823 Q117.566 798.364 121.177 798.364 Q124.811 798.364 126.617 794.823 Q128.445 791.258 128.445 784.151 Q128.445 777.022 126.617 773.48 Q124.811 769.915 121.177 769.915 M121.177 766.212 Q126.987 766.212 130.043 770.818 Q133.121 775.401 133.121 784.151 Q133.121 792.878 130.043 797.485 Q126.987 802.068 121.177 802.068 Q115.367 802.068 112.288 797.485 Q109.233 792.878 109.233 784.151 Q109.233 775.401 112.288 770.818 Q115.367 766.212 121.177 766.212 Z\" fill=\"#000000\" fill-rule=\"evenodd\" fill-opacity=\"1\" /><path clip-path=\"url(#clip750)\" d=\"M151.339 769.915 Q147.728 769.915 145.899 773.48 Q144.093 777.022 144.093 784.151 Q144.093 791.258 145.899 794.823 Q147.728 798.364 151.339 798.364 Q154.973 798.364 156.779 794.823 Q158.607 791.258 158.607 784.151 Q158.607 777.022 156.779 773.48 Q154.973 769.915 151.339 769.915 M151.339 766.212 Q157.149 766.212 160.205 770.818 Q163.283 775.401 163.283 784.151 Q163.283 792.878 160.205 797.485 Q157.149 802.068 151.339 802.068 Q145.529 802.068 142.45 797.485 Q139.394 792.878 139.394 784.151 Q139.394 775.401 142.45 770.818 Q145.529 766.212 151.339 766.212 Z\" fill=\"#000000\" fill-rule=\"evenodd\" fill-opacity=\"1\" /><path clip-path=\"url(#clip750)\" d=\"M79.8346 434.709 L102.057 434.709 L102.057 436.699 L89.5104 469.269 L84.6262 469.269 L96.4317 438.644 L79.8346 438.644 L79.8346 434.709 Z\" fill=\"#000000\" fill-rule=\"evenodd\" fill-opacity=\"1\" /><path clip-path=\"url(#clip750)\" d=\"M111.223 434.709 L129.58 434.709 L129.58 438.644 L115.506 438.644 L115.506 447.116 Q116.524 446.769 117.543 446.607 Q118.561 446.422 119.58 446.422 Q125.367 446.422 128.746 449.593 Q132.126 452.764 132.126 458.181 Q132.126 463.759 128.654 466.861 Q125.182 469.94 118.862 469.94 Q116.686 469.94 114.418 469.57 Q112.172 469.199 109.765 468.458 L109.765 463.759 Q111.848 464.894 114.07 465.449 Q116.293 466.005 118.77 466.005 Q122.774 466.005 125.112 463.898 Q127.45 461.792 127.45 458.181 Q127.45 454.57 125.112 452.463 Q122.774 450.357 118.77 450.357 Q116.895 450.357 115.02 450.773 Q113.168 451.19 111.223 452.07 L111.223 434.709 Z\" fill=\"#000000\" fill-rule=\"evenodd\" fill-opacity=\"1\" /><path clip-path=\"url(#clip750)\" d=\"M151.339 437.787 Q147.728 437.787 145.899 441.352 Q144.093 444.894 144.093 452.023 Q144.093 459.13 145.899 462.695 Q147.728 466.236 151.339 466.236 Q154.973 466.236 156.779 462.695 Q158.607 459.13 158.607 452.023 Q158.607 444.894 156.779 441.352 Q154.973 437.787 151.339 437.787 M151.339 434.084 Q157.149 434.084 160.205 438.69 Q163.283 443.273 163.283 452.023 Q163.283 460.75 160.205 465.357 Q157.149 469.94 151.339 469.94 Q145.529 469.94 142.45 465.357 Q139.394 460.75 139.394 452.023 Q139.394 443.273 142.45 438.69 Q145.529 434.084 151.339 434.084 Z\" fill=\"#000000\" fill-rule=\"evenodd\" fill-opacity=\"1\" /><path clip-path=\"url(#clip750)\" d=\"M51.6634 133.205 L59.3023 133.205 L59.3023 106.84 L50.9921 108.506 L50.9921 104.247 L59.256 102.581 L63.9319 102.581 L63.9319 133.205 L71.5707 133.205 L71.5707 137.141 L51.6634 137.141 L51.6634 133.205 Z\" fill=\"#000000\" fill-rule=\"evenodd\" fill-opacity=\"1\" /><path clip-path=\"url(#clip750)\" d=\"M91.0151 105.659 Q87.404 105.659 85.5753 109.224 Q83.7697 112.766 83.7697 119.895 Q83.7697 127.002 85.5753 130.567 Q87.404 134.108 91.0151 134.108 Q94.6493 134.108 96.4548 130.567 Q98.2835 127.002 98.2835 119.895 Q98.2835 112.766 96.4548 109.224 Q94.6493 105.659 91.0151 105.659 M91.0151 101.956 Q96.8252 101.956 99.8808 106.562 Q102.959 111.145 102.959 119.895 Q102.959 128.622 99.8808 133.229 Q96.8252 137.812 91.0151 137.812 Q85.2049 137.812 82.1262 133.229 Q79.0707 128.622 79.0707 119.895 Q79.0707 111.145 82.1262 106.562 Q85.2049 101.956 91.0151 101.956 Z\" fill=\"#000000\" fill-rule=\"evenodd\" fill-opacity=\"1\" /><path clip-path=\"url(#clip750)\" d=\"M121.177 105.659 Q117.566 105.659 115.737 109.224 Q113.932 112.766 113.932 119.895 Q113.932 127.002 115.737 130.567 Q117.566 134.108 121.177 134.108 Q124.811 134.108 126.617 130.567 Q128.445 127.002 128.445 119.895 Q128.445 112.766 126.617 109.224 Q124.811 105.659 121.177 105.659 M121.177 101.956 Q126.987 101.956 130.043 106.562 Q133.121 111.145 133.121 119.895 Q133.121 128.622 130.043 133.229 Q126.987 137.812 121.177 137.812 Q115.367 137.812 112.288 133.229 Q109.233 128.622 109.233 119.895 Q109.233 111.145 112.288 106.562 Q115.367 101.956 121.177 101.956 Z\" fill=\"#000000\" fill-rule=\"evenodd\" fill-opacity=\"1\" /><path clip-path=\"url(#clip750)\" d=\"M151.339 105.659 Q147.728 105.659 145.899 109.224 Q144.093 112.766 144.093 119.895 Q144.093 127.002 145.899 130.567 Q147.728 134.108 151.339 134.108 Q154.973 134.108 156.779 130.567 Q158.607 127.002 158.607 119.895 Q158.607 112.766 156.779 109.224 Q154.973 105.659 151.339 105.659 M151.339 101.956 Q157.149 101.956 160.205 106.562 Q163.283 111.145 163.283 119.895 Q163.283 128.622 160.205 133.229 Q157.149 137.812 151.339 137.812 Q145.529 137.812 142.45 133.229 Q139.394 128.622 139.394 119.895 Q139.394 111.145 142.45 106.562 Q145.529 101.956 151.339 101.956 Z\" fill=\"#000000\" fill-rule=\"evenodd\" fill-opacity=\"1\" /><circle clip-path=\"url(#clip752)\" cx=\"260.231\" cy=\"1445.72\" r=\"10.8\" fill=\"#add8e6\" fill-rule=\"evenodd\" fill-opacity=\"1\" stroke=\"#000000\" stroke-opacity=\"1\" stroke-width=\"3.2\"/>\n",
              "<circle clip-path=\"url(#clip752)\" cx=\"485.961\" cy=\"1443.06\" r=\"10.8\" fill=\"#add8e6\" fill-rule=\"evenodd\" fill-opacity=\"1\" stroke=\"#000000\" stroke-opacity=\"1\" stroke-width=\"3.2\"/>\n",
              "<circle clip-path=\"url(#clip752)\" cx=\"711.692\" cy=\"1437.74\" r=\"10.8\" fill=\"#add8e6\" fill-rule=\"evenodd\" fill-opacity=\"1\" stroke=\"#000000\" stroke-opacity=\"1\" stroke-width=\"3.2\"/>\n",
              "<circle clip-path=\"url(#clip752)\" cx=\"937.423\" cy=\"1427.12\" r=\"10.8\" fill=\"#add8e6\" fill-rule=\"evenodd\" fill-opacity=\"1\" stroke=\"#000000\" stroke-opacity=\"1\" stroke-width=\"3.2\"/>\n",
              "<circle clip-path=\"url(#clip752)\" cx=\"1163.15\" cy=\"1405.86\" r=\"10.8\" fill=\"#add8e6\" fill-rule=\"evenodd\" fill-opacity=\"1\" stroke=\"#000000\" stroke-opacity=\"1\" stroke-width=\"3.2\"/>\n",
              "<circle clip-path=\"url(#clip752)\" cx=\"1388.88\" cy=\"1363.35\" r=\"10.8\" fill=\"#add8e6\" fill-rule=\"evenodd\" fill-opacity=\"1\" stroke=\"#000000\" stroke-opacity=\"1\" stroke-width=\"3.2\"/>\n",
              "<circle clip-path=\"url(#clip752)\" cx=\"1614.62\" cy=\"1278.32\" r=\"10.8\" fill=\"#add8e6\" fill-rule=\"evenodd\" fill-opacity=\"1\" stroke=\"#000000\" stroke-opacity=\"1\" stroke-width=\"3.2\"/>\n",
              "<circle clip-path=\"url(#clip752)\" cx=\"1840.35\" cy=\"1108.27\" r=\"10.8\" fill=\"#add8e6\" fill-rule=\"evenodd\" fill-opacity=\"1\" stroke=\"#000000\" stroke-opacity=\"1\" stroke-width=\"3.2\"/>\n",
              "<circle clip-path=\"url(#clip752)\" cx=\"2066.08\" cy=\"715.034\" r=\"10.8\" fill=\"#add8e6\" fill-rule=\"evenodd\" fill-opacity=\"1\" stroke=\"#000000\" stroke-opacity=\"1\" stroke-width=\"3.2\"/>\n",
              "<circle clip-path=\"url(#clip752)\" cx=\"2291.81\" cy=\"87.9763\" r=\"10.8\" fill=\"#add8e6\" fill-rule=\"evenodd\" fill-opacity=\"1\" stroke=\"#000000\" stroke-opacity=\"1\" stroke-width=\"3.2\"/>\n",
              "</svg>\n"
            ]
          },
          "execution_count": 64,
          "metadata": {},
          "output_type": "execute_result"
        }
      ],
      "source": [
        "scatter(x, y, c=:lightblue, ms=3, leg=false)"
      ]
    }
  ],
  "metadata": {
    "kernelspec": {
      "display_name": "Julia 1.6.0",
      "language": "julia",
      "name": "julia-1.6"
    },
    "language_info": {
      "file_extension": ".jl",
      "mimetype": "application/julia",
      "name": "julia",
      "version": "1.6.0"
    },
    "colab": {
      "provenance": []
    }
  },
  "nbformat": 4,
  "nbformat_minor": 0
}