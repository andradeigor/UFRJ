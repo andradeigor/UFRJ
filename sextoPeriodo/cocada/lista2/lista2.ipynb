{
 "cells": [
  {
   "cell_type": "code",
   "execution_count": 2,
   "metadata": {},
   "outputs": [
    {
     "data": {
      "text/plain": [
       "5×5 Matrix{Float64}:\n",
       " 0.82  0.18  0.5  0.1  0.26\n",
       " 0.74  0.26  0.5  0.2  0.32\n",
       " 0.34  0.66  0.5  0.7  0.62\n",
       " 0.58  0.42  0.5  0.4  0.44\n",
       " 0.1   0.9   0.5  1.0  0.8"
      ]
     },
     "metadata": {},
     "output_type": "display_data"
    }
   ],
   "source": [
    "matrizUsuariosFilmes = [0.82  0.18  0.50  0.10  0.26 \n",
    "0.74  0.26  0.50  0.20  0.32 \n",
    "0.34  0.66  0.50  0.70  0.62 \n",
    "0.58  0.42  0.50  0.40  0.44 \n",
    "0.10  0.90  0.50  1.00  0.80]"
   ]
  },
  {
   "cell_type": "code",
   "execution_count": 3,
   "metadata": {},
   "outputs": [],
   "source": [
    "using LinearAlgebra\n",
    "using Printf\n",
    "\n"
   ]
  },
  {
   "cell_type": "code",
   "execution_count": 4,
   "metadata": {},
   "outputs": [
    {
     "name": "stdout",
     "output_type": "stream",
     "text": [
      "A distância entre os vetores de linha [1 e 2] foi = 0.162481\n",
      "A distância entre os vetores de linha [1 e 3] foi = 0.974885\n",
      "A distância entre os vetores de linha [1 e 4] foi = 0.487442\n",
      "A distância entre os vetores de linha [1 e 5] foi = 1.462327\n",
      "A distância entre os vetores de linha [2 e 3] foi = 0.812404\n",
      "A distância entre os vetores de linha [2 e 4] foi = 0.324962\n",
      "A distância entre os vetores de linha [2 e 5] foi = 1.299846\n",
      "A distância entre os vetores de linha [3 e 4] foi = 0.487442\n",
      "A distância entre os vetores de linha [3 e 5] foi = 0.487442\n",
      "A distância entre os vetores de linha [4 e 5] foi = 0.974885\n"
     ]
    }
   ],
   "source": [
    "for i=1:size(matrizUsuariosFilmes, 1)\n",
    "    for j=i+1:size(matrizUsuariosFilmes, 1)\n",
    "        @printf(\"A distância entre os vetores de linha [%d e %d] foi = %lf\\n\",i,j,(norm(matrizUsuariosFilmes[i,:] - matrizUsuariosFilmes[j,:])))\n",
    "    end\n",
    "end"
   ]
  },
  {
   "cell_type": "code",
   "execution_count": 5,
   "metadata": {},
   "outputs": [
    {
     "name": "stdout",
     "output_type": "stream",
     "text": [
      "0.1624807680927192\n",
      "0.9748846085563152\n",
      "0.48744230427815766\n",
      "1.462326912834473\n",
      "0.812403840463596\n",
      "0.32496153618543844\n",
      "1.2998461447417538\n",
      "0.48744230427815755\n",
      "0.4874423042781577\n",
      "0.9748846085563152\n"
     ]
    }
   ],
   "source": [
    "for i=1:size(matrizUsuariosFilmes, 1)\n",
    "    for j=i+1:size(matrizUsuariosFilmes, 1)\n",
    "        println(norm(matrizUsuariosFilmes[i,:] - matrizUsuariosFilmes[j,:]))\n",
    "    end\n",
    "end"
   ]
  },
  {
   "cell_type": "code",
   "execution_count": 6,
   "metadata": {},
   "outputs": [
    {
     "data": {
      "text/plain": [
       "3"
      ]
     },
     "metadata": {},
     "output_type": "display_data"
    }
   ],
   "source": [
    "a = [0 2 0 2 0\n",
    "0 2 0 2 0\n",
    "0 0 1 0 0\n",
    "2 0 0 0 2\n",
    "0 2 2 2 0 ]\n",
    "rank(a)"
   ]
  },
  {
   "cell_type": "code",
   "execution_count": 68,
   "metadata": {},
   "outputs": [
    {
     "data": {
      "text/plain": [
       "LU (generic function with 1 method)"
      ]
     },
     "metadata": {},
     "output_type": "display_data"
    }
   ],
   "source": []
  },
  {
   "cell_type": "code",
   "execution_count": 75,
   "metadata": {},
   "outputs": [
    {
     "name": "stdout",
     "output_type": "stream",
     "text": [
      "[2 1 1 1; 4 5 4 2; 6 15 16 3]\n"
     ]
    },
    {
     "name": "stdout",
     "output_type": "stream",
     "text": [
      "alo2"
     ]
    },
    {
     "ename": "DimensionMismatch",
     "evalue": "DimensionMismatch(\"tried to assign 3-element array to 4×1 destination\")",
     "output_type": "error",
     "traceback": [
      "DimensionMismatch(\"tried to assign 3-element array to 4×1 destination\")\n",
      "\n",
      "Stacktrace:\n",
      " [1] throw_setindex_mismatch(X::Vector{Float64}, I::Tuple{Int64, Int64})\n",
      "   @ Base ./indices.jl:193\n",
      " [2] setindex_shape_check\n",
      "   @ ./indices.jl:248 [inlined]\n",
      " [3] _unsafe_setindex!(::IndexLinear, ::Matrix{Float64}, ::Vector{Float64}, ::Base.Slice{Base.OneTo{Int64}}, ::Int64)\n",
      "   @ Base ./multidimensional.jl:903\n",
      " [4] _setindex!\n",
      "   @ ./multidimensional.jl:894 [inlined]\n",
      " [5] setindex!\n",
      "   @ ./abstractarray.jl:1315 [inlined]\n",
      " [6] LU(A::Matrix{Int64})\n",
      "   @ Main ~/COMP/UFRJ/sextoPeriodo/cocada/lista2/lista2.ipynb:10\n",
      " [7] top-level scope\n",
      "   @ ~/COMP/UFRJ/sextoPeriodo/cocada/lista2/lista2.ipynb:61"
     ]
    }
   ],
   "source": [
    "function LU(A) #vamos A é quadrada nxn\n",
    "    n,n=size(A)\n",
    "    L=zeros(n,n)\n",
    "    U=zeros(n,n)\n",
    "    for i=1:n\n",
    "        pivô=A[i,i]\n",
    "        linha=A[i,:]\n",
    "        print(\"alo2\")\n",
    "        coluna=(1/pivô)*A[:,i]\n",
    "        L[:,i]=coluna #i-ésima coluna da L\n",
    "        U[i,:]=linha #i-ésima linha da U\n",
    "        A=A-coluna*linha'\n",
    "    end\n",
    "    print(\"ola\")\n",
    "    return L,U\n",
    "end\n",
    "\n",
    "function subs_direta(L,b)\n",
    "    n = size(L,1)\n",
    "    x = zeros(n,1)\n",
    "    for i=1:n\n",
    "        direito = b[i]\n",
    "        for j=1:i-1\n",
    "            direito-= x[j]*L[i,j]\n",
    "        end\n",
    "        x[i] = direito/L[i,i]\n",
    "    end\n",
    "    return x\n",
    "end\n",
    "function subs_reversa(L,b)\n",
    "    n = size(L,1)\n",
    "    x = zeros(n,1)\n",
    "    for i=n:-1:1\n",
    "        direito = b[i]\n",
    "        println(direito)\n",
    "        for j=i+1:n\n",
    "            println(i,j)\n",
    "            direito-= x[j]*L[i,j]\n",
    "        end\n",
    "        x[i] = direito/L[i,i]\n",
    "    end\n",
    "    return x\n",
    "end\n",
    "function inversa(L,U)\n",
    "    n = size(L,1)\n",
    "    identidade = zeros(n,n)\n",
    "    A = zeros(n,n)\n",
    "    for i=1:n\n",
    "        identidade[i,i] = 1\n",
    "        aux = subs_direta(L,identidade[:,i])\n",
    "        resp = subs_reversa(U,aux)\n",
    "        A[:,i] = resp\n",
    "    end\n",
    "    return A    \n",
    "end\n",
    "\n",
    "matriz = [2 1 1 1\n",
    "4 5 4 2\n",
    "6 15 16 3]\n",
    "println(matriz)\n",
    "L,U = LU(matriz)\n",
    "println(\"alo\")\n",
    "A = inversa(matriz,L,U)\n",
    "A * matriz\n",
    "#identidade=[1 0 0\n",
    "#            0 1 0\n",
    "#            0 0 1]\n"
   ]
  },
  {
   "cell_type": "code",
   "execution_count": 34,
   "metadata": {},
   "outputs": [
    {
     "data": {
      "text/plain": [
       "determinante (generic function with 1 method)"
      ]
     },
     "metadata": {},
     "output_type": "display_data"
    }
   ],
   "source": [
    "function determinante(L,U)\n",
    "    detL = 1\n",
    "    detU = 1\n",
    "    for i=1:size(L,1) \n",
    "        detL*=L[i,i]\n",
    "        detU*=U[i,i]\n",
    "    end\n",
    "    return detL*detU\n",
    "end"
   ]
  },
  {
   "cell_type": "code",
   "execution_count": 35,
   "metadata": {},
   "outputs": [
    {
     "data": {
      "text/plain": [
       "30.0"
      ]
     },
     "metadata": {},
     "output_type": "display_data"
    }
   ],
   "source": [
    "determinante(L,U)"
   ]
  },
  {
   "cell_type": "code",
   "execution_count": null,
   "metadata": {},
   "outputs": [],
   "source": [
    "function SistemaOn2(U,L,Z,Q,b)\n",
    "    bLinha = L*b\n",
    "    xLinha = subs_direta(L,bLinha)\n",
    "    xLinha2 = subs_direta(L,xLinha)\n",
    "    xLinha3 = Q'*xLinha2\n",
    "    xLinha4 = subs_reversa(U,xLinha3)\n",
    "    return Z*xLinha4\n",
    "end"
   ]
  }
 ],
 "metadata": {
  "kernelspec": {
   "display_name": "Julia 1.7.2",
   "language": "julia",
   "name": "julia-1.7"
  },
  "language_info": {
   "file_extension": ".jl",
   "mimetype": "application/julia",
   "name": "julia",
   "version": "1.7.2"
  },
  "orig_nbformat": 4
 },
 "nbformat": 4,
 "nbformat_minor": 2
}
