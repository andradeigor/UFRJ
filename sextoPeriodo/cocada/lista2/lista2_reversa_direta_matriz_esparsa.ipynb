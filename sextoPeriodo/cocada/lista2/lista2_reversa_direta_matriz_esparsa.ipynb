{
 "cells": [
  {
   "cell_type": "code",
   "execution_count": 25,
   "metadata": {},
   "outputs": [],
   "source": [
    "using LinearAlgebra"
   ]
  },
  {
   "cell_type": "code",
   "execution_count": 26,
   "metadata": {},
   "outputs": [
    {
     "data": {
      "text/plain": [
       "subs_reversa (generic function with 1 method)"
      ]
     },
     "metadata": {},
     "output_type": "display_data"
    }
   ],
   "source": [
    "function subs_direta(L,b)\n",
    "    n = size(L,1)\n",
    "    x = zeros(n,1)\n",
    "    for i=1:n\n",
    "        direito = b[i]\n",
    "        for j=1:i-1\n",
    "            direito-= x[j]*L[i,j]\n",
    "        end\n",
    "        x[i] = direito/L[i,i]\n",
    "    end\n",
    "    return x\n",
    "end\n",
    "function subs_reversa(L,b)\n",
    "    n = size(L,1)\n",
    "    x = zeros(n,1)\n",
    "    for i=n:-1:1\n",
    "        direito = b[i]\n",
    "        println(direito)\n",
    "        for j=i+1:n\n",
    "            println(i,j)\n",
    "            direito-= x[j]*L[i,j]\n",
    "        end\n",
    "        x[i] = direito/L[i,i]\n",
    "    end\n",
    "    return x\n",
    "end"
   ]
  },
  {
   "cell_type": "code",
   "execution_count": 10,
   "metadata": {},
   "outputs": [
    {
     "data": {
      "text/plain": [
       "3×1 Matrix{Float64}:\n",
       " 0.0\n",
       " 4.0\n",
       " 2.0"
      ]
     },
     "metadata": {},
     "output_type": "display_data"
    }
   ],
   "source": [
    "function esparsaPorVetor(matriz,vetor)\n",
    "    result = zeros(size(vetor,1),1)\n",
    "    for i=1:size(matriz,1)\n",
    "        linha = matriz[i][1]\n",
    "        coluna = matriz[i][2]\n",
    "        valor = matriz[i][3]\n",
    "        result[linha]+=valor*vetor[coluna]\n",
    "    end\n",
    "    return result\n",
    "end\n",
    "matriz = [[2,2,1],[2,1,1],[3,3,1]] #3x3\n",
    "vetor = [3;1;2]\n",
    "\n",
    "resultado = esparsaPorVetor(matriz,vetor)\n"
   ]
  }
 ],
 "metadata": {
  "kernelspec": {
   "display_name": "Julia 1.7.2",
   "language": "julia",
   "name": "julia-1.7"
  },
  "language_info": {
   "file_extension": ".jl",
   "mimetype": "application/julia",
   "name": "julia",
   "version": "1.7.2"
  },
  "orig_nbformat": 4
 },
 "nbformat": 4,
 "nbformat_minor": 2
}
